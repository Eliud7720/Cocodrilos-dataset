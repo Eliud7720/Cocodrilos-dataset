{
 "cells": [
  {
   "cell_type": "markdown",
   "id": "cb10661b",
   "metadata": {},
   "source": [
    "# Index\n",
    "<hr>"
   ]
  },
  {
   "cell_type": "markdown",
   "id": "f33c5797",
   "metadata": {},
   "source": []
  },
  {
   "cell_type": "markdown",
   "id": "2199ff36",
   "metadata": {},
   "source": [
    "# 1.- Load data\n",
    "<hr>"
   ]
  },
  {
   "cell_type": "markdown",
   "id": "83a9fba7",
   "metadata": {},
   "source": [
    "<div align=\"center\">\n",
    "  <img src=\"Cocodrilo.jpg\" alt=\"Barra\" width=\"600\" height=\"200\">\n",
    "</div>"
   ]
  },
  {
   "cell_type": "code",
   "execution_count": 1,
   "id": "031af63e",
   "metadata": {},
   "outputs": [],
   "source": [
    "import pandas as pd\n",
    "\n",
    "#df = pd.read_csv(\"crocodile_dataset.csv\", sep=\",\", header=0, index_col=0, usecols=[\"Common Name\", \"Date of Observation\"])\n",
    "df = pd.read_csv(\"crocodile_dataset.csv\")\n",
    "# FilePath = Ruta al archivo\n",
    "# sep = Denota cómo están separados las columnas (defecto la coma)\n",
    "# delimiter = Define cuál es el final de cada línea\n",
    "# header = define cuál es la línea que tiene los encabezados o títulos por defecto es 0.\n",
    "# usecols = define cuáles columnas quieres recuperar o utilizar"
   ]
  },
  {
   "cell_type": "code",
   "execution_count": 2,
   "id": "190f0d6d",
   "metadata": {},
   "outputs": [
    {
     "data": {
      "application/vnd.microsoft.datawrangler.viewer.v0+json": {
       "columns": [
        {
         "name": "index",
         "rawType": "int64",
         "type": "integer"
        },
        {
         "name": "Observation ID",
         "rawType": "int64",
         "type": "integer"
        },
        {
         "name": "Common Name",
         "rawType": "object",
         "type": "string"
        },
        {
         "name": "Scientific Name",
         "rawType": "object",
         "type": "string"
        },
        {
         "name": "Family",
         "rawType": "object",
         "type": "string"
        },
        {
         "name": "Genus",
         "rawType": "object",
         "type": "string"
        },
        {
         "name": "Observed Length (m)",
         "rawType": "float64",
         "type": "float"
        },
        {
         "name": "Observed Weight (kg)",
         "rawType": "float64",
         "type": "float"
        },
        {
         "name": "Age Class",
         "rawType": "object",
         "type": "string"
        },
        {
         "name": "Sex",
         "rawType": "object",
         "type": "string"
        },
        {
         "name": "Date of Observation",
         "rawType": "object",
         "type": "string"
        },
        {
         "name": "Country/Region",
         "rawType": "object",
         "type": "string"
        },
        {
         "name": "Habitat Type",
         "rawType": "object",
         "type": "string"
        },
        {
         "name": "Conservation Status",
         "rawType": "object",
         "type": "string"
        },
        {
         "name": "Observer Name",
         "rawType": "object",
         "type": "string"
        },
        {
         "name": "Notes",
         "rawType": "object",
         "type": "string"
        }
       ],
       "ref": "e4aa3717-be2a-48da-928e-066506ae926e",
       "rows": [
        [
         "0",
         "1",
         "Morelet's Crocodile",
         "Crocodylus moreletii",
         "Crocodylidae",
         "Crocodylus",
         "1.9",
         "62.0",
         "Adult",
         "Male",
         "31-03-2018",
         "Belize",
         "Swamps",
         "Least Concern",
         "Allison Hill",
         "Cause bill scientist nation opportunity."
        ],
        [
         "1",
         "2",
         "American Crocodile",
         "Crocodylus acutus",
         "Crocodylidae",
         "Crocodylus",
         "4.09",
         "334.5",
         "Adult",
         "Male",
         "28-01-2015",
         "Venezuela",
         "Mangroves",
         "Vulnerable",
         "Brandon Hall",
         "Ago current practice nation determine operation speak according."
        ],
        [
         "2",
         "3",
         "Orinoco Crocodile",
         "Crocodylus intermedius",
         "Crocodylidae",
         "Crocodylus",
         "1.08",
         "118.2",
         "Juvenile",
         "Unknown",
         "07-12-2010",
         "Venezuela",
         "Flooded Savannas",
         "Critically Endangered",
         "Melissa Peterson",
         "Democratic shake bill here grow gas enough analysis least by two."
        ],
        [
         "3",
         "4",
         "Morelet's Crocodile",
         "Crocodylus moreletii",
         "Crocodylidae",
         "Crocodylus",
         "2.42",
         "90.4",
         "Adult",
         "Male",
         "01-11-2019",
         "Mexico",
         "Rivers",
         "Least Concern",
         "Edward Fuller",
         "Officer relate animal direction eye bag do."
        ],
        [
         "4",
         "5",
         "Mugger Crocodile (Marsh Crocodile)",
         "Crocodylus palustris",
         "Crocodylidae",
         "Crocodylus",
         "3.75",
         "269.4",
         "Adult",
         "Unknown",
         "15-07-2019",
         "India",
         "Rivers",
         "Vulnerable",
         "Donald Reid",
         "Class great prove reduce raise author play move each left establish understand read detail."
        ],
        [
         "5",
         "6",
         "Mugger Crocodile (Marsh Crocodile)",
         "Crocodylus palustris",
         "Crocodylidae",
         "Crocodylus",
         "2.64",
         "137.4",
         "Adult",
         "Male",
         "08-06-2023",
         "India",
         "Reservoirs",
         "Vulnerable",
         "Randy Brown",
         "Source husband at tree note responsibility defense."
        ],
        [
         "6",
         "7",
         "Siamese Crocodile",
         "Crocodylus siamensis",
         "Crocodylidae",
         "Crocodylus",
         "2.85",
         "157.7",
         "Subadult",
         "Male",
         "10-12-2010",
         "Thailand",
         "Slow Rivers",
         "Critically Endangered",
         "Dr. Marvin Thomas Jr.",
         "Much section investment on gun young catch management sense technology check civil quite others his other life edge."
        ],
        [
         "7",
         "8",
         "Congo Dwarf Crocodile",
         "Osteolaemus osborni",
         "Crocodylidae",
         "Osteolaemus",
         "0.35",
         "4.7",
         "Juvenile",
         "Unknown",
         "03-08-2008",
         "Central African Republic",
         "Forest Swamps",
         "Data Deficient",
         "Terri Frazier",
         "Race Mr environment political born itself law west."
        ],
        [
         "8",
         "9",
         "West African Crocodile",
         "Crocodylus suchus",
         "Crocodylidae",
         "Crocodylus",
         "3.05",
         "201.2",
         "Adult",
         "Male",
         "16-04-2020",
         "Sudan",
         "Lakes",
         "Least Concern",
         "Deborah Mason",
         "Medical blood personal success medical current hear claim well."
        ],
        [
         "9",
         "10",
         "Morelet's Crocodile",
         "Crocodylus moreletii",
         "Crocodylidae",
         "Crocodylus",
         "3.39",
         "197.2",
         "Adult",
         "Male",
         "21-05-2016",
         "Mexico",
         "Lagoons",
         "Least Concern",
         "Tamara George",
         "Affect upon these story film around there water beat magazine attorney set."
        ],
        [
         "10",
         "11",
         "West African Dwarf Crocodile",
         "Osteolaemus tetraspis",
         "Crocodylidae",
         "Osteolaemus",
         "1.22",
         "15.8",
         "Adult",
         "Male",
         "08-06-2018",
         "Liberia",
         "Small Streams",
         "Vulnerable",
         "Betty Alvarez",
         "Close month parent who up sense ready."
        ],
        [
         "11",
         "12",
         "Morelet's Crocodile",
         "Crocodylus moreletii",
         "Crocodylidae",
         "Crocodylus",
         "1.84",
         "60.7",
         "Adult",
         "Male",
         "19-10-2019",
         "Belize",
         "Lagoons",
         "Least Concern",
         "Jennifer Powers",
         "Just military building different full open discover detail."
        ],
        [
         "12",
         "13",
         "Siamese Crocodile",
         "Crocodylus siamensis",
         "Crocodylidae",
         "Crocodylus",
         "2.63",
         "121.3",
         "Subadult",
         "Unknown",
         "16-02-2015",
         "Cambodia",
         "Slow Rivers",
         "Critically Endangered",
         "Mark Perez",
         "Teacher audience draw protect Democrat."
        ],
        [
         "13",
         "14",
         "American Crocodile",
         "Crocodylus acutus",
         "Crocodylidae",
         "Crocodylus",
         "3.65",
         "217.7",
         "Adult",
         "Male",
         "07-07-2006",
         "Mexico",
         "Mangroves",
         "Vulnerable",
         "Timothy Duncan",
         "Drug list imagine behind probably great in tell."
        ],
        [
         "14",
         "15",
         "West African Dwarf Crocodile",
         "Osteolaemus tetraspis",
         "Crocodylidae",
         "Osteolaemus",
         "1.32",
         "19.2",
         "Adult",
         "Female",
         "14-06-2010",
         "Côte d'Ivoire",
         "Small Streams",
         "Vulnerable",
         "Matthew Lucas",
         "I fund technology eat couple large."
        ],
        [
         "15",
         "16",
         "Morelet's Crocodile",
         "Crocodylus moreletii",
         "Crocodylidae",
         "Crocodylus",
         "2.0",
         "67.9",
         "Adult",
         "Unknown",
         "18-03-2007",
         "Mexico",
         "Rivers",
         "Least Concern",
         "Donald Wright",
         "Kitchen technology nearly anything yourself structure why."
        ],
        [
         "16",
         "17",
         "Morelet's Crocodile",
         "Crocodylus moreletii",
         "Crocodylidae",
         "Crocodylus",
         "1.98",
         "61.5",
         "Juvenile",
         "Unknown",
         "14-03-2007",
         "Mexico",
         "Lagoons",
         "Least Concern",
         "Sarah Martin",
         "Loss ten total clearly able hospital unit size expect recent room situation product main couple design around."
        ],
        [
         "17",
         "18",
         "Nile Crocodile",
         "Crocodylus niloticus",
         "Crocodylidae",
         "Crocodylus",
         "4.37",
         "565.0",
         "Adult",
         "Female",
         "13-10-2025",
         "Sudan",
         "Reservoirs",
         "Least Concern",
         "Amy Edwards",
         "Once me system church whether bag."
        ],
        [
         "18",
         "19",
         "Borneo Crocodile (disputed)",
         "Crocodylus raninus",
         "Crocodylidae",
         "Crocodylus",
         "1.07",
         "31.1",
         "Juvenile",
         "Unknown",
         "28-02-2017",
         "Indonesia (Borneo)",
         "Estuarine Systems",
         "Data Deficient",
         "Kurt Leonard",
         "Identify walk now often always."
        ],
        [
         "19",
         "20",
         "Saltwater Crocodile",
         "Crocodylus porosus",
         "Crocodylidae",
         "Crocodylus",
         "1.55",
         "350.9",
         "Juvenile",
         "Male",
         "26-12-2017",
         "Philippines",
         "Estuaries",
         "Least Concern",
         "Matthew Cunningham",
         "Various daughter respond draw how public feel."
        ],
        [
         "20",
         "21",
         "Borneo Crocodile (disputed)",
         "Crocodylus raninus",
         "Crocodylidae",
         "Crocodylus",
         "2.52",
         "89.6",
         "Subadult",
         "Unknown",
         "24-09-2011",
         "Malaysia (Borneo)",
         "Estuarine Systems",
         "Data Deficient",
         "Paul Jones",
         "Perform none beyond Mrs media car give attention."
        ],
        [
         "21",
         "22",
         "Nile Crocodile",
         "Crocodylus niloticus",
         "Crocodylidae",
         "Crocodylus",
         "4.65",
         "759.8",
         "Adult",
         "Male",
         "16-04-2013",
         "Tanzania",
         "Lakes",
         "Least Concern",
         "Dustin Kim",
         "Region particularly would pressure account stage federal professional voice care break blood network evening painting response."
        ],
        [
         "22",
         "23",
         "Congo Dwarf Crocodile",
         "Osteolaemus osborni",
         "Crocodylidae",
         "Osteolaemus",
         "1.77",
         "36.0",
         "Adult",
         "Male",
         "07-12-2010",
         "Congo (DRC)",
         "Forest Swamps",
         "Data Deficient",
         "Mark Baker",
         "Economy traditional anything plant stop analysis four capital woman claim kind relationship night born war real chance."
        ],
        [
         "23",
         "24",
         "Cuban Crocodile",
         "Crocodylus rhombifer",
         "Crocodylidae",
         "Crocodylus",
         "2.44",
         "107.9",
         "Subadult",
         "Male",
         "27-01-2007",
         "Cuba",
         "Swamps",
         "Critically Endangered",
         "Jacob Tran",
         "Camera final together someone team together."
        ],
        [
         "24",
         "25",
         "Nile Crocodile",
         "Crocodylus niloticus",
         "Crocodylidae",
         "Crocodylus",
         "3.18",
         "342.1",
         "Juvenile",
         "Male",
         "28-03-2017",
         "Kenya",
         "Marshes",
         "Least Concern",
         "David Garcia",
         "This image per choice upon ten wish specific thing agent say forward us soon ten specific environment skin."
        ],
        [
         "25",
         "26",
         "Cuban Crocodile",
         "Crocodylus rhombifer",
         "Crocodylidae",
         "Crocodylus",
         "0.34",
         "42.4",
         "Hatchling",
         "Unknown",
         "23-04-2007",
         "Cuba",
         "Swamps",
         "Critically Endangered",
         "Shane Garrison",
         "Current truth glass star the development process."
        ],
        [
         "26",
         "27",
         "Mugger Crocodile (Marsh Crocodile)",
         "Crocodylus palustris",
         "Crocodylidae",
         "Crocodylus",
         "3.39",
         "174.9",
         "Adult",
         "Female",
         "20-07-2022",
         "Pakistan",
         "Rivers",
         "Vulnerable",
         "Donald Jones",
         "Go meeting quickly such former agree theory end oil."
        ],
        [
         "27",
         "28",
         "Orinoco Crocodile",
         "Crocodylus intermedius",
         "Crocodylidae",
         "Crocodylus",
         "3.94",
         "367.9",
         "Subadult",
         "Male",
         "21-10-2019",
         "Venezuela",
         "Flooded Savannas",
         "Critically Endangered",
         "Mrs. Linda Reed",
         "Job worker break tonight couple and job mind southern rather vote."
        ],
        [
         "28",
         "29",
         "Siamese Crocodile",
         "Crocodylus siamensis",
         "Crocodylidae",
         "Crocodylus",
         "3.22",
         "196.6",
         "Adult",
         "Unknown",
         "05-06-2012",
         "Cambodia",
         "Slow Rivers",
         "Critically Endangered",
         "Christina Reynolds",
         "Perhaps professional by tonight medical project for recent never court."
        ],
        [
         "29",
         "30",
         "Orinoco Crocodile",
         "Crocodylus intermedius",
         "Crocodylidae",
         "Crocodylus",
         "4.71",
         "576.6",
         "Adult",
         "Female",
         "07-08-2018",
         "Venezuela",
         "Flooded Savannas",
         "Critically Endangered",
         "Jamie Adkins",
         "Past feeling nature a expert involve oil."
        ],
        [
         "30",
         "31",
         "Siamese Crocodile",
         "Crocodylus siamensis",
         "Crocodylidae",
         "Crocodylus",
         "2.04",
         "80.2",
         "Adult",
         "Unknown",
         "16-01-2020",
         "Thailand",
         "Swamps",
         "Critically Endangered",
         "Julie Ramos",
         "Memory soldier where save probably exist professional people behavior weight."
        ],
        [
         "31",
         "32",
         "American Crocodile",
         "Crocodylus acutus",
         "Crocodylidae",
         "Crocodylus",
         "4.11",
         "324.4",
         "Adult",
         "Female",
         "10-01-2014",
         "USA (Florida)",
         "Mangroves",
         "Vulnerable",
         "Eric Drake",
         "Agency each little sure authority increase picture create recent manager."
        ],
        [
         "32",
         "33",
         "Cuban Crocodile",
         "Crocodylus rhombifer",
         "Crocodylidae",
         "Crocodylus",
         "2.42",
         "85.6",
         "Adult",
         "Female",
         "16-04-2017",
         "Cuba",
         "Swamps",
         "Critically Endangered",
         "Matthew Smith",
         "Sing despite sound receive let newspaper true."
        ],
        [
         "33",
         "34",
         "Philippine Crocodile",
         "Crocodylus mindorensis",
         "Crocodylidae",
         "Crocodylus",
         "1.01",
         "28.9",
         "Juvenile",
         "Unknown",
         "22-10-2008",
         "Philippines",
         "Rivers",
         "Critically Endangered",
         "Casey Marshall",
         "Write other wear through partner rest measure store natural today season listen else easy point she miss."
        ],
        [
         "34",
         "35",
         "New Guinea Crocodile",
         "Crocodylus novaeguineae",
         "Crocodylidae",
         "Crocodylus",
         "0.76",
         "36.7",
         "Juvenile",
         "Unknown",
         "23-01-2024",
         "Papua New Guinea",
         "Swamps",
         "Least Concern",
         "Denise Jones",
         "Doctor from throw ball character him check degree increase former letter."
        ],
        [
         "35",
         "36",
         "Philippine Crocodile",
         "Crocodylus mindorensis",
         "Crocodylidae",
         "Crocodylus",
         "2.26",
         "84.2",
         "Adult",
         "Male",
         "17-06-2022",
         "Philippines",
         "Freshwater Marshes",
         "Critically Endangered",
         "Ross Price",
         "Watch affect thing offer local wall fear hope through structure."
        ],
        [
         "36",
         "37",
         "West African Dwarf Crocodile",
         "Osteolaemus tetraspis",
         "Crocodylidae",
         "Osteolaemus",
         "1.48",
         "21.9",
         "Adult",
         "Female",
         "10-12-2021",
         "Côte d'Ivoire",
         "Small Streams",
         "Vulnerable",
         "Morgan Marsh",
         "Major event magazine home protect something right subject try wonder move trade."
        ],
        [
         "37",
         "38",
         "West African Slender-snouted Crocodile",
         "Mecistops cataphractus",
         "Crocodylidae",
         "Mecistops",
         "2.96",
         "182.7",
         "Adult",
         "Unknown",
         "14-05-2010",
         "Liberia",
         "Swamps",
         "Critically Endangered",
         "Mary Miller",
         "Career left anyone here deep force seven."
        ],
        [
         "38",
         "39",
         "Freshwater Crocodile (Johnstone's)",
         "Crocodylus johnstoni",
         "Crocodylidae",
         "Crocodylus",
         "1.05",
         "24.0",
         "Juvenile",
         "Female",
         "30-04-2014",
         "Australia",
         "Freshwater Rivers",
         "Least Concern",
         "Paul Decker",
         "Strong like see appear weight difference attention whatever American all easy."
        ],
        [
         "39",
         "40",
         "West African Crocodile",
         "Crocodylus suchus",
         "Crocodylidae",
         "Crocodylus",
         "2.72",
         "150.3",
         "Subadult",
         "Female",
         "27-01-2017",
         "Senegal",
         "Oases",
         "Least Concern",
         "Lisa Allen",
         "Prove nor design record short cold parent security boy standard who blue agent find quality when."
        ],
        [
         "40",
         "41",
         "Mugger Crocodile (Marsh Crocodile)",
         "Crocodylus palustris",
         "Crocodylidae",
         "Crocodylus",
         "3.25",
         "195.6",
         "Adult",
         "Unknown",
         "14-09-2008",
         "Pakistan",
         "Rivers",
         "Vulnerable",
         "Miguel Jones",
         "Drug recent feeling range south someone not American mouth product attention positive actually information majority item gun through least."
        ],
        [
         "41",
         "42",
         "Nile Crocodile",
         "Crocodylus niloticus",
         "Crocodylidae",
         "Crocodylus",
         "3.57",
         "387.4",
         "Subadult",
         "Female",
         "27-01-2022",
         "South Africa",
         "Marshes",
         "Least Concern",
         "Christopher Boyd",
         "Pattern try simple let stay or focus early various everything late."
        ],
        [
         "42",
         "43",
         "Siamese Crocodile",
         "Crocodylus siamensis",
         "Crocodylidae",
         "Crocodylus",
         "0.29",
         "33.2",
         "Hatchling",
         "Unknown",
         "02-06-2008",
         "Thailand",
         "Slow Rivers",
         "Critically Endangered",
         "Laura Barnett",
         "Agreement surface consider deep something future they red everybody act way beat result."
        ],
        [
         "43",
         "44",
         "Morelet's Crocodile",
         "Crocodylus moreletii",
         "Crocodylidae",
         "Crocodylus",
         "2.33",
         "74.0",
         "Adult",
         "Unknown",
         "10-02-2021",
         "Mexico",
         "Swamps",
         "Least Concern",
         "Peter Vaughn DDS",
         "Large admit family identify during professional hard network gas you nearly goal."
        ],
        [
         "44",
         "45",
         "Morelet's Crocodile",
         "Crocodylus moreletii",
         "Crocodylidae",
         "Crocodylus",
         "2.5",
         "90.6",
         "Adult",
         "Male",
         "15-09-2006",
         "Guatemala",
         "Lagoons",
         "Least Concern",
         "Eric Hall",
         "Firm sea week real course school everybody."
        ],
        [
         "45",
         "46",
         "Morelet's Crocodile",
         "Crocodylus moreletii",
         "Crocodylidae",
         "Crocodylus",
         "2.52",
         "104.1",
         "Adult",
         "Male",
         "15-10-2012",
         "Guatemala",
         "Rivers",
         "Least Concern",
         "Paige Carlson",
         "Strategy fast guess few remain call animal."
        ],
        [
         "46",
         "47",
         "American Crocodile",
         "Crocodylus acutus",
         "Crocodylidae",
         "Crocodylus",
         "3.04",
         "155.0",
         "Adult",
         "Unknown",
         "30-12-2024",
         "Colombia",
         "Estuaries",
         "Vulnerable",
         "Edgar Raymond",
         "Bill activity expect long future whole education technology box assume man officer rather charge."
        ],
        [
         "47",
         "48",
         "Orinoco Crocodile",
         "Crocodylus intermedius",
         "Crocodylidae",
         "Crocodylus",
         "3.4",
         "316.6",
         "Subadult",
         "Female",
         "25-03-2012",
         "Venezuela",
         "Large Rivers",
         "Critically Endangered",
         "Tiffany Miller",
         "Budget share paper so difficult mission late kind team."
        ],
        [
         "48",
         "49",
         "West African Slender-snouted Crocodile",
         "Mecistops cataphractus",
         "Crocodylidae",
         "Mecistops",
         "2.43",
         "96.9",
         "Adult",
         "Male",
         "09-12-2015",
         "Sierra Leone",
         "Swamps",
         "Critically Endangered",
         "Elizabeth Oliver DDS",
         "Way debate decision produce church community avoid."
        ],
        [
         "49",
         "50",
         "New Guinea Crocodile",
         "Crocodylus novaeguineae",
         "Crocodylidae",
         "Crocodylus",
         "2.51",
         "87.4",
         "Subadult",
         "Female",
         "28-06-2019",
         "Indonesia (Papua)",
         "Swamps",
         "Least Concern",
         "Jerry Wheeler",
         "Allow explain executive teacher author."
        ]
       ],
       "shape": {
        "columns": 15,
        "rows": 1000
       }
      },
      "text/html": [
       "<div>\n",
       "<style scoped>\n",
       "    .dataframe tbody tr th:only-of-type {\n",
       "        vertical-align: middle;\n",
       "    }\n",
       "\n",
       "    .dataframe tbody tr th {\n",
       "        vertical-align: top;\n",
       "    }\n",
       "\n",
       "    .dataframe thead th {\n",
       "        text-align: right;\n",
       "    }\n",
       "</style>\n",
       "<table border=\"1\" class=\"dataframe\">\n",
       "  <thead>\n",
       "    <tr style=\"text-align: right;\">\n",
       "      <th></th>\n",
       "      <th>Observation ID</th>\n",
       "      <th>Common Name</th>\n",
       "      <th>Scientific Name</th>\n",
       "      <th>Family</th>\n",
       "      <th>Genus</th>\n",
       "      <th>Observed Length (m)</th>\n",
       "      <th>Observed Weight (kg)</th>\n",
       "      <th>Age Class</th>\n",
       "      <th>Sex</th>\n",
       "      <th>Date of Observation</th>\n",
       "      <th>Country/Region</th>\n",
       "      <th>Habitat Type</th>\n",
       "      <th>Conservation Status</th>\n",
       "      <th>Observer Name</th>\n",
       "      <th>Notes</th>\n",
       "    </tr>\n",
       "  </thead>\n",
       "  <tbody>\n",
       "    <tr>\n",
       "      <th>0</th>\n",
       "      <td>1</td>\n",
       "      <td>Morelet's Crocodile</td>\n",
       "      <td>Crocodylus moreletii</td>\n",
       "      <td>Crocodylidae</td>\n",
       "      <td>Crocodylus</td>\n",
       "      <td>1.90</td>\n",
       "      <td>62.0</td>\n",
       "      <td>Adult</td>\n",
       "      <td>Male</td>\n",
       "      <td>31-03-2018</td>\n",
       "      <td>Belize</td>\n",
       "      <td>Swamps</td>\n",
       "      <td>Least Concern</td>\n",
       "      <td>Allison Hill</td>\n",
       "      <td>Cause bill scientist nation opportunity.</td>\n",
       "    </tr>\n",
       "    <tr>\n",
       "      <th>1</th>\n",
       "      <td>2</td>\n",
       "      <td>American Crocodile</td>\n",
       "      <td>Crocodylus acutus</td>\n",
       "      <td>Crocodylidae</td>\n",
       "      <td>Crocodylus</td>\n",
       "      <td>4.09</td>\n",
       "      <td>334.5</td>\n",
       "      <td>Adult</td>\n",
       "      <td>Male</td>\n",
       "      <td>28-01-2015</td>\n",
       "      <td>Venezuela</td>\n",
       "      <td>Mangroves</td>\n",
       "      <td>Vulnerable</td>\n",
       "      <td>Brandon Hall</td>\n",
       "      <td>Ago current practice nation determine operatio...</td>\n",
       "    </tr>\n",
       "    <tr>\n",
       "      <th>2</th>\n",
       "      <td>3</td>\n",
       "      <td>Orinoco Crocodile</td>\n",
       "      <td>Crocodylus intermedius</td>\n",
       "      <td>Crocodylidae</td>\n",
       "      <td>Crocodylus</td>\n",
       "      <td>1.08</td>\n",
       "      <td>118.2</td>\n",
       "      <td>Juvenile</td>\n",
       "      <td>Unknown</td>\n",
       "      <td>07-12-2010</td>\n",
       "      <td>Venezuela</td>\n",
       "      <td>Flooded Savannas</td>\n",
       "      <td>Critically Endangered</td>\n",
       "      <td>Melissa Peterson</td>\n",
       "      <td>Democratic shake bill here grow gas enough ana...</td>\n",
       "    </tr>\n",
       "    <tr>\n",
       "      <th>3</th>\n",
       "      <td>4</td>\n",
       "      <td>Morelet's Crocodile</td>\n",
       "      <td>Crocodylus moreletii</td>\n",
       "      <td>Crocodylidae</td>\n",
       "      <td>Crocodylus</td>\n",
       "      <td>2.42</td>\n",
       "      <td>90.4</td>\n",
       "      <td>Adult</td>\n",
       "      <td>Male</td>\n",
       "      <td>01-11-2019</td>\n",
       "      <td>Mexico</td>\n",
       "      <td>Rivers</td>\n",
       "      <td>Least Concern</td>\n",
       "      <td>Edward Fuller</td>\n",
       "      <td>Officer relate animal direction eye bag do.</td>\n",
       "    </tr>\n",
       "    <tr>\n",
       "      <th>4</th>\n",
       "      <td>5</td>\n",
       "      <td>Mugger Crocodile (Marsh Crocodile)</td>\n",
       "      <td>Crocodylus palustris</td>\n",
       "      <td>Crocodylidae</td>\n",
       "      <td>Crocodylus</td>\n",
       "      <td>3.75</td>\n",
       "      <td>269.4</td>\n",
       "      <td>Adult</td>\n",
       "      <td>Unknown</td>\n",
       "      <td>15-07-2019</td>\n",
       "      <td>India</td>\n",
       "      <td>Rivers</td>\n",
       "      <td>Vulnerable</td>\n",
       "      <td>Donald Reid</td>\n",
       "      <td>Class great prove reduce raise author play mov...</td>\n",
       "    </tr>\n",
       "    <tr>\n",
       "      <th>...</th>\n",
       "      <td>...</td>\n",
       "      <td>...</td>\n",
       "      <td>...</td>\n",
       "      <td>...</td>\n",
       "      <td>...</td>\n",
       "      <td>...</td>\n",
       "      <td>...</td>\n",
       "      <td>...</td>\n",
       "      <td>...</td>\n",
       "      <td>...</td>\n",
       "      <td>...</td>\n",
       "      <td>...</td>\n",
       "      <td>...</td>\n",
       "      <td>...</td>\n",
       "      <td>...</td>\n",
       "    </tr>\n",
       "    <tr>\n",
       "      <th>995</th>\n",
       "      <td>996</td>\n",
       "      <td>West African Crocodile</td>\n",
       "      <td>Crocodylus suchus</td>\n",
       "      <td>Crocodylidae</td>\n",
       "      <td>Crocodylus</td>\n",
       "      <td>2.55</td>\n",
       "      <td>112.3</td>\n",
       "      <td>Adult</td>\n",
       "      <td>Female</td>\n",
       "      <td>01-10-2015</td>\n",
       "      <td>Mauritania</td>\n",
       "      <td>Lakes</td>\n",
       "      <td>Least Concern</td>\n",
       "      <td>Karen Avery</td>\n",
       "      <td>Thousand position sense church out explain sig...</td>\n",
       "    </tr>\n",
       "    <tr>\n",
       "      <th>996</th>\n",
       "      <td>997</td>\n",
       "      <td>Hall's New Guinea Crocodile</td>\n",
       "      <td>Crocodylus halli</td>\n",
       "      <td>Crocodylidae</td>\n",
       "      <td>Crocodylus</td>\n",
       "      <td>2.27</td>\n",
       "      <td>80.3</td>\n",
       "      <td>Subadult</td>\n",
       "      <td>Female</td>\n",
       "      <td>25-01-2023</td>\n",
       "      <td>Papua New Guinea</td>\n",
       "      <td>Freshwater Wetlands</td>\n",
       "      <td>Least Concern</td>\n",
       "      <td>Sylvia Turner</td>\n",
       "      <td>Painting try talk like maintain serious style.</td>\n",
       "    </tr>\n",
       "    <tr>\n",
       "      <th>997</th>\n",
       "      <td>998</td>\n",
       "      <td>West African Slender-snouted Crocodile</td>\n",
       "      <td>Mecistops cataphractus</td>\n",
       "      <td>Crocodylidae</td>\n",
       "      <td>Mecistops</td>\n",
       "      <td>2.34</td>\n",
       "      <td>93.5</td>\n",
       "      <td>Adult</td>\n",
       "      <td>Male</td>\n",
       "      <td>07-02-2014</td>\n",
       "      <td>Côte d'Ivoire</td>\n",
       "      <td>Swamps</td>\n",
       "      <td>Critically Endangered</td>\n",
       "      <td>Kristin Fleming</td>\n",
       "      <td>Produce off light before majority garden milit...</td>\n",
       "    </tr>\n",
       "    <tr>\n",
       "      <th>998</th>\n",
       "      <td>999</td>\n",
       "      <td>West African Slender-snouted Crocodile</td>\n",
       "      <td>Mecistops cataphractus</td>\n",
       "      <td>Crocodylidae</td>\n",
       "      <td>Mecistops</td>\n",
       "      <td>2.82</td>\n",
       "      <td>147.6</td>\n",
       "      <td>Adult</td>\n",
       "      <td>Male</td>\n",
       "      <td>09-07-2010</td>\n",
       "      <td>Sierra Leone</td>\n",
       "      <td>Shaded Forest Rivers</td>\n",
       "      <td>Critically Endangered</td>\n",
       "      <td>Eric Petersen</td>\n",
       "      <td>Put everything our prove could party skin soon...</td>\n",
       "    </tr>\n",
       "    <tr>\n",
       "      <th>999</th>\n",
       "      <td>1000</td>\n",
       "      <td>Hall's New Guinea Crocodile</td>\n",
       "      <td>Crocodylus halli</td>\n",
       "      <td>Crocodylidae</td>\n",
       "      <td>Crocodylus</td>\n",
       "      <td>1.73</td>\n",
       "      <td>47.4</td>\n",
       "      <td>Juvenile</td>\n",
       "      <td>Unknown</td>\n",
       "      <td>31-03-2014</td>\n",
       "      <td>Papua New Guinea</td>\n",
       "      <td>Freshwater Wetlands</td>\n",
       "      <td>Least Concern</td>\n",
       "      <td>Kristen Harris</td>\n",
       "      <td>Ok community right then police day so store co...</td>\n",
       "    </tr>\n",
       "  </tbody>\n",
       "</table>\n",
       "<p>1000 rows × 15 columns</p>\n",
       "</div>"
      ],
      "text/plain": [
       "     Observation ID                             Common Name  \\\n",
       "0                 1                     Morelet's Crocodile   \n",
       "1                 2                      American Crocodile   \n",
       "2                 3                       Orinoco Crocodile   \n",
       "3                 4                     Morelet's Crocodile   \n",
       "4                 5      Mugger Crocodile (Marsh Crocodile)   \n",
       "..              ...                                     ...   \n",
       "995             996                  West African Crocodile   \n",
       "996             997             Hall's New Guinea Crocodile   \n",
       "997             998  West African Slender-snouted Crocodile   \n",
       "998             999  West African Slender-snouted Crocodile   \n",
       "999            1000             Hall's New Guinea Crocodile   \n",
       "\n",
       "            Scientific Name        Family       Genus  Observed Length (m)  \\\n",
       "0      Crocodylus moreletii  Crocodylidae  Crocodylus                 1.90   \n",
       "1         Crocodylus acutus  Crocodylidae  Crocodylus                 4.09   \n",
       "2    Crocodylus intermedius  Crocodylidae  Crocodylus                 1.08   \n",
       "3      Crocodylus moreletii  Crocodylidae  Crocodylus                 2.42   \n",
       "4      Crocodylus palustris  Crocodylidae  Crocodylus                 3.75   \n",
       "..                      ...           ...         ...                  ...   \n",
       "995       Crocodylus suchus  Crocodylidae  Crocodylus                 2.55   \n",
       "996        Crocodylus halli  Crocodylidae  Crocodylus                 2.27   \n",
       "997  Mecistops cataphractus  Crocodylidae   Mecistops                 2.34   \n",
       "998  Mecistops cataphractus  Crocodylidae   Mecistops                 2.82   \n",
       "999        Crocodylus halli  Crocodylidae  Crocodylus                 1.73   \n",
       "\n",
       "     Observed Weight (kg) Age Class      Sex Date of Observation  \\\n",
       "0                    62.0     Adult     Male          31-03-2018   \n",
       "1                   334.5     Adult     Male          28-01-2015   \n",
       "2                   118.2  Juvenile  Unknown          07-12-2010   \n",
       "3                    90.4     Adult     Male          01-11-2019   \n",
       "4                   269.4     Adult  Unknown          15-07-2019   \n",
       "..                    ...       ...      ...                 ...   \n",
       "995                 112.3     Adult   Female          01-10-2015   \n",
       "996                  80.3  Subadult   Female          25-01-2023   \n",
       "997                  93.5     Adult     Male          07-02-2014   \n",
       "998                 147.6     Adult     Male          09-07-2010   \n",
       "999                  47.4  Juvenile  Unknown          31-03-2014   \n",
       "\n",
       "       Country/Region          Habitat Type    Conservation Status  \\\n",
       "0              Belize                Swamps          Least Concern   \n",
       "1           Venezuela             Mangroves             Vulnerable   \n",
       "2           Venezuela      Flooded Savannas  Critically Endangered   \n",
       "3              Mexico                Rivers          Least Concern   \n",
       "4               India                Rivers             Vulnerable   \n",
       "..                ...                   ...                    ...   \n",
       "995        Mauritania                 Lakes          Least Concern   \n",
       "996  Papua New Guinea   Freshwater Wetlands          Least Concern   \n",
       "997     Côte d'Ivoire                Swamps  Critically Endangered   \n",
       "998      Sierra Leone  Shaded Forest Rivers  Critically Endangered   \n",
       "999  Papua New Guinea   Freshwater Wetlands          Least Concern   \n",
       "\n",
       "        Observer Name                                              Notes  \n",
       "0        Allison Hill           Cause bill scientist nation opportunity.  \n",
       "1        Brandon Hall  Ago current practice nation determine operatio...  \n",
       "2    Melissa Peterson  Democratic shake bill here grow gas enough ana...  \n",
       "3       Edward Fuller        Officer relate animal direction eye bag do.  \n",
       "4         Donald Reid  Class great prove reduce raise author play mov...  \n",
       "..                ...                                                ...  \n",
       "995       Karen Avery  Thousand position sense church out explain sig...  \n",
       "996     Sylvia Turner     Painting try talk like maintain serious style.  \n",
       "997   Kristin Fleming  Produce off light before majority garden milit...  \n",
       "998     Eric Petersen  Put everything our prove could party skin soon...  \n",
       "999    Kristen Harris  Ok community right then police day so store co...  \n",
       "\n",
       "[1000 rows x 15 columns]"
      ]
     },
     "execution_count": 2,
     "metadata": {},
     "output_type": "execute_result"
    }
   ],
   "source": [
    "df # visualizar si el dataframe está cargado correctamente"
   ]
  },
  {
   "cell_type": "code",
   "execution_count": 3,
   "id": "da7b9ae8",
   "metadata": {},
   "outputs": [
    {
     "data": {
      "text/plain": [
       "(1000, 15)"
      ]
     },
     "execution_count": 3,
     "metadata": {},
     "output_type": "execute_result"
    }
   ],
   "source": [
    "# ver cuantos hay\n",
    "df.shape #Cuantas filas hay y cuantas columnas, 1000 registros y 15 columnas"
   ]
  },
  {
   "cell_type": "code",
   "execution_count": 4,
   "id": "83fac946",
   "metadata": {},
   "outputs": [
    {
     "data": {
      "application/vnd.microsoft.datawrangler.viewer.v0+json": {
       "columns": [
        {
         "name": "index",
         "rawType": "object",
         "type": "string"
        },
        {
         "name": "0",
         "rawType": "object",
         "type": "unknown"
        }
       ],
       "ref": "b06a4a44-789d-4eb3-90df-df8eae4a7e01",
       "rows": [
        [
         "Observation ID",
         "int64"
        ],
        [
         "Common Name",
         "object"
        ],
        [
         "Scientific Name",
         "object"
        ],
        [
         "Family",
         "object"
        ],
        [
         "Genus",
         "object"
        ],
        [
         "Observed Length (m)",
         "float64"
        ],
        [
         "Observed Weight (kg)",
         "float64"
        ],
        [
         "Age Class",
         "object"
        ],
        [
         "Sex",
         "object"
        ],
        [
         "Date of Observation",
         "object"
        ],
        [
         "Country/Region",
         "object"
        ],
        [
         "Habitat Type",
         "object"
        ],
        [
         "Conservation Status",
         "object"
        ],
        [
         "Observer Name",
         "object"
        ],
        [
         "Notes",
         "object"
        ]
       ],
       "shape": {
        "columns": 1,
        "rows": 15
       }
      },
      "text/plain": [
       "Observation ID            int64\n",
       "Common Name              object\n",
       "Scientific Name          object\n",
       "Family                   object\n",
       "Genus                    object\n",
       "Observed Length (m)     float64\n",
       "Observed Weight (kg)    float64\n",
       "Age Class                object\n",
       "Sex                      object\n",
       "Date of Observation      object\n",
       "Country/Region           object\n",
       "Habitat Type             object\n",
       "Conservation Status      object\n",
       "Observer Name            object\n",
       "Notes                    object\n",
       "dtype: object"
      ]
     },
     "execution_count": 4,
     "metadata": {},
     "output_type": "execute_result"
    }
   ],
   "source": [
    "df.dtypes # El tipo de dato del dataframe"
   ]
  },
  {
   "cell_type": "code",
   "execution_count": 5,
   "id": "d25fdd8b",
   "metadata": {},
   "outputs": [
    {
     "data": {
      "application/vnd.microsoft.datawrangler.viewer.v0+json": {
       "columns": [
        {
         "name": "index",
         "rawType": "object",
         "type": "string"
        },
        {
         "name": "0",
         "rawType": "int64",
         "type": "integer"
        }
       ],
       "ref": "aceff059-d492-499c-aee8-ddf9b21fac44",
       "rows": [
        [
         "Observation ID",
         "0"
        ],
        [
         "Common Name",
         "0"
        ],
        [
         "Scientific Name",
         "0"
        ],
        [
         "Family",
         "0"
        ],
        [
         "Genus",
         "0"
        ],
        [
         "Observed Length (m)",
         "0"
        ],
        [
         "Observed Weight (kg)",
         "0"
        ],
        [
         "Age Class",
         "0"
        ],
        [
         "Sex",
         "0"
        ],
        [
         "Date of Observation",
         "0"
        ],
        [
         "Country/Region",
         "0"
        ],
        [
         "Habitat Type",
         "0"
        ],
        [
         "Conservation Status",
         "0"
        ],
        [
         "Observer Name",
         "0"
        ],
        [
         "Notes",
         "0"
        ]
       ],
       "shape": {
        "columns": 1,
        "rows": 15
       }
      },
      "text/plain": [
       "Observation ID          0\n",
       "Common Name             0\n",
       "Scientific Name         0\n",
       "Family                  0\n",
       "Genus                   0\n",
       "Observed Length (m)     0\n",
       "Observed Weight (kg)    0\n",
       "Age Class               0\n",
       "Sex                     0\n",
       "Date of Observation     0\n",
       "Country/Region          0\n",
       "Habitat Type            0\n",
       "Conservation Status     0\n",
       "Observer Name           0\n",
       "Notes                   0\n",
       "dtype: int64"
      ]
     },
     "execution_count": 5,
     "metadata": {},
     "output_type": "execute_result"
    }
   ],
   "source": [
    "# Cuantos valores vacíos\n",
    "df.isna().sum()"
   ]
  },
  {
   "cell_type": "markdown",
   "id": "59fb6e49",
   "metadata": {},
   "source": [
    "# 2.- Columns meaning\n",
    "<hr>"
   ]
  },
  {
   "cell_type": "code",
   "execution_count": 6,
   "id": "fe5425c0",
   "metadata": {},
   "outputs": [],
   "source": [
    "# Observation ID = se refiere al ID de cada registro\n",
    "# Common Name = Nombre común del cocodrilo\n",
    "# Scientific Name = Nombre científico del cocodrilo\n",
    "# Family = Familia del cocodrilo\n",
    "# Genus = Género del cocodrilo\n",
    "# Observed Length (m) = Longitud observada\n",
    "# Observed Weight (kg) = Peso del cocodrilo en kilogramos\n",
    "# Age Class = Etapa de la vida en la que está el cocodrilo\n",
    "# Sex = Sexo del cocodrilo\n",
    "# Date of Observation = Fecha de observación del cocodrilo\n",
    "# Country/Region = País o región del cocodrilo\n",
    "# Habitat Type = Tipo de habitat del cocodrilo\n",
    "# Conservation Status = Estado de conservación del cocodrilo\n",
    "# Observer Name = Nombre del que hizo el registro del cocodrilo\n",
    "# Notes = Texto al azar"
   ]
  },
  {
   "cell_type": "code",
   "execution_count": 7,
   "id": "6005598d",
   "metadata": {},
   "outputs": [
    {
     "data": {
      "application/vnd.microsoft.datawrangler.viewer.v0+json": {
       "columns": [
        {
         "name": "Observation ID",
         "rawType": "int64",
         "type": "integer"
        },
        {
         "name": "count",
         "rawType": "int64",
         "type": "integer"
        }
       ],
       "ref": "5c04b822-c5c8-4ca1-80e5-2327a2e66ea4",
       "rows": [
        [
         "1",
         "1"
        ],
        [
         "672",
         "1"
        ],
        [
         "659",
         "1"
        ],
        [
         "660",
         "1"
        ],
        [
         "661",
         "1"
        ],
        [
         "662",
         "1"
        ],
        [
         "663",
         "1"
        ],
        [
         "664",
         "1"
        ],
        [
         "665",
         "1"
        ],
        [
         "666",
         "1"
        ],
        [
         "667",
         "1"
        ],
        [
         "668",
         "1"
        ],
        [
         "669",
         "1"
        ],
        [
         "670",
         "1"
        ],
        [
         "671",
         "1"
        ],
        [
         "673",
         "1"
        ],
        [
         "688",
         "1"
        ],
        [
         "674",
         "1"
        ],
        [
         "675",
         "1"
        ],
        [
         "676",
         "1"
        ],
        [
         "677",
         "1"
        ],
        [
         "678",
         "1"
        ],
        [
         "679",
         "1"
        ],
        [
         "680",
         "1"
        ],
        [
         "681",
         "1"
        ],
        [
         "682",
         "1"
        ],
        [
         "683",
         "1"
        ],
        [
         "684",
         "1"
        ],
        [
         "685",
         "1"
        ],
        [
         "686",
         "1"
        ],
        [
         "658",
         "1"
        ],
        [
         "657",
         "1"
        ],
        [
         "656",
         "1"
        ],
        [
         "655",
         "1"
        ],
        [
         "628",
         "1"
        ],
        [
         "629",
         "1"
        ],
        [
         "630",
         "1"
        ],
        [
         "631",
         "1"
        ],
        [
         "632",
         "1"
        ],
        [
         "633",
         "1"
        ],
        [
         "634",
         "1"
        ],
        [
         "635",
         "1"
        ],
        [
         "636",
         "1"
        ],
        [
         "637",
         "1"
        ],
        [
         "638",
         "1"
        ],
        [
         "639",
         "1"
        ],
        [
         "640",
         "1"
        ],
        [
         "641",
         "1"
        ],
        [
         "642",
         "1"
        ],
        [
         "643",
         "1"
        ]
       ],
       "shape": {
        "columns": 1,
        "rows": 1000
       }
      },
      "text/plain": [
       "Observation ID\n",
       "1       1\n",
       "672     1\n",
       "659     1\n",
       "660     1\n",
       "661     1\n",
       "       ..\n",
       "339     1\n",
       "340     1\n",
       "341     1\n",
       "342     1\n",
       "1000    1\n",
       "Name: count, Length: 1000, dtype: int64"
      ]
     },
     "execution_count": 7,
     "metadata": {},
     "output_type": "execute_result"
    }
   ],
   "source": [
    "df[\"Observation ID\"].value_counts() # Contar la frecuencia de cada clase"
   ]
  },
  {
   "cell_type": "code",
   "execution_count": 8,
   "id": "4f78eeae",
   "metadata": {},
   "outputs": [
    {
     "data": {
      "application/vnd.microsoft.datawrangler.viewer.v0+json": {
       "columns": [
        {
         "name": "Common Name",
         "rawType": "object",
         "type": "string"
        },
        {
         "name": "count",
         "rawType": "int64",
         "type": "integer"
        }
       ],
       "ref": "7bd35e2e-01fb-4a34-a0f1-1098a6644ced",
       "rows": [
        [
         "New Guinea Crocodile",
         "68"
        ],
        [
         "Borneo Crocodile (disputed)",
         "67"
        ],
        [
         "American Crocodile",
         "66"
        ],
        [
         "Morelet's Crocodile",
         "64"
        ],
        [
         "Cuban Crocodile",
         "59"
        ],
        [
         "Saltwater Crocodile",
         "58"
        ],
        [
         "Philippine Crocodile",
         "58"
        ],
        [
         "Orinoco Crocodile",
         "58"
        ],
        [
         "West African Dwarf Crocodile",
         "57"
        ],
        [
         "Central African Slender-snouted Crocodile",
         "56"
        ],
        [
         "West African Slender-snouted Crocodile",
         "55"
        ],
        [
         "West African Crocodile",
         "52"
        ],
        [
         "Hall's New Guinea Crocodile",
         "49"
        ],
        [
         "Congo Dwarf Crocodile",
         "48"
        ],
        [
         "Nile Crocodile",
         "48"
        ],
        [
         "Mugger Crocodile (Marsh Crocodile)",
         "47"
        ],
        [
         "Siamese Crocodile",
         "45"
        ],
        [
         "Freshwater Crocodile (Johnstone's)",
         "45"
        ]
       ],
       "shape": {
        "columns": 1,
        "rows": 18
       }
      },
      "text/plain": [
       "Common Name\n",
       "New Guinea Crocodile                         68\n",
       "Borneo Crocodile (disputed)                  67\n",
       "American Crocodile                           66\n",
       "Morelet's Crocodile                          64\n",
       "Cuban Crocodile                              59\n",
       "Saltwater Crocodile                          58\n",
       "Philippine Crocodile                         58\n",
       "Orinoco Crocodile                            58\n",
       "West African Dwarf Crocodile                 57\n",
       "Central African Slender-snouted Crocodile    56\n",
       "West African Slender-snouted Crocodile       55\n",
       "West African Crocodile                       52\n",
       "Hall's New Guinea Crocodile                  49\n",
       "Congo Dwarf Crocodile                        48\n",
       "Nile Crocodile                               48\n",
       "Mugger Crocodile (Marsh Crocodile)           47\n",
       "Siamese Crocodile                            45\n",
       "Freshwater Crocodile (Johnstone's)           45\n",
       "Name: count, dtype: int64"
      ]
     },
     "execution_count": 8,
     "metadata": {},
     "output_type": "execute_result"
    }
   ],
   "source": [
    "df[\"Common Name\"].value_counts() # Contar la frecuencia de cada clase"
   ]
  },
  {
   "cell_type": "code",
   "execution_count": 9,
   "id": "6378e6be",
   "metadata": {},
   "outputs": [
    {
     "data": {
      "application/vnd.microsoft.datawrangler.viewer.v0+json": {
       "columns": [
        {
         "name": "Scientific Name",
         "rawType": "object",
         "type": "string"
        },
        {
         "name": "count",
         "rawType": "int64",
         "type": "integer"
        }
       ],
       "ref": "f63dda92-377a-4767-9107-781547b0575d",
       "rows": [
        [
         "Crocodylus novaeguineae",
         "68"
        ],
        [
         "Crocodylus raninus",
         "67"
        ],
        [
         "Crocodylus acutus",
         "66"
        ],
        [
         "Crocodylus moreletii",
         "64"
        ],
        [
         "Crocodylus rhombifer",
         "59"
        ],
        [
         "Crocodylus porosus",
         "58"
        ],
        [
         "Crocodylus mindorensis",
         "58"
        ],
        [
         "Crocodylus intermedius",
         "58"
        ],
        [
         "Osteolaemus tetraspis",
         "57"
        ],
        [
         "Mecistops leptorhynchus",
         "56"
        ],
        [
         "Mecistops cataphractus",
         "55"
        ],
        [
         "Crocodylus suchus",
         "52"
        ],
        [
         "Crocodylus halli",
         "49"
        ],
        [
         "Osteolaemus osborni",
         "48"
        ],
        [
         "Crocodylus niloticus",
         "48"
        ],
        [
         "Crocodylus palustris",
         "47"
        ],
        [
         "Crocodylus siamensis",
         "45"
        ],
        [
         "Crocodylus johnstoni",
         "45"
        ]
       ],
       "shape": {
        "columns": 1,
        "rows": 18
       }
      },
      "text/plain": [
       "Scientific Name\n",
       "Crocodylus novaeguineae    68\n",
       "Crocodylus raninus         67\n",
       "Crocodylus acutus          66\n",
       "Crocodylus moreletii       64\n",
       "Crocodylus rhombifer       59\n",
       "Crocodylus porosus         58\n",
       "Crocodylus mindorensis     58\n",
       "Crocodylus intermedius     58\n",
       "Osteolaemus tetraspis      57\n",
       "Mecistops leptorhynchus    56\n",
       "Mecistops cataphractus     55\n",
       "Crocodylus suchus          52\n",
       "Crocodylus halli           49\n",
       "Osteolaemus osborni        48\n",
       "Crocodylus niloticus       48\n",
       "Crocodylus palustris       47\n",
       "Crocodylus siamensis       45\n",
       "Crocodylus johnstoni       45\n",
       "Name: count, dtype: int64"
      ]
     },
     "execution_count": 9,
     "metadata": {},
     "output_type": "execute_result"
    }
   ],
   "source": [
    "df[\"Scientific Name\"].value_counts() # Contar la frecuencia de cada clase"
   ]
  },
  {
   "cell_type": "code",
   "execution_count": 10,
   "id": "3741f832",
   "metadata": {},
   "outputs": [
    {
     "data": {
      "application/vnd.microsoft.datawrangler.viewer.v0+json": {
       "columns": [
        {
         "name": "index",
         "rawType": "object",
         "type": "string"
        },
        {
         "name": "Observed Length (m)",
         "rawType": "float64",
         "type": "float"
        }
       ],
       "ref": "a8d49a55-c40f-4bf5-84ec-7cc8346baeb6",
       "rows": [
        [
         "count",
         "1000.0"
        ],
        [
         "mean",
         "2.41511"
        ],
        [
         "std",
         "1.0975422483380248"
        ],
        [
         "min",
         "0.14"
        ],
        [
         "25%",
         "1.6375"
        ],
        [
         "50%",
         "2.43"
        ],
        [
         "75%",
         "3.01"
        ],
        [
         "max",
         "6.12"
        ]
       ],
       "shape": {
        "columns": 1,
        "rows": 8
       }
      },
      "text/plain": [
       "count    1000.000000\n",
       "mean        2.415110\n",
       "std         1.097542\n",
       "min         0.140000\n",
       "25%         1.637500\n",
       "50%         2.430000\n",
       "75%         3.010000\n",
       "max         6.120000\n",
       "Name: Observed Length (m), dtype: float64"
      ]
     },
     "execution_count": 10,
     "metadata": {},
     "output_type": "execute_result"
    }
   ],
   "source": [
    "# Seleccionar 1 columna\n",
    "\n",
    "df[\"Observed Length (m)\"].describe() # Mostrar las estadísticas descriptivas de la columna"
   ]
  },
  {
   "cell_type": "code",
   "execution_count": 11,
   "id": "12f94a20",
   "metadata": {},
   "outputs": [
    {
     "data": {
      "text/plain": [
       "<Axes: >"
      ]
     },
     "execution_count": 11,
     "metadata": {},
     "output_type": "execute_result"
    },
    {
     "data": {
      "image/png": "[encoded data removed]",
      "text/plain": [
       "<Figure size 640x480 with 1 Axes>"
      ]
     },
     "metadata": {},
     "output_type": "display_data"
    }
   ],
   "source": [
    "df[\"Observed Weight (kg)\"].hist() # Otra forma de describir datos continuos"
   ]
  },
  {
   "cell_type": "code",
   "execution_count": 12,
   "id": "946b30c1",
   "metadata": {},
   "outputs": [
    {
     "data": {
      "application/vnd.microsoft.datawrangler.viewer.v0+json": {
       "columns": [
        {
         "name": "Age Class",
         "rawType": "object",
         "type": "string"
        },
        {
         "name": "count",
         "rawType": "int64",
         "type": "integer"
        }
       ],
       "ref": "fa817cd9-7ad6-4d0f-a747-df1f5919d98c",
       "rows": [
        [
         "Adult",
         "510"
        ],
        [
         "Subadult",
         "247"
        ],
        [
         "Juvenile",
         "194"
        ],
        [
         "Hatchling",
         "49"
        ]
       ],
       "shape": {
        "columns": 1,
        "rows": 4
       }
      },
      "text/plain": [
       "Age Class\n",
       "Adult        510\n",
       "Subadult     247\n",
       "Juvenile     194\n",
       "Hatchling     49\n",
       "Name: count, dtype: int64"
      ]
     },
     "execution_count": 12,
     "metadata": {},
     "output_type": "execute_result"
    }
   ],
   "source": [
    "df[\"Age Class\"].value_counts()"
   ]
  },
  {
   "cell_type": "code",
   "execution_count": 13,
   "id": "4d290a51",
   "metadata": {},
   "outputs": [
    {
     "data": {
      "application/vnd.microsoft.datawrangler.viewer.v0+json": {
       "columns": [
        {
         "name": "Sex",
         "rawType": "object",
         "type": "string"
        },
        {
         "name": "count",
         "rawType": "int64",
         "type": "integer"
        }
       ],
       "ref": "04ed8b90-b364-43c8-bf0b-f56598d1a63d",
       "rows": [
        [
         "Unknown",
         "354"
        ],
        [
         "Male",
         "325"
        ],
        [
         "Female",
         "321"
        ]
       ],
       "shape": {
        "columns": 1,
        "rows": 3
       }
      },
      "text/plain": [
       "Sex\n",
       "Unknown    354\n",
       "Male       325\n",
       "Female     321\n",
       "Name: count, dtype: int64"
      ]
     },
     "execution_count": 13,
     "metadata": {},
     "output_type": "execute_result"
    }
   ],
   "source": [
    "df[\"Sex\"].value_counts()"
   ]
  },
  {
   "cell_type": "code",
   "execution_count": 14,
   "id": "639b61d2",
   "metadata": {},
   "outputs": [
    {
     "data": {
      "application/vnd.microsoft.datawrangler.viewer.v0+json": {
       "columns": [
        {
         "name": "Country/Region",
         "rawType": "object",
         "type": "string"
        },
        {
         "name": "count",
         "rawType": "int64",
         "type": "integer"
        }
       ],
       "ref": "15989b3c-3464-4874-a0cd-f2206e77f720",
       "rows": [
        [
         "Papua New Guinea",
         "97"
        ],
        [
         "Cuba",
         "77"
        ],
        [
         "Philippines",
         "68"
        ],
        [
         "Australia",
         "54"
        ],
        [
         "Venezuela",
         "47"
        ],
        [
         "Malaysia (Borneo)",
         "38"
        ],
        [
         "Mexico",
         "35"
        ],
        [
         "Congo (DRC)",
         "34"
        ],
        [
         "Indonesia (Papua)",
         "32"
        ],
        [
         "Colombia",
         "32"
        ],
        [
         "Indonesia (Borneo)",
         "29"
        ],
        [
         "Cameroon",
         "28"
        ],
        [
         "Congo Basin Countries",
         "27"
        ],
        [
         "Côte d'Ivoire",
         "22"
        ],
        [
         "Guatemala",
         "21"
        ],
        [
         "Belize",
         "20"
        ],
        [
         "Liberia",
         "20"
        ],
        [
         "Guinea",
         "17"
        ],
        [
         "India",
         "17"
        ],
        [
         "Sierra Leone",
         "17"
        ],
        [
         "Ghana",
         "16"
        ],
        [
         "Nigeria",
         "16"
        ],
        [
         "Central African Republic",
         "14"
        ],
        [
         "Pakistan",
         "14"
        ],
        [
         "Cambodia",
         "13"
        ],
        [
         "Mali",
         "12"
        ],
        [
         "Tanzania",
         "12"
        ],
        [
         "Vietnam",
         "11"
        ],
        [
         "Iran (historic)",
         "11"
        ],
        [
         "Niger",
         "11"
        ],
        [
         "Laos",
         "11"
        ],
        [
         "Sudan",
         "10"
        ],
        [
         "Gabon",
         "10"
        ],
        [
         "Thailand",
         "10"
        ],
        [
         "Senegal",
         "9"
        ],
        [
         "Malaysia",
         "9"
        ],
        [
         "Chad",
         "8"
        ],
        [
         "Sri Lanka",
         "8"
        ],
        [
         "Kenya",
         "8"
        ],
        [
         "Indonesia",
         "8"
        ],
        [
         "South Africa",
         "8"
        ],
        [
         "USA (Florida)",
         "8"
        ],
        [
         "Costa Rica",
         "7"
        ],
        [
         "Mauritania",
         "7"
        ],
        [
         "Uganda",
         "7"
        ],
        [
         "Nepal",
         "7"
        ],
        [
         "Egypt",
         "3"
        ]
       ],
       "shape": {
        "columns": 1,
        "rows": 47
       }
      },
      "text/plain": [
       "Country/Region\n",
       "Papua New Guinea            97\n",
       "Cuba                        77\n",
       "Philippines                 68\n",
       "Australia                   54\n",
       "Venezuela                   47\n",
       "Malaysia (Borneo)           38\n",
       "Mexico                      35\n",
       "Congo (DRC)                 34\n",
       "Indonesia (Papua)           32\n",
       "Colombia                    32\n",
       "Indonesia (Borneo)          29\n",
       "Cameroon                    28\n",
       "Congo Basin Countries       27\n",
       "Côte d'Ivoire               22\n",
       "Guatemala                   21\n",
       "Belize                      20\n",
       "Liberia                     20\n",
       "Guinea                      17\n",
       "India                       17\n",
       "Sierra Leone                17\n",
       "Ghana                       16\n",
       "Nigeria                     16\n",
       "Central African Republic    14\n",
       "Pakistan                    14\n",
       "Cambodia                    13\n",
       "Mali                        12\n",
       "Tanzania                    12\n",
       "Vietnam                     11\n",
       "Iran (historic)             11\n",
       "Niger                       11\n",
       "Laos                        11\n",
       "Sudan                       10\n",
       "Gabon                       10\n",
       "Thailand                    10\n",
       "Senegal                      9\n",
       "Malaysia                     9\n",
       "Chad                         8\n",
       "Sri Lanka                    8\n",
       "Kenya                        8\n",
       "Indonesia                    8\n",
       "South Africa                 8\n",
       "USA (Florida)                8\n",
       "Costa Rica                   7\n",
       "Mauritania                   7\n",
       "Uganda                       7\n",
       "Nepal                        7\n",
       "Egypt                        3\n",
       "Name: count, dtype: int64"
      ]
     },
     "execution_count": 14,
     "metadata": {},
     "output_type": "execute_result"
    }
   ],
   "source": [
    "df[\"Country/Region\"].value_counts()"
   ]
  },
  {
   "cell_type": "code",
   "execution_count": 15,
   "id": "1d725019",
   "metadata": {},
   "outputs": [
    {
     "data": {
      "application/vnd.microsoft.datawrangler.viewer.v0+json": {
       "columns": [
        {
         "name": "Habitat Type",
         "rawType": "object",
         "type": "string"
        },
        {
         "name": "count",
         "rawType": "int64",
         "type": "integer"
        }
       ],
       "ref": "fab95941-ac22-4f97-b990-97fc8e0b3fa7",
       "rows": [
        [
         "Rivers",
         "165"
        ],
        [
         "Swamps",
         "156"
        ],
        [
         "Forest Swamps",
         "57"
        ],
        [
         "Lakes",
         "54"
        ],
        [
         "Freshwater Wetlands",
         "47"
        ],
        [
         "Estuarine Systems",
         "37"
        ],
        [
         "Estuaries",
         "34"
        ],
        [
         "Mangroves",
         "32"
        ],
        [
         "Flooded Savannas",
         "31"
        ],
        [
         "Forest Rivers",
         "30"
        ],
        [
         "Reservoirs",
         "29"
        ],
        [
         "Small Streams",
         "28"
        ],
        [
         "Shaded Forest Rivers",
         "28"
        ],
        [
         "Large Rivers",
         "27"
        ],
        [
         "Marshes",
         "24"
        ],
        [
         "Freshwater Marshes",
         "23"
        ],
        [
         "Slow Streams",
         "20"
        ],
        [
         "Coastal Lagoons",
         "19"
        ],
        [
         "Oases",
         "17"
        ],
        [
         "Billabongs",
         "17"
        ],
        [
         "Coastal Wetlands",
         "16"
        ],
        [
         "Lagoons",
         "16"
        ],
        [
         "Slow Rivers",
         "15"
        ],
        [
         "Gorges",
         "14"
        ],
        [
         "Freshwater Rivers",
         "14"
        ],
        [
         "Ponds",
         "14"
        ],
        [
         "Brackish Rivers",
         "13"
        ],
        [
         "Oxbow Lakes",
         "13"
        ],
        [
         "Tidal Rivers",
         "10"
        ]
       ],
       "shape": {
        "columns": 1,
        "rows": 29
       }
      },
      "text/plain": [
       "Habitat Type\n",
       "Rivers                  165\n",
       "Swamps                  156\n",
       "Forest Swamps            57\n",
       "Lakes                    54\n",
       "Freshwater Wetlands      47\n",
       "Estuarine Systems        37\n",
       "Estuaries                34\n",
       "Mangroves                32\n",
       "Flooded Savannas         31\n",
       "Forest Rivers            30\n",
       "Reservoirs               29\n",
       "Small Streams            28\n",
       "Shaded Forest Rivers     28\n",
       "Large Rivers             27\n",
       "Marshes                  24\n",
       "Freshwater Marshes       23\n",
       "Slow Streams             20\n",
       "Coastal Lagoons          19\n",
       "Oases                    17\n",
       "Billabongs               17\n",
       "Coastal Wetlands         16\n",
       "Lagoons                  16\n",
       "Slow Rivers              15\n",
       "Gorges                   14\n",
       "Freshwater Rivers        14\n",
       "Ponds                    14\n",
       "Brackish Rivers          13\n",
       "Oxbow Lakes              13\n",
       "Tidal Rivers             10\n",
       "Name: count, dtype: int64"
      ]
     },
     "execution_count": 15,
     "metadata": {},
     "output_type": "execute_result"
    }
   ],
   "source": [
    "df[\"Habitat Type\"].value_counts()"
   ]
  },
  {
   "cell_type": "code",
   "execution_count": 16,
   "id": "b191d4e1",
   "metadata": {},
   "outputs": [
    {
     "data": {
      "application/vnd.microsoft.datawrangler.viewer.v0+json": {
       "columns": [
        {
         "name": "Conservation Status",
         "rawType": "object",
         "type": "string"
        },
        {
         "name": "count",
         "rawType": "int64",
         "type": "integer"
        }
       ],
       "ref": "201b5595-556b-42e4-9ee4-f9a5aa94b8b5",
       "rows": [
        [
         "Least Concern",
         "384"
        ],
        [
         "Critically Endangered",
         "275"
        ],
        [
         "Vulnerable",
         "170"
        ],
        [
         "Data Deficient",
         "115"
        ],
        [
         "Endangered",
         "56"
        ]
       ],
       "shape": {
        "columns": 1,
        "rows": 5
       }
      },
      "text/plain": [
       "Conservation Status\n",
       "Least Concern            384\n",
       "Critically Endangered    275\n",
       "Vulnerable               170\n",
       "Data Deficient           115\n",
       "Endangered                56\n",
       "Name: count, dtype: int64"
      ]
     },
     "execution_count": 16,
     "metadata": {},
     "output_type": "execute_result"
    }
   ],
   "source": [
    "df[\"Conservation Status\"].value_counts()"
   ]
  },
  {
   "cell_type": "code",
   "execution_count": 17,
   "id": "0816b66d",
   "metadata": {},
   "outputs": [
    {
     "data": {
      "application/vnd.microsoft.datawrangler.viewer.v0+json": {
       "columns": [
        {
         "name": "Observer Name",
         "rawType": "object",
         "type": "string"
        },
        {
         "name": "count",
         "rawType": "int64",
         "type": "integer"
        }
       ],
       "ref": "82ac56ca-e226-4e5b-a9be-868445d285bc",
       "rows": [
        [
         "David Smith",
         "2"
        ],
        [
         "Michael Lee",
         "2"
        ],
        [
         "Ashley Hall",
         "2"
        ],
        [
         "Jennifer Ortiz",
         "2"
        ],
        [
         "William Brooks",
         "2"
        ],
        [
         "Michael Miller",
         "2"
        ],
        [
         "Shannon Clark",
         "2"
        ],
        [
         "Matthew Miller",
         "2"
        ],
        [
         "Sandra Becker",
         "2"
        ],
        [
         "Matthew Smith",
         "2"
        ],
        [
         "Christina Davis",
         "2"
        ],
        [
         "Kelly Nash",
         "1"
        ],
        [
         "Anne Russell",
         "1"
        ],
        [
         "Joel Mcclure",
         "1"
        ],
        [
         "Wendy Mason",
         "1"
        ],
        [
         "Patricia Hughes",
         "1"
        ],
        [
         "Randall Collins",
         "1"
        ],
        [
         "Amanda Adams",
         "1"
        ],
        [
         "Brian Cox",
         "1"
        ],
        [
         "Benjamin Page",
         "1"
        ],
        [
         "Ryan Crane",
         "1"
        ],
        [
         "Allison Hill",
         "1"
        ],
        [
         "Nicholas Lowery",
         "1"
        ],
        [
         "Kyle James",
         "1"
        ],
        [
         "Tamara Shaw",
         "1"
        ],
        [
         "Jason Lewis",
         "1"
        ],
        [
         "Rachel Sheppard",
         "1"
        ],
        [
         "Chris Ellis",
         "1"
        ],
        [
         "Virginia Harding",
         "1"
        ],
        [
         "Lindsay Robinson",
         "1"
        ],
        [
         "Melissa Banks",
         "1"
        ],
        [
         "Michaela Pace",
         "1"
        ],
        [
         "Jennifer Crawford",
         "1"
        ],
        [
         "Adrienne Brooks",
         "1"
        ],
        [
         "Terry Johnson",
         "1"
        ],
        [
         "Tyler Haney",
         "1"
        ],
        [
         "Rose Mcdonald",
         "1"
        ],
        [
         "Chad Hayden",
         "1"
        ],
        [
         "Lindsey Thompson",
         "1"
        ],
        [
         "Charles Rose",
         "1"
        ],
        [
         "Christina Mccarthy",
         "1"
        ],
        [
         "Andrew Mooney",
         "1"
        ],
        [
         "Eric Schultz",
         "1"
        ],
        [
         "Michelle Wright",
         "1"
        ],
        [
         "Lawrence Jordan",
         "1"
        ],
        [
         "Kendra Watson",
         "1"
        ],
        [
         "Angela Payne",
         "1"
        ],
        [
         "Kristina Reed",
         "1"
        ],
        [
         "Melissa Yang",
         "1"
        ],
        [
         "Alexa Mcfarland",
         "1"
        ]
       ],
       "shape": {
        "columns": 1,
        "rows": 989
       }
      },
      "text/plain": [
       "Observer Name\n",
       "David Smith         2\n",
       "Michael Lee         2\n",
       "Ashley Hall         2\n",
       "Jennifer Ortiz      2\n",
       "William Brooks      2\n",
       "                   ..\n",
       "Samantha Ellison    1\n",
       "Misty Mcguire       1\n",
       "Tammy Cook          1\n",
       "Connie Williams     1\n",
       "Kristen Harris      1\n",
       "Name: count, Length: 989, dtype: int64"
      ]
     },
     "execution_count": 17,
     "metadata": {},
     "output_type": "execute_result"
    }
   ],
   "source": [
    "df[\"Observer Name\"].value_counts()"
   ]
  },
  {
   "cell_type": "code",
   "execution_count": 18,
   "id": "be6b0457",
   "metadata": {},
   "outputs": [
    {
     "data": {
      "application/vnd.microsoft.datawrangler.viewer.v0+json": {
       "columns": [
        {
         "name": "index",
         "rawType": "int64",
         "type": "integer"
        },
        {
         "name": "Notes",
         "rawType": "object",
         "type": "string"
        }
       ],
       "ref": "8de43ace-c62b-4111-82de-5d2ab1853af3",
       "rows": [
        [
         "0",
         "Cause bill scientist nation opportunity."
        ],
        [
         "1",
         "Ago current practice nation determine operation speak according."
        ],
        [
         "2",
         "Democratic shake bill here grow gas enough analysis least by two."
        ],
        [
         "3",
         "Officer relate animal direction eye bag do."
        ],
        [
         "4",
         "Class great prove reduce raise author play move each left establish understand read detail."
        ],
        [
         "5",
         "Source husband at tree note responsibility defense."
        ],
        [
         "6",
         "Much section investment on gun young catch management sense technology check civil quite others his other life edge."
        ],
        [
         "7",
         "Race Mr environment political born itself law west."
        ],
        [
         "8",
         "Medical blood personal success medical current hear claim well."
        ],
        [
         "9",
         "Affect upon these story film around there water beat magazine attorney set."
        ],
        [
         "10",
         "Close month parent who up sense ready."
        ],
        [
         "11",
         "Just military building different full open discover detail."
        ],
        [
         "12",
         "Teacher audience draw protect Democrat."
        ],
        [
         "13",
         "Drug list imagine behind probably great in tell."
        ],
        [
         "14",
         "I fund technology eat couple large."
        ],
        [
         "15",
         "Kitchen technology nearly anything yourself structure why."
        ],
        [
         "16",
         "Loss ten total clearly able hospital unit size expect recent room situation product main couple design around."
        ],
        [
         "17",
         "Once me system church whether bag."
        ],
        [
         "18",
         "Identify walk now often always."
        ],
        [
         "19",
         "Various daughter respond draw how public feel."
        ],
        [
         "20",
         "Perform none beyond Mrs media car give attention."
        ],
        [
         "21",
         "Region particularly would pressure account stage federal professional voice care break blood network evening painting response."
        ],
        [
         "22",
         "Economy traditional anything plant stop analysis four capital woman claim kind relationship night born war real chance."
        ],
        [
         "23",
         "Camera final together someone team together."
        ],
        [
         "24",
         "This image per choice upon ten wish specific thing agent say forward us soon ten specific environment skin."
        ],
        [
         "25",
         "Current truth glass star the development process."
        ],
        [
         "26",
         "Go meeting quickly such former agree theory end oil."
        ],
        [
         "27",
         "Job worker break tonight couple and job mind southern rather vote."
        ],
        [
         "28",
         "Perhaps professional by tonight medical project for recent never court."
        ],
        [
         "29",
         "Past feeling nature a expert involve oil."
        ],
        [
         "30",
         "Memory soldier where save probably exist professional people behavior weight."
        ],
        [
         "31",
         "Agency each little sure authority increase picture create recent manager."
        ],
        [
         "32",
         "Sing despite sound receive let newspaper true."
        ],
        [
         "33",
         "Write other wear through partner rest measure store natural today season listen else easy point she miss."
        ],
        [
         "34",
         "Doctor from throw ball character him check degree increase former letter."
        ],
        [
         "35",
         "Watch affect thing offer local wall fear hope through structure."
        ],
        [
         "36",
         "Major event magazine home protect something right subject try wonder move trade."
        ],
        [
         "37",
         "Career left anyone here deep force seven."
        ],
        [
         "38",
         "Strong like see appear weight difference attention whatever American all easy."
        ],
        [
         "39",
         "Prove nor design record short cold parent security boy standard who blue agent find quality when."
        ],
        [
         "40",
         "Drug recent feeling range south someone not American mouth product attention positive actually information majority item gun through least."
        ],
        [
         "41",
         "Pattern try simple let stay or focus early various everything late."
        ],
        [
         "42",
         "Agreement surface consider deep something future they red everybody act way beat result."
        ],
        [
         "43",
         "Large admit family identify during professional hard network gas you nearly goal."
        ],
        [
         "44",
         "Firm sea week real course school everybody."
        ],
        [
         "45",
         "Strategy fast guess few remain call animal."
        ],
        [
         "46",
         "Bill activity expect long future whole education technology box assume man officer rather charge."
        ],
        [
         "47",
         "Budget share paper so difficult mission late kind team."
        ],
        [
         "48",
         "Way debate decision produce church community avoid."
        ],
        [
         "49",
         "Allow explain executive teacher author."
        ]
       ],
       "shape": {
        "columns": 1,
        "rows": 1000
       }
      },
      "text/plain": [
       "0               Cause bill scientist nation opportunity.\n",
       "1      Ago current practice nation determine operatio...\n",
       "2      Democratic shake bill here grow gas enough ana...\n",
       "3            Officer relate animal direction eye bag do.\n",
       "4      Class great prove reduce raise author play mov...\n",
       "                             ...                        \n",
       "995    Thousand position sense church out explain sig...\n",
       "996       Painting try talk like maintain serious style.\n",
       "997    Produce off light before majority garden milit...\n",
       "998    Put everything our prove could party skin soon...\n",
       "999    Ok community right then police day so store co...\n",
       "Name: Notes, Length: 1000, dtype: object"
      ]
     },
     "execution_count": 18,
     "metadata": {},
     "output_type": "execute_result"
    }
   ],
   "source": [
    "df[\"Notes\"]"
   ]
  },
  {
   "cell_type": "markdown",
   "id": "ab53fa97",
   "metadata": {},
   "source": [
    "# 3.- Column analysis\n",
    "<hr>"
   ]
  },
  {
   "cell_type": "code",
   "execution_count": 19,
   "id": "3ab5d19f",
   "metadata": {},
   "outputs": [],
   "source": [
    "# Observation ID = se refiere al ID de cada registro\n",
    "# Common Name = Nombre común del cocodrilo\n",
    "# Scientific Name = Nombre científico del cocodrilo\n",
    "# Family = Familia del cocodrilo\n",
    "# Genus = Género del cocodrilo\n",
    "# Observed Length (m) = Longitud observada\n",
    "# Observed Weight (kg) = Peso del cocodrilo en kilogramos\n",
    "# Age Class = Etapa de la vida en la que está el cocodrilo\n",
    "# Sex = Sexo del cocodrilo\n",
    "# Date of Observation = Fecha de observación del cocodrilo\n",
    "# Country/Region = País o región del cocodrilo\n",
    "# Habitat Type = Tipo de habitat del cocodrilo\n",
    "# Conservation Status = Estado de conservación del cocodrilo\n",
    "# Observer Name = Nombre del que hizo el registro del cocodrilo\n",
    "# Notes = Texto al azar"
   ]
  },
  {
   "cell_type": "code",
   "execution_count": 20,
   "id": "04ee4042",
   "metadata": {},
   "outputs": [
    {
     "data": {
      "text/plain": [
       "(1000, 15)"
      ]
     },
     "execution_count": 20,
     "metadata": {},
     "output_type": "execute_result"
    }
   ],
   "source": [
    "df.shape # Hay 1000 cocodrilos"
   ]
  },
  {
   "cell_type": "code",
   "execution_count": 21,
   "id": "52b0a661",
   "metadata": {},
   "outputs": [
    {
     "data": {
      "text/plain": [
       "<Axes: xlabel='Sex'>"
      ]
     },
     "execution_count": 21,
     "metadata": {},
     "output_type": "execute_result"
    },
    {
     "data": {
      "image/png": "[encoded data removed]",
      "text/plain": [
       "<Figure size 640x480 with 1 Axes>"
      ]
     },
     "metadata": {},
     "output_type": "display_data"
    }
   ],
   "source": [
    "df[\"Sex\"].value_counts().plot(kind=\"bar\")\n",
    "# La mayoría de los cocodrilos no tiene definido su sexo"
   ]
  },
  {
   "cell_type": "code",
   "execution_count": 22,
   "id": "edd82f41",
   "metadata": {},
   "outputs": [
    {
     "data": {
      "text/plain": [
       "<Axes: xlabel='Country/Region'>"
      ]
     },
     "execution_count": 22,
     "metadata": {},
     "output_type": "execute_result"
    },
    {
     "data": {
      "image/png": "[encoded data removed]",
      "text/plain": [
       "<Figure size 640x480 with 1 Axes>"
      ]
     },
     "metadata": {},
     "output_type": "display_data"
    }
   ],
   "source": [
    "df[\"Country/Region\"].value_counts().head(5).plot(kind=\"bar\")"
   ]
  },
  {
   "cell_type": "code",
   "execution_count": 23,
   "id": "95a191bb",
   "metadata": {},
   "outputs": [
    {
     "data": {
      "text/plain": [
       "<Axes: xlabel='Conservation Status'>"
      ]
     },
     "execution_count": 23,
     "metadata": {},
     "output_type": "execute_result"
    },
    {
     "data": {
      "image/png": "[encoded data removed]",
      "text/plain": [
       "<Figure size 640x480 with 1 Axes>"
      ]
     },
     "metadata": {},
     "output_type": "display_data"
    }
   ],
   "source": [
    "df[\"Conservation Status\"].value_counts().plot(kind=\"bar\")"
   ]
  },
  {
   "cell_type": "code",
   "execution_count": 24,
   "id": "1be97a74",
   "metadata": {},
   "outputs": [
    {
     "data": {
      "text/plain": [
       "<Axes: xlabel='Genus'>"
      ]
     },
     "execution_count": 24,
     "metadata": {},
     "output_type": "execute_result"
    },
    {
     "data": {
      "image/png": "[encoded data removed]",
      "text/plain": [
       "<Figure size 640x480 with 1 Axes>"
      ]
     },
     "metadata": {},
     "output_type": "display_data"
    }
   ],
   "source": [
    "df[\"Genus\"].value_counts().plot(kind=\"bar\")"
   ]
  },
  {
   "cell_type": "code",
   "execution_count": 25,
   "id": "ca74636f",
   "metadata": {},
   "outputs": [
    {
     "data": {
      "text/plain": [
       "<Axes: xlabel='Habitat Type'>"
      ]
     },
     "execution_count": 25,
     "metadata": {},
     "output_type": "execute_result"
    },
    {
     "data": {
      "image/png": "[encoded data removed]",
      "text/plain": [
       "<Figure size 640x480 with 1 Axes>"
      ]
     },
     "metadata": {},
     "output_type": "display_data"
    }
   ],
   "source": [
    "df[\"Habitat Type\"].value_counts().plot(kind=\"bar\")"
   ]
  },
  {
   "cell_type": "code",
   "execution_count": 26,
   "id": "206778fc",
   "metadata": {},
   "outputs": [],
   "source": [
    "df2 = df[[\"Observed Weight (kg)\", \"Observed Length (m)\"]]"
   ]
  },
  {
   "cell_type": "code",
   "execution_count": 27,
   "id": "c24aba0a",
   "metadata": {},
   "outputs": [
    {
     "data": {
      "application/vnd.microsoft.datawrangler.viewer.v0+json": {
       "columns": [
        {
         "name": "index",
         "rawType": "int64",
         "type": "integer"
        },
        {
         "name": "Observed Weight (kg)",
         "rawType": "float64",
         "type": "float"
        },
        {
         "name": "Observed Length (m)",
         "rawType": "float64",
         "type": "float"
        }
       ],
       "ref": "da2bcd1e-810f-47be-813b-4105640a2689",
       "rows": [
        [
         "0",
         "62.0",
         "1.9"
        ],
        [
         "1",
         "334.5",
         "4.09"
        ],
        [
         "2",
         "118.2",
         "1.08"
        ],
        [
         "3",
         "90.4",
         "2.42"
        ],
        [
         "4",
         "269.4",
         "3.75"
        ],
        [
         "5",
         "137.4",
         "2.64"
        ],
        [
         "6",
         "157.7",
         "2.85"
        ],
        [
         "7",
         "4.7",
         "0.35"
        ],
        [
         "8",
         "201.2",
         "3.05"
        ],
        [
         "9",
         "197.2",
         "3.39"
        ],
        [
         "10",
         "15.8",
         "1.22"
        ],
        [
         "11",
         "60.7",
         "1.84"
        ],
        [
         "12",
         "121.3",
         "2.63"
        ],
        [
         "13",
         "217.7",
         "3.65"
        ],
        [
         "14",
         "19.2",
         "1.32"
        ],
        [
         "15",
         "67.9",
         "2.0"
        ],
        [
         "16",
         "61.5",
         "1.98"
        ],
        [
         "17",
         "565.0",
         "4.37"
        ],
        [
         "18",
         "31.1",
         "1.07"
        ],
        [
         "19",
         "350.9",
         "1.55"
        ],
        [
         "20",
         "89.6",
         "2.52"
        ],
        [
         "21",
         "759.8",
         "4.65"
        ],
        [
         "22",
         "36.0",
         "1.77"
        ],
        [
         "23",
         "107.9",
         "2.44"
        ],
        [
         "24",
         "342.1",
         "3.18"
        ],
        [
         "25",
         "42.4",
         "0.34"
        ],
        [
         "26",
         "174.9",
         "3.39"
        ],
        [
         "27",
         "367.9",
         "3.94"
        ],
        [
         "28",
         "196.6",
         "3.22"
        ],
        [
         "29",
         "576.6",
         "4.71"
        ],
        [
         "30",
         "80.2",
         "2.04"
        ],
        [
         "31",
         "324.4",
         "4.11"
        ],
        [
         "32",
         "85.6",
         "2.42"
        ],
        [
         "33",
         "28.9",
         "1.01"
        ],
        [
         "34",
         "36.7",
         "0.76"
        ],
        [
         "35",
         "84.2",
         "2.26"
        ],
        [
         "36",
         "21.9",
         "1.48"
        ],
        [
         "37",
         "182.7",
         "2.96"
        ],
        [
         "38",
         "24.0",
         "1.05"
        ],
        [
         "39",
         "150.3",
         "2.72"
        ],
        [
         "40",
         "195.6",
         "3.25"
        ],
        [
         "41",
         "387.4",
         "3.57"
        ],
        [
         "42",
         "33.2",
         "0.29"
        ],
        [
         "43",
         "74.0",
         "2.33"
        ],
        [
         "44",
         "90.6",
         "2.5"
        ],
        [
         "45",
         "104.1",
         "2.52"
        ],
        [
         "46",
         "155.0",
         "3.04"
        ],
        [
         "47",
         "316.6",
         "3.4"
        ],
        [
         "48",
         "96.9",
         "2.43"
        ],
        [
         "49",
         "87.4",
         "2.51"
        ]
       ],
       "shape": {
        "columns": 2,
        "rows": 1000
       }
      },
      "text/html": [
       "<div>\n",
       "<style scoped>\n",
       "    .dataframe tbody tr th:only-of-type {\n",
       "        vertical-align: middle;\n",
       "    }\n",
       "\n",
       "    .dataframe tbody tr th {\n",
       "        vertical-align: top;\n",
       "    }\n",
       "\n",
       "    .dataframe thead th {\n",
       "        text-align: right;\n",
       "    }\n",
       "</style>\n",
       "<table border=\"1\" class=\"dataframe\">\n",
       "  <thead>\n",
       "    <tr style=\"text-align: right;\">\n",
       "      <th></th>\n",
       "      <th>Observed Weight (kg)</th>\n",
       "      <th>Observed Length (m)</th>\n",
       "    </tr>\n",
       "  </thead>\n",
       "  <tbody>\n",
       "    <tr>\n",
       "      <th>0</th>\n",
       "      <td>62.0</td>\n",
       "      <td>1.90</td>\n",
       "    </tr>\n",
       "    <tr>\n",
       "      <th>1</th>\n",
       "      <td>334.5</td>\n",
       "      <td>4.09</td>\n",
       "    </tr>\n",
       "    <tr>\n",
       "      <th>2</th>\n",
       "      <td>118.2</td>\n",
       "      <td>1.08</td>\n",
       "    </tr>\n",
       "    <tr>\n",
       "      <th>3</th>\n",
       "      <td>90.4</td>\n",
       "      <td>2.42</td>\n",
       "    </tr>\n",
       "    <tr>\n",
       "      <th>4</th>\n",
       "      <td>269.4</td>\n",
       "      <td>3.75</td>\n",
       "    </tr>\n",
       "    <tr>\n",
       "      <th>...</th>\n",
       "      <td>...</td>\n",
       "      <td>...</td>\n",
       "    </tr>\n",
       "    <tr>\n",
       "      <th>995</th>\n",
       "      <td>112.3</td>\n",
       "      <td>2.55</td>\n",
       "    </tr>\n",
       "    <tr>\n",
       "      <th>996</th>\n",
       "      <td>80.3</td>\n",
       "      <td>2.27</td>\n",
       "    </tr>\n",
       "    <tr>\n",
       "      <th>997</th>\n",
       "      <td>93.5</td>\n",
       "      <td>2.34</td>\n",
       "    </tr>\n",
       "    <tr>\n",
       "      <th>998</th>\n",
       "      <td>147.6</td>\n",
       "      <td>2.82</td>\n",
       "    </tr>\n",
       "    <tr>\n",
       "      <th>999</th>\n",
       "      <td>47.4</td>\n",
       "      <td>1.73</td>\n",
       "    </tr>\n",
       "  </tbody>\n",
       "</table>\n",
       "<p>1000 rows × 2 columns</p>\n",
       "</div>"
      ],
      "text/plain": [
       "     Observed Weight (kg)  Observed Length (m)\n",
       "0                    62.0                 1.90\n",
       "1                   334.5                 4.09\n",
       "2                   118.2                 1.08\n",
       "3                    90.4                 2.42\n",
       "4                   269.4                 3.75\n",
       "..                    ...                  ...\n",
       "995                 112.3                 2.55\n",
       "996                  80.3                 2.27\n",
       "997                  93.5                 2.34\n",
       "998                 147.6                 2.82\n",
       "999                  47.4                 1.73\n",
       "\n",
       "[1000 rows x 2 columns]"
      ]
     },
     "execution_count": 27,
     "metadata": {},
     "output_type": "execute_result"
    }
   ],
   "source": [
    "df2"
   ]
  },
  {
   "cell_type": "code",
   "execution_count": 28,
   "id": "b30d0e29",
   "metadata": {},
   "outputs": [
    {
     "data": {
      "text/plain": [
       "array([[<Axes: title={'center': 'Observed Weight (kg)'}>,\n",
       "        <Axes: title={'center': 'Observed Length (m)'}>]], dtype=object)"
      ]
     },
     "execution_count": 28,
     "metadata": {},
     "output_type": "execute_result"
    },
    {
     "data": {
      "image/png": "[encoded data removed]",
      "text/plain": [
       "<Figure size 640x480 with 2 Axes>"
      ]
     },
     "metadata": {},
     "output_type": "display_data"
    }
   ],
   "source": [
    "df2.hist()"
   ]
  },
  {
   "cell_type": "code",
   "execution_count": 29,
   "id": "8af3cd70",
   "metadata": {},
   "outputs": [
    {
     "data": {
      "text/plain": [
       "<Axes: >"
      ]
     },
     "execution_count": 29,
     "metadata": {},
     "output_type": "execute_result"
    },
    {
     "data": {
      "image/png": "[encoded data removed]",
      "text/plain": [
       "<Figure size 640x480 with 1 Axes>"
      ]
     },
     "metadata": {},
     "output_type": "display_data"
    }
   ],
   "source": [
    "df2.boxplot()"
   ]
  },
  {
   "cell_type": "code",
   "execution_count": 36,
   "id": "82d0d6a6",
   "metadata": {},
   "outputs": [],
   "source": [
    "df3 = pd.DataFrame(df2[\"Observed Length (m)\"])"
   ]
  },
  {
   "cell_type": "code",
   "execution_count": 37,
   "id": "8ef22f1d",
   "metadata": {},
   "outputs": [
    {
     "data": {
      "text/plain": [
       "<Axes: >"
      ]
     },
     "execution_count": 37,
     "metadata": {},
     "output_type": "execute_result"
    },
    {
     "data": {
      "image/png": "[encoded data removed]",
      "text/plain": [
       "<Figure size 640x480 with 1 Axes>"
      ]
     },
     "metadata": {},
     "output_type": "display_data"
    }
   ],
   "source": [
    "df3.boxplot()"
   ]
  },
  {
   "cell_type": "code",
   "execution_count": 39,
   "id": "4a84152d",
   "metadata": {},
   "outputs": [
    {
     "data": {
      "application/vnd.microsoft.datawrangler.viewer.v0+json": {
       "columns": [
        {
         "name": "Country/Region",
         "rawType": "object",
         "type": "string"
        },
        {
         "name": "count",
         "rawType": "int64",
         "type": "integer"
        }
       ],
       "ref": "459cc00c-f6f1-419e-8641-71e240534cbd",
       "rows": [
        [
         "Papua New Guinea",
         "97"
        ]
       ],
       "shape": {
        "columns": 1,
        "rows": 1
       }
      },
      "text/plain": [
       "Country/Region\n",
       "Papua New Guinea    97\n",
       "Name: count, dtype: int64"
      ]
     },
     "execution_count": 39,
     "metadata": {},
     "output_type": "execute_result"
    }
   ],
   "source": [
    "df[\"Country/Region\"].value_counts().head(1)"
   ]
  },
  {
   "cell_type": "code",
   "execution_count": 41,
   "id": "4473f486",
   "metadata": {},
   "outputs": [
    {
     "data": {
      "application/vnd.microsoft.datawrangler.viewer.v0+json": {
       "columns": [
        {
         "name": "index",
         "rawType": "int64",
         "type": "integer"
        },
        {
         "name": "Observation ID",
         "rawType": "int64",
         "type": "integer"
        },
        {
         "name": "Common Name",
         "rawType": "object",
         "type": "string"
        },
        {
         "name": "Scientific Name",
         "rawType": "object",
         "type": "string"
        },
        {
         "name": "Family",
         "rawType": "object",
         "type": "string"
        },
        {
         "name": "Genus",
         "rawType": "object",
         "type": "string"
        },
        {
         "name": "Observed Length (m)",
         "rawType": "float64",
         "type": "float"
        },
        {
         "name": "Observed Weight (kg)",
         "rawType": "float64",
         "type": "float"
        },
        {
         "name": "Age Class",
         "rawType": "object",
         "type": "string"
        },
        {
         "name": "Sex",
         "rawType": "object",
         "type": "string"
        },
        {
         "name": "Date of Observation",
         "rawType": "object",
         "type": "string"
        },
        {
         "name": "Country/Region",
         "rawType": "object",
         "type": "string"
        },
        {
         "name": "Habitat Type",
         "rawType": "object",
         "type": "string"
        },
        {
         "name": "Conservation Status",
         "rawType": "object",
         "type": "string"
        },
        {
         "name": "Observer Name",
         "rawType": "object",
         "type": "string"
        },
        {
         "name": "Notes",
         "rawType": "object",
         "type": "string"
        }
       ],
       "ref": "37baa7c0-839c-4b83-af6b-78f881551879",
       "rows": [
        [
         "0",
         "1",
         "Morelet's Crocodile",
         "Crocodylus moreletii",
         "Crocodylidae",
         "Crocodylus",
         "1.9",
         "62.0",
         "Adult",
         "Male",
         "31-03-2018",
         "Belize",
         "Swamps",
         "Least Concern",
         "Allison Hill",
         "Cause bill scientist nation opportunity."
        ],
        [
         "1",
         "2",
         "American Crocodile",
         "Crocodylus acutus",
         "Crocodylidae",
         "Crocodylus",
         "4.09",
         "334.5",
         "Adult",
         "Male",
         "28-01-2015",
         "Venezuela",
         "Mangroves",
         "Vulnerable",
         "Brandon Hall",
         "Ago current practice nation determine operation speak according."
        ],
        [
         "2",
         "3",
         "Orinoco Crocodile",
         "Crocodylus intermedius",
         "Crocodylidae",
         "Crocodylus",
         "1.08",
         "118.2",
         "Juvenile",
         "Unknown",
         "07-12-2010",
         "Venezuela",
         "Flooded Savannas",
         "Critically Endangered",
         "Melissa Peterson",
         "Democratic shake bill here grow gas enough analysis least by two."
        ],
        [
         "3",
         "4",
         "Morelet's Crocodile",
         "Crocodylus moreletii",
         "Crocodylidae",
         "Crocodylus",
         "2.42",
         "90.4",
         "Adult",
         "Male",
         "01-11-2019",
         "Mexico",
         "Rivers",
         "Least Concern",
         "Edward Fuller",
         "Officer relate animal direction eye bag do."
        ],
        [
         "4",
         "5",
         "Mugger Crocodile (Marsh Crocodile)",
         "Crocodylus palustris",
         "Crocodylidae",
         "Crocodylus",
         "3.75",
         "269.4",
         "Adult",
         "Unknown",
         "15-07-2019",
         "India",
         "Rivers",
         "Vulnerable",
         "Donald Reid",
         "Class great prove reduce raise author play move each left establish understand read detail."
        ],
        [
         "5",
         "6",
         "Mugger Crocodile (Marsh Crocodile)",
         "Crocodylus palustris",
         "Crocodylidae",
         "Crocodylus",
         "2.64",
         "137.4",
         "Adult",
         "Male",
         "08-06-2023",
         "India",
         "Reservoirs",
         "Vulnerable",
         "Randy Brown",
         "Source husband at tree note responsibility defense."
        ],
        [
         "6",
         "7",
         "Siamese Crocodile",
         "Crocodylus siamensis",
         "Crocodylidae",
         "Crocodylus",
         "2.85",
         "157.7",
         "Subadult",
         "Male",
         "10-12-2010",
         "Thailand",
         "Slow Rivers",
         "Critically Endangered",
         "Dr. Marvin Thomas Jr.",
         "Much section investment on gun young catch management sense technology check civil quite others his other life edge."
        ],
        [
         "7",
         "8",
         "Congo Dwarf Crocodile",
         "Osteolaemus osborni",
         "Crocodylidae",
         "Osteolaemus",
         "0.35",
         "4.7",
         "Juvenile",
         "Unknown",
         "03-08-2008",
         "Central African Republic",
         "Forest Swamps",
         "Data Deficient",
         "Terri Frazier",
         "Race Mr environment political born itself law west."
        ],
        [
         "8",
         "9",
         "West African Crocodile",
         "Crocodylus suchus",
         "Crocodylidae",
         "Crocodylus",
         "3.05",
         "201.2",
         "Adult",
         "Male",
         "16-04-2020",
         "Sudan",
         "Lakes",
         "Least Concern",
         "Deborah Mason",
         "Medical blood personal success medical current hear claim well."
        ],
        [
         "9",
         "10",
         "Morelet's Crocodile",
         "Crocodylus moreletii",
         "Crocodylidae",
         "Crocodylus",
         "3.39",
         "197.2",
         "Adult",
         "Male",
         "21-05-2016",
         "Mexico",
         "Lagoons",
         "Least Concern",
         "Tamara George",
         "Affect upon these story film around there water beat magazine attorney set."
        ],
        [
         "10",
         "11",
         "West African Dwarf Crocodile",
         "Osteolaemus tetraspis",
         "Crocodylidae",
         "Osteolaemus",
         "1.22",
         "15.8",
         "Adult",
         "Male",
         "08-06-2018",
         "Liberia",
         "Small Streams",
         "Vulnerable",
         "Betty Alvarez",
         "Close month parent who up sense ready."
        ],
        [
         "11",
         "12",
         "Morelet's Crocodile",
         "Crocodylus moreletii",
         "Crocodylidae",
         "Crocodylus",
         "1.84",
         "60.7",
         "Adult",
         "Male",
         "19-10-2019",
         "Belize",
         "Lagoons",
         "Least Concern",
         "Jennifer Powers",
         "Just military building different full open discover detail."
        ],
        [
         "12",
         "13",
         "Siamese Crocodile",
         "Crocodylus siamensis",
         "Crocodylidae",
         "Crocodylus",
         "2.63",
         "121.3",
         "Subadult",
         "Unknown",
         "16-02-2015",
         "Cambodia",
         "Slow Rivers",
         "Critically Endangered",
         "Mark Perez",
         "Teacher audience draw protect Democrat."
        ],
        [
         "13",
         "14",
         "American Crocodile",
         "Crocodylus acutus",
         "Crocodylidae",
         "Crocodylus",
         "3.65",
         "217.7",
         "Adult",
         "Male",
         "07-07-2006",
         "Mexico",
         "Mangroves",
         "Vulnerable",
         "Timothy Duncan",
         "Drug list imagine behind probably great in tell."
        ],
        [
         "14",
         "15",
         "West African Dwarf Crocodile",
         "Osteolaemus tetraspis",
         "Crocodylidae",
         "Osteolaemus",
         "1.32",
         "19.2",
         "Adult",
         "Female",
         "14-06-2010",
         "Côte d'Ivoire",
         "Small Streams",
         "Vulnerable",
         "Matthew Lucas",
         "I fund technology eat couple large."
        ],
        [
         "15",
         "16",
         "Morelet's Crocodile",
         "Crocodylus moreletii",
         "Crocodylidae",
         "Crocodylus",
         "2.0",
         "67.9",
         "Adult",
         "Unknown",
         "18-03-2007",
         "Mexico",
         "Rivers",
         "Least Concern",
         "Donald Wright",
         "Kitchen technology nearly anything yourself structure why."
        ],
        [
         "16",
         "17",
         "Morelet's Crocodile",
         "Crocodylus moreletii",
         "Crocodylidae",
         "Crocodylus",
         "1.98",
         "61.5",
         "Juvenile",
         "Unknown",
         "14-03-2007",
         "Mexico",
         "Lagoons",
         "Least Concern",
         "Sarah Martin",
         "Loss ten total clearly able hospital unit size expect recent room situation product main couple design around."
        ],
        [
         "17",
         "18",
         "Nile Crocodile",
         "Crocodylus niloticus",
         "Crocodylidae",
         "Crocodylus",
         "4.37",
         "565.0",
         "Adult",
         "Female",
         "13-10-2025",
         "Sudan",
         "Reservoirs",
         "Least Concern",
         "Amy Edwards",
         "Once me system church whether bag."
        ],
        [
         "18",
         "19",
         "Borneo Crocodile (disputed)",
         "Crocodylus raninus",
         "Crocodylidae",
         "Crocodylus",
         "1.07",
         "31.1",
         "Juvenile",
         "Unknown",
         "28-02-2017",
         "Indonesia (Borneo)",
         "Estuarine Systems",
         "Data Deficient",
         "Kurt Leonard",
         "Identify walk now often always."
        ],
        [
         "19",
         "20",
         "Saltwater Crocodile",
         "Crocodylus porosus",
         "Crocodylidae",
         "Crocodylus",
         "1.55",
         "350.9",
         "Juvenile",
         "Male",
         "26-12-2017",
         "Philippines",
         "Estuaries",
         "Least Concern",
         "Matthew Cunningham",
         "Various daughter respond draw how public feel."
        ],
        [
         "20",
         "21",
         "Borneo Crocodile (disputed)",
         "Crocodylus raninus",
         "Crocodylidae",
         "Crocodylus",
         "2.52",
         "89.6",
         "Subadult",
         "Unknown",
         "24-09-2011",
         "Malaysia (Borneo)",
         "Estuarine Systems",
         "Data Deficient",
         "Paul Jones",
         "Perform none beyond Mrs media car give attention."
        ],
        [
         "21",
         "22",
         "Nile Crocodile",
         "Crocodylus niloticus",
         "Crocodylidae",
         "Crocodylus",
         "4.65",
         "759.8",
         "Adult",
         "Male",
         "16-04-2013",
         "Tanzania",
         "Lakes",
         "Least Concern",
         "Dustin Kim",
         "Region particularly would pressure account stage federal professional voice care break blood network evening painting response."
        ],
        [
         "22",
         "23",
         "Congo Dwarf Crocodile",
         "Osteolaemus osborni",
         "Crocodylidae",
         "Osteolaemus",
         "1.77",
         "36.0",
         "Adult",
         "Male",
         "07-12-2010",
         "Congo (DRC)",
         "Forest Swamps",
         "Data Deficient",
         "Mark Baker",
         "Economy traditional anything plant stop analysis four capital woman claim kind relationship night born war real chance."
        ],
        [
         "23",
         "24",
         "Cuban Crocodile",
         "Crocodylus rhombifer",
         "Crocodylidae",
         "Crocodylus",
         "2.44",
         "107.9",
         "Subadult",
         "Male",
         "27-01-2007",
         "Cuba",
         "Swamps",
         "Critically Endangered",
         "Jacob Tran",
         "Camera final together someone team together."
        ],
        [
         "24",
         "25",
         "Nile Crocodile",
         "Crocodylus niloticus",
         "Crocodylidae",
         "Crocodylus",
         "3.18",
         "342.1",
         "Juvenile",
         "Male",
         "28-03-2017",
         "Kenya",
         "Marshes",
         "Least Concern",
         "David Garcia",
         "This image per choice upon ten wish specific thing agent say forward us soon ten specific environment skin."
        ],
        [
         "25",
         "26",
         "Cuban Crocodile",
         "Crocodylus rhombifer",
         "Crocodylidae",
         "Crocodylus",
         "0.34",
         "42.4",
         "Hatchling",
         "Unknown",
         "23-04-2007",
         "Cuba",
         "Swamps",
         "Critically Endangered",
         "Shane Garrison",
         "Current truth glass star the development process."
        ],
        [
         "26",
         "27",
         "Mugger Crocodile (Marsh Crocodile)",
         "Crocodylus palustris",
         "Crocodylidae",
         "Crocodylus",
         "3.39",
         "174.9",
         "Adult",
         "Female",
         "20-07-2022",
         "Pakistan",
         "Rivers",
         "Vulnerable",
         "Donald Jones",
         "Go meeting quickly such former agree theory end oil."
        ],
        [
         "27",
         "28",
         "Orinoco Crocodile",
         "Crocodylus intermedius",
         "Crocodylidae",
         "Crocodylus",
         "3.94",
         "367.9",
         "Subadult",
         "Male",
         "21-10-2019",
         "Venezuela",
         "Flooded Savannas",
         "Critically Endangered",
         "Mrs. Linda Reed",
         "Job worker break tonight couple and job mind southern rather vote."
        ],
        [
         "28",
         "29",
         "Siamese Crocodile",
         "Crocodylus siamensis",
         "Crocodylidae",
         "Crocodylus",
         "3.22",
         "196.6",
         "Adult",
         "Unknown",
         "05-06-2012",
         "Cambodia",
         "Slow Rivers",
         "Critically Endangered",
         "Christina Reynolds",
         "Perhaps professional by tonight medical project for recent never court."
        ],
        [
         "29",
         "30",
         "Orinoco Crocodile",
         "Crocodylus intermedius",
         "Crocodylidae",
         "Crocodylus",
         "4.71",
         "576.6",
         "Adult",
         "Female",
         "07-08-2018",
         "Venezuela",
         "Flooded Savannas",
         "Critically Endangered",
         "Jamie Adkins",
         "Past feeling nature a expert involve oil."
        ],
        [
         "30",
         "31",
         "Siamese Crocodile",
         "Crocodylus siamensis",
         "Crocodylidae",
         "Crocodylus",
         "2.04",
         "80.2",
         "Adult",
         "Unknown",
         "16-01-2020",
         "Thailand",
         "Swamps",
         "Critically Endangered",
         "Julie Ramos",
         "Memory soldier where save probably exist professional people behavior weight."
        ],
        [
         "31",
         "32",
         "American Crocodile",
         "Crocodylus acutus",
         "Crocodylidae",
         "Crocodylus",
         "4.11",
         "324.4",
         "Adult",
         "Female",
         "10-01-2014",
         "USA (Florida)",
         "Mangroves",
         "Vulnerable",
         "Eric Drake",
         "Agency each little sure authority increase picture create recent manager."
        ],
        [
         "32",
         "33",
         "Cuban Crocodile",
         "Crocodylus rhombifer",
         "Crocodylidae",
         "Crocodylus",
         "2.42",
         "85.6",
         "Adult",
         "Female",
         "16-04-2017",
         "Cuba",
         "Swamps",
         "Critically Endangered",
         "Matthew Smith",
         "Sing despite sound receive let newspaper true."
        ],
        [
         "33",
         "34",
         "Philippine Crocodile",
         "Crocodylus mindorensis",
         "Crocodylidae",
         "Crocodylus",
         "1.01",
         "28.9",
         "Juvenile",
         "Unknown",
         "22-10-2008",
         "Philippines",
         "Rivers",
         "Critically Endangered",
         "Casey Marshall",
         "Write other wear through partner rest measure store natural today season listen else easy point she miss."
        ],
        [
         "34",
         "35",
         "New Guinea Crocodile",
         "Crocodylus novaeguineae",
         "Crocodylidae",
         "Crocodylus",
         "0.76",
         "36.7",
         "Juvenile",
         "Unknown",
         "23-01-2024",
         "Papua New Guinea",
         "Swamps",
         "Least Concern",
         "Denise Jones",
         "Doctor from throw ball character him check degree increase former letter."
        ],
        [
         "35",
         "36",
         "Philippine Crocodile",
         "Crocodylus mindorensis",
         "Crocodylidae",
         "Crocodylus",
         "2.26",
         "84.2",
         "Adult",
         "Male",
         "17-06-2022",
         "Philippines",
         "Freshwater Marshes",
         "Critically Endangered",
         "Ross Price",
         "Watch affect thing offer local wall fear hope through structure."
        ],
        [
         "36",
         "37",
         "West African Dwarf Crocodile",
         "Osteolaemus tetraspis",
         "Crocodylidae",
         "Osteolaemus",
         "1.48",
         "21.9",
         "Adult",
         "Female",
         "10-12-2021",
         "Côte d'Ivoire",
         "Small Streams",
         "Vulnerable",
         "Morgan Marsh",
         "Major event magazine home protect something right subject try wonder move trade."
        ],
        [
         "37",
         "38",
         "West African Slender-snouted Crocodile",
         "Mecistops cataphractus",
         "Crocodylidae",
         "Mecistops",
         "2.96",
         "182.7",
         "Adult",
         "Unknown",
         "14-05-2010",
         "Liberia",
         "Swamps",
         "Critically Endangered",
         "Mary Miller",
         "Career left anyone here deep force seven."
        ],
        [
         "38",
         "39",
         "Freshwater Crocodile (Johnstone's)",
         "Crocodylus johnstoni",
         "Crocodylidae",
         "Crocodylus",
         "1.05",
         "24.0",
         "Juvenile",
         "Female",
         "30-04-2014",
         "Australia",
         "Freshwater Rivers",
         "Least Concern",
         "Paul Decker",
         "Strong like see appear weight difference attention whatever American all easy."
        ],
        [
         "39",
         "40",
         "West African Crocodile",
         "Crocodylus suchus",
         "Crocodylidae",
         "Crocodylus",
         "2.72",
         "150.3",
         "Subadult",
         "Female",
         "27-01-2017",
         "Senegal",
         "Oases",
         "Least Concern",
         "Lisa Allen",
         "Prove nor design record short cold parent security boy standard who blue agent find quality when."
        ],
        [
         "40",
         "41",
         "Mugger Crocodile (Marsh Crocodile)",
         "Crocodylus palustris",
         "Crocodylidae",
         "Crocodylus",
         "3.25",
         "195.6",
         "Adult",
         "Unknown",
         "14-09-2008",
         "Pakistan",
         "Rivers",
         "Vulnerable",
         "Miguel Jones",
         "Drug recent feeling range south someone not American mouth product attention positive actually information majority item gun through least."
        ],
        [
         "41",
         "42",
         "Nile Crocodile",
         "Crocodylus niloticus",
         "Crocodylidae",
         "Crocodylus",
         "3.57",
         "387.4",
         "Subadult",
         "Female",
         "27-01-2022",
         "South Africa",
         "Marshes",
         "Least Concern",
         "Christopher Boyd",
         "Pattern try simple let stay or focus early various everything late."
        ],
        [
         "42",
         "43",
         "Siamese Crocodile",
         "Crocodylus siamensis",
         "Crocodylidae",
         "Crocodylus",
         "0.29",
         "33.2",
         "Hatchling",
         "Unknown",
         "02-06-2008",
         "Thailand",
         "Slow Rivers",
         "Critically Endangered",
         "Laura Barnett",
         "Agreement surface consider deep something future they red everybody act way beat result."
        ],
        [
         "43",
         "44",
         "Morelet's Crocodile",
         "Crocodylus moreletii",
         "Crocodylidae",
         "Crocodylus",
         "2.33",
         "74.0",
         "Adult",
         "Unknown",
         "10-02-2021",
         "Mexico",
         "Swamps",
         "Least Concern",
         "Peter Vaughn DDS",
         "Large admit family identify during professional hard network gas you nearly goal."
        ],
        [
         "44",
         "45",
         "Morelet's Crocodile",
         "Crocodylus moreletii",
         "Crocodylidae",
         "Crocodylus",
         "2.5",
         "90.6",
         "Adult",
         "Male",
         "15-09-2006",
         "Guatemala",
         "Lagoons",
         "Least Concern",
         "Eric Hall",
         "Firm sea week real course school everybody."
        ],
        [
         "45",
         "46",
         "Morelet's Crocodile",
         "Crocodylus moreletii",
         "Crocodylidae",
         "Crocodylus",
         "2.52",
         "104.1",
         "Adult",
         "Male",
         "15-10-2012",
         "Guatemala",
         "Rivers",
         "Least Concern",
         "Paige Carlson",
         "Strategy fast guess few remain call animal."
        ],
        [
         "46",
         "47",
         "American Crocodile",
         "Crocodylus acutus",
         "Crocodylidae",
         "Crocodylus",
         "3.04",
         "155.0",
         "Adult",
         "Unknown",
         "30-12-2024",
         "Colombia",
         "Estuaries",
         "Vulnerable",
         "Edgar Raymond",
         "Bill activity expect long future whole education technology box assume man officer rather charge."
        ],
        [
         "47",
         "48",
         "Orinoco Crocodile",
         "Crocodylus intermedius",
         "Crocodylidae",
         "Crocodylus",
         "3.4",
         "316.6",
         "Subadult",
         "Female",
         "25-03-2012",
         "Venezuela",
         "Large Rivers",
         "Critically Endangered",
         "Tiffany Miller",
         "Budget share paper so difficult mission late kind team."
        ],
        [
         "48",
         "49",
         "West African Slender-snouted Crocodile",
         "Mecistops cataphractus",
         "Crocodylidae",
         "Mecistops",
         "2.43",
         "96.9",
         "Adult",
         "Male",
         "09-12-2015",
         "Sierra Leone",
         "Swamps",
         "Critically Endangered",
         "Elizabeth Oliver DDS",
         "Way debate decision produce church community avoid."
        ],
        [
         "49",
         "50",
         "New Guinea Crocodile",
         "Crocodylus novaeguineae",
         "Crocodylidae",
         "Crocodylus",
         "2.51",
         "87.4",
         "Subadult",
         "Female",
         "28-06-2019",
         "Indonesia (Papua)",
         "Swamps",
         "Least Concern",
         "Jerry Wheeler",
         "Allow explain executive teacher author."
        ]
       ],
       "shape": {
        "columns": 15,
        "rows": 1000
       }
      },
      "text/html": [
       "<div>\n",
       "<style scoped>\n",
       "    .dataframe tbody tr th:only-of-type {\n",
       "        vertical-align: middle;\n",
       "    }\n",
       "\n",
       "    .dataframe tbody tr th {\n",
       "        vertical-align: top;\n",
       "    }\n",
       "\n",
       "    .dataframe thead th {\n",
       "        text-align: right;\n",
       "    }\n",
       "</style>\n",
       "<table border=\"1\" class=\"dataframe\">\n",
       "  <thead>\n",
       "    <tr style=\"text-align: right;\">\n",
       "      <th></th>\n",
       "      <th>Observation ID</th>\n",
       "      <th>Common Name</th>\n",
       "      <th>Scientific Name</th>\n",
       "      <th>Family</th>\n",
       "      <th>Genus</th>\n",
       "      <th>Observed Length (m)</th>\n",
       "      <th>Observed Weight (kg)</th>\n",
       "      <th>Age Class</th>\n",
       "      <th>Sex</th>\n",
       "      <th>Date of Observation</th>\n",
       "      <th>Country/Region</th>\n",
       "      <th>Habitat Type</th>\n",
       "      <th>Conservation Status</th>\n",
       "      <th>Observer Name</th>\n",
       "      <th>Notes</th>\n",
       "    </tr>\n",
       "  </thead>\n",
       "  <tbody>\n",
       "    <tr>\n",
       "      <th>0</th>\n",
       "      <td>1</td>\n",
       "      <td>Morelet's Crocodile</td>\n",
       "      <td>Crocodylus moreletii</td>\n",
       "      <td>Crocodylidae</td>\n",
       "      <td>Crocodylus</td>\n",
       "      <td>1.90</td>\n",
       "      <td>62.0</td>\n",
       "      <td>Adult</td>\n",
       "      <td>Male</td>\n",
       "      <td>31-03-2018</td>\n",
       "      <td>Belize</td>\n",
       "      <td>Swamps</td>\n",
       "      <td>Least Concern</td>\n",
       "      <td>Allison Hill</td>\n",
       "      <td>Cause bill scientist nation opportunity.</td>\n",
       "    </tr>\n",
       "    <tr>\n",
       "      <th>1</th>\n",
       "      <td>2</td>\n",
       "      <td>American Crocodile</td>\n",
       "      <td>Crocodylus acutus</td>\n",
       "      <td>Crocodylidae</td>\n",
       "      <td>Crocodylus</td>\n",
       "      <td>4.09</td>\n",
       "      <td>334.5</td>\n",
       "      <td>Adult</td>\n",
       "      <td>Male</td>\n",
       "      <td>28-01-2015</td>\n",
       "      <td>Venezuela</td>\n",
       "      <td>Mangroves</td>\n",
       "      <td>Vulnerable</td>\n",
       "      <td>Brandon Hall</td>\n",
       "      <td>Ago current practice nation determine operatio...</td>\n",
       "    </tr>\n",
       "    <tr>\n",
       "      <th>2</th>\n",
       "      <td>3</td>\n",
       "      <td>Orinoco Crocodile</td>\n",
       "      <td>Crocodylus intermedius</td>\n",
       "      <td>Crocodylidae</td>\n",
       "      <td>Crocodylus</td>\n",
       "      <td>1.08</td>\n",
       "      <td>118.2</td>\n",
       "      <td>Juvenile</td>\n",
       "      <td>Unknown</td>\n",
       "      <td>07-12-2010</td>\n",
       "      <td>Venezuela</td>\n",
       "      <td>Flooded Savannas</td>\n",
       "      <td>Critically Endangered</td>\n",
       "      <td>Melissa Peterson</td>\n",
       "      <td>Democratic shake bill here grow gas enough ana...</td>\n",
       "    </tr>\n",
       "    <tr>\n",
       "      <th>3</th>\n",
       "      <td>4</td>\n",
       "      <td>Morelet's Crocodile</td>\n",
       "      <td>Crocodylus moreletii</td>\n",
       "      <td>Crocodylidae</td>\n",
       "      <td>Crocodylus</td>\n",
       "      <td>2.42</td>\n",
       "      <td>90.4</td>\n",
       "      <td>Adult</td>\n",
       "      <td>Male</td>\n",
       "      <td>01-11-2019</td>\n",
       "      <td>Mexico</td>\n",
       "      <td>Rivers</td>\n",
       "      <td>Least Concern</td>\n",
       "      <td>Edward Fuller</td>\n",
       "      <td>Officer relate animal direction eye bag do.</td>\n",
       "    </tr>\n",
       "    <tr>\n",
       "      <th>4</th>\n",
       "      <td>5</td>\n",
       "      <td>Mugger Crocodile (Marsh Crocodile)</td>\n",
       "      <td>Crocodylus palustris</td>\n",
       "      <td>Crocodylidae</td>\n",
       "      <td>Crocodylus</td>\n",
       "      <td>3.75</td>\n",
       "      <td>269.4</td>\n",
       "      <td>Adult</td>\n",
       "      <td>Unknown</td>\n",
       "      <td>15-07-2019</td>\n",
       "      <td>India</td>\n",
       "      <td>Rivers</td>\n",
       "      <td>Vulnerable</td>\n",
       "      <td>Donald Reid</td>\n",
       "      <td>Class great prove reduce raise author play mov...</td>\n",
       "    </tr>\n",
       "    <tr>\n",
       "      <th>...</th>\n",
       "      <td>...</td>\n",
       "      <td>...</td>\n",
       "      <td>...</td>\n",
       "      <td>...</td>\n",
       "      <td>...</td>\n",
       "      <td>...</td>\n",
       "      <td>...</td>\n",
       "      <td>...</td>\n",
       "      <td>...</td>\n",
       "      <td>...</td>\n",
       "      <td>...</td>\n",
       "      <td>...</td>\n",
       "      <td>...</td>\n",
       "      <td>...</td>\n",
       "      <td>...</td>\n",
       "    </tr>\n",
       "    <tr>\n",
       "      <th>995</th>\n",
       "      <td>996</td>\n",
       "      <td>West African Crocodile</td>\n",
       "      <td>Crocodylus suchus</td>\n",
       "      <td>Crocodylidae</td>\n",
       "      <td>Crocodylus</td>\n",
       "      <td>2.55</td>\n",
       "      <td>112.3</td>\n",
       "      <td>Adult</td>\n",
       "      <td>Female</td>\n",
       "      <td>01-10-2015</td>\n",
       "      <td>Mauritania</td>\n",
       "      <td>Lakes</td>\n",
       "      <td>Least Concern</td>\n",
       "      <td>Karen Avery</td>\n",
       "      <td>Thousand position sense church out explain sig...</td>\n",
       "    </tr>\n",
       "    <tr>\n",
       "      <th>996</th>\n",
       "      <td>997</td>\n",
       "      <td>Hall's New Guinea Crocodile</td>\n",
       "      <td>Crocodylus halli</td>\n",
       "      <td>Crocodylidae</td>\n",
       "      <td>Crocodylus</td>\n",
       "      <td>2.27</td>\n",
       "      <td>80.3</td>\n",
       "      <td>Subadult</td>\n",
       "      <td>Female</td>\n",
       "      <td>25-01-2023</td>\n",
       "      <td>Papua New Guinea</td>\n",
       "      <td>Freshwater Wetlands</td>\n",
       "      <td>Least Concern</td>\n",
       "      <td>Sylvia Turner</td>\n",
       "      <td>Painting try talk like maintain serious style.</td>\n",
       "    </tr>\n",
       "    <tr>\n",
       "      <th>997</th>\n",
       "      <td>998</td>\n",
       "      <td>West African Slender-snouted Crocodile</td>\n",
       "      <td>Mecistops cataphractus</td>\n",
       "      <td>Crocodylidae</td>\n",
       "      <td>Mecistops</td>\n",
       "      <td>2.34</td>\n",
       "      <td>93.5</td>\n",
       "      <td>Adult</td>\n",
       "      <td>Male</td>\n",
       "      <td>07-02-2014</td>\n",
       "      <td>Côte d'Ivoire</td>\n",
       "      <td>Swamps</td>\n",
       "      <td>Critically Endangered</td>\n",
       "      <td>Kristin Fleming</td>\n",
       "      <td>Produce off light before majority garden milit...</td>\n",
       "    </tr>\n",
       "    <tr>\n",
       "      <th>998</th>\n",
       "      <td>999</td>\n",
       "      <td>West African Slender-snouted Crocodile</td>\n",
       "      <td>Mecistops cataphractus</td>\n",
       "      <td>Crocodylidae</td>\n",
       "      <td>Mecistops</td>\n",
       "      <td>2.82</td>\n",
       "      <td>147.6</td>\n",
       "      <td>Adult</td>\n",
       "      <td>Male</td>\n",
       "      <td>09-07-2010</td>\n",
       "      <td>Sierra Leone</td>\n",
       "      <td>Shaded Forest Rivers</td>\n",
       "      <td>Critically Endangered</td>\n",
       "      <td>Eric Petersen</td>\n",
       "      <td>Put everything our prove could party skin soon...</td>\n",
       "    </tr>\n",
       "    <tr>\n",
       "      <th>999</th>\n",
       "      <td>1000</td>\n",
       "      <td>Hall's New Guinea Crocodile</td>\n",
       "      <td>Crocodylus halli</td>\n",
       "      <td>Crocodylidae</td>\n",
       "      <td>Crocodylus</td>\n",
       "      <td>1.73</td>\n",
       "      <td>47.4</td>\n",
       "      <td>Juvenile</td>\n",
       "      <td>Unknown</td>\n",
       "      <td>31-03-2014</td>\n",
       "      <td>Papua New Guinea</td>\n",
       "      <td>Freshwater Wetlands</td>\n",
       "      <td>Least Concern</td>\n",
       "      <td>Kristen Harris</td>\n",
       "      <td>Ok community right then police day so store co...</td>\n",
       "    </tr>\n",
       "  </tbody>\n",
       "</table>\n",
       "<p>1000 rows × 15 columns</p>\n",
       "</div>"
      ],
      "text/plain": [
       "     Observation ID                             Common Name  \\\n",
       "0                 1                     Morelet's Crocodile   \n",
       "1                 2                      American Crocodile   \n",
       "2                 3                       Orinoco Crocodile   \n",
       "3                 4                     Morelet's Crocodile   \n",
       "4                 5      Mugger Crocodile (Marsh Crocodile)   \n",
       "..              ...                                     ...   \n",
       "995             996                  West African Crocodile   \n",
       "996             997             Hall's New Guinea Crocodile   \n",
       "997             998  West African Slender-snouted Crocodile   \n",
       "998             999  West African Slender-snouted Crocodile   \n",
       "999            1000             Hall's New Guinea Crocodile   \n",
       "\n",
       "            Scientific Name        Family       Genus  Observed Length (m)  \\\n",
       "0      Crocodylus moreletii  Crocodylidae  Crocodylus                 1.90   \n",
       "1         Crocodylus acutus  Crocodylidae  Crocodylus                 4.09   \n",
       "2    Crocodylus intermedius  Crocodylidae  Crocodylus                 1.08   \n",
       "3      Crocodylus moreletii  Crocodylidae  Crocodylus                 2.42   \n",
       "4      Crocodylus palustris  Crocodylidae  Crocodylus                 3.75   \n",
       "..                      ...           ...         ...                  ...   \n",
       "995       Crocodylus suchus  Crocodylidae  Crocodylus                 2.55   \n",
       "996        Crocodylus halli  Crocodylidae  Crocodylus                 2.27   \n",
       "997  Mecistops cataphractus  Crocodylidae   Mecistops                 2.34   \n",
       "998  Mecistops cataphractus  Crocodylidae   Mecistops                 2.82   \n",
       "999        Crocodylus halli  Crocodylidae  Crocodylus                 1.73   \n",
       "\n",
       "     Observed Weight (kg) Age Class      Sex Date of Observation  \\\n",
       "0                    62.0     Adult     Male          31-03-2018   \n",
       "1                   334.5     Adult     Male          28-01-2015   \n",
       "2                   118.2  Juvenile  Unknown          07-12-2010   \n",
       "3                    90.4     Adult     Male          01-11-2019   \n",
       "4                   269.4     Adult  Unknown          15-07-2019   \n",
       "..                    ...       ...      ...                 ...   \n",
       "995                 112.3     Adult   Female          01-10-2015   \n",
       "996                  80.3  Subadult   Female          25-01-2023   \n",
       "997                  93.5     Adult     Male          07-02-2014   \n",
       "998                 147.6     Adult     Male          09-07-2010   \n",
       "999                  47.4  Juvenile  Unknown          31-03-2014   \n",
       "\n",
       "       Country/Region          Habitat Type    Conservation Status  \\\n",
       "0              Belize                Swamps          Least Concern   \n",
       "1           Venezuela             Mangroves             Vulnerable   \n",
       "2           Venezuela      Flooded Savannas  Critically Endangered   \n",
       "3              Mexico                Rivers          Least Concern   \n",
       "4               India                Rivers             Vulnerable   \n",
       "..                ...                   ...                    ...   \n",
       "995        Mauritania                 Lakes          Least Concern   \n",
       "996  Papua New Guinea   Freshwater Wetlands          Least Concern   \n",
       "997     Côte d'Ivoire                Swamps  Critically Endangered   \n",
       "998      Sierra Leone  Shaded Forest Rivers  Critically Endangered   \n",
       "999  Papua New Guinea   Freshwater Wetlands          Least Concern   \n",
       "\n",
       "        Observer Name                                              Notes  \n",
       "0        Allison Hill           Cause bill scientist nation opportunity.  \n",
       "1        Brandon Hall  Ago current practice nation determine operatio...  \n",
       "2    Melissa Peterson  Democratic shake bill here grow gas enough ana...  \n",
       "3       Edward Fuller        Officer relate animal direction eye bag do.  \n",
       "4         Donald Reid  Class great prove reduce raise author play mov...  \n",
       "..                ...                                                ...  \n",
       "995       Karen Avery  Thousand position sense church out explain sig...  \n",
       "996     Sylvia Turner     Painting try talk like maintain serious style.  \n",
       "997   Kristin Fleming  Produce off light before majority garden milit...  \n",
       "998     Eric Petersen  Put everything our prove could party skin soon...  \n",
       "999    Kristen Harris  Ok community right then police day so store co...  \n",
       "\n",
       "[1000 rows x 15 columns]"
      ]
     },
     "execution_count": 41,
     "metadata": {},
     "output_type": "execute_result"
    }
   ],
   "source": [
    "df"
   ]
  },
  {
   "cell_type": "code",
   "execution_count": 51,
   "id": "9b70b274",
   "metadata": {},
   "outputs": [
    {
     "data": {
      "application/vnd.microsoft.datawrangler.viewer.v0+json": {
       "columns": [
        {
         "name": "('Sex', 'Country/Region')",
         "rawType": "object",
         "type": "unknown"
        },
        {
         "name": "Sex",
         "rawType": "int64",
         "type": "integer"
        }
       ],
       "ref": "c5f2e5bd-ca52-443a-b944-e3f58f8b0c7e",
       "rows": [
        [
         "('Female', 'Australia')",
         "22"
        ],
        [
         "('Female', 'Belize')",
         "5"
        ],
        [
         "('Female', 'Cambodia')",
         "6"
        ],
        [
         "('Female', 'Cameroon')",
         "8"
        ],
        [
         "('Female', 'Central African Republic')",
         "4"
        ],
        [
         "('Female', 'Chad')",
         "4"
        ],
        [
         "('Female', 'Colombia')",
         "9"
        ],
        [
         "('Female', 'Congo (DRC)')",
         "12"
        ],
        [
         "('Female', 'Congo Basin Countries')",
         "6"
        ],
        [
         "('Female', 'Costa Rica')",
         "1"
        ],
        [
         "('Female', 'Cuba')",
         "26"
        ],
        [
         "('Female', \"Côte d'Ivoire\")",
         "7"
        ],
        [
         "('Female', 'Egypt')",
         "1"
        ],
        [
         "('Female', 'Gabon')",
         "6"
        ],
        [
         "('Female', 'Ghana')",
         "3"
        ],
        [
         "('Female', 'Guatemala')",
         "8"
        ],
        [
         "('Female', 'Guinea')",
         "6"
        ],
        [
         "('Female', 'India')",
         "7"
        ],
        [
         "('Female', 'Indonesia (Borneo)')",
         "5"
        ],
        [
         "('Female', 'Indonesia (Papua)')",
         "12"
        ],
        [
         "('Female', 'Iran (historic)')",
         "5"
        ],
        [
         "('Female', 'Kenya')",
         "2"
        ],
        [
         "('Female', 'Laos')",
         "2"
        ],
        [
         "('Female', 'Liberia')",
         "7"
        ],
        [
         "('Female', 'Malaysia')",
         "3"
        ],
        [
         "('Female', 'Malaysia (Borneo)')",
         "10"
        ],
        [
         "('Female', 'Mali')",
         "5"
        ],
        [
         "('Female', 'Mauritania')",
         "3"
        ],
        [
         "('Female', 'Mexico')",
         "8"
        ],
        [
         "('Female', 'Nepal')",
         "3"
        ],
        [
         "('Female', 'Niger')",
         "3"
        ],
        [
         "('Female', 'Nigeria')",
         "2"
        ],
        [
         "('Female', 'Pakistan')",
         "7"
        ],
        [
         "('Female', 'Papua New Guinea')",
         "26"
        ],
        [
         "('Female', 'Philippines')",
         "25"
        ],
        [
         "('Female', 'Senegal')",
         "4"
        ],
        [
         "('Female', 'Sierra Leone')",
         "5"
        ],
        [
         "('Female', 'South Africa')",
         "1"
        ],
        [
         "('Female', 'Sri Lanka')",
         "1"
        ],
        [
         "('Female', 'Sudan')",
         "7"
        ],
        [
         "('Female', 'Tanzania')",
         "3"
        ],
        [
         "('Female', 'Thailand')",
         "4"
        ],
        [
         "('Female', 'USA (Florida)')",
         "4"
        ],
        [
         "('Female', 'Uganda')",
         "4"
        ],
        [
         "('Female', 'Venezuela')",
         "16"
        ],
        [
         "('Female', 'Vietnam')",
         "3"
        ],
        [
         "('Male', 'Australia')",
         "17"
        ],
        [
         "('Male', 'Belize')",
         "7"
        ],
        [
         "('Male', 'Cambodia')",
         "4"
        ],
        [
         "('Male', 'Cameroon')",
         "12"
        ]
       ],
       "shape": {
        "columns": 1,
        "rows": 138
       }
      },
      "text/plain": [
       "Sex      Country/Region          \n",
       "Female   Australia                   22\n",
       "         Belize                       5\n",
       "         Cambodia                     6\n",
       "         Cameroon                     8\n",
       "         Central African Republic     4\n",
       "                                     ..\n",
       "Unknown  Thailand                     4\n",
       "         USA (Florida)                3\n",
       "         Uganda                       1\n",
       "         Venezuela                   18\n",
       "         Vietnam                      4\n",
       "Name: Sex, Length: 138, dtype: int64"
      ]
     },
     "execution_count": 51,
     "metadata": {},
     "output_type": "execute_result"
    }
   ],
   "source": [
    "df.groupby([\"Sex\", \"Country/Region\"])[\"Sex\"].count()"
   ]
  },
  {
   "cell_type": "code",
   "execution_count": 56,
   "id": "beebb757",
   "metadata": {},
   "outputs": [],
   "source": [
    "df_papua = df[df[\"Country/Region\"] == \"Papua New Guinea\"] # Filtrar mediante una máscara"
   ]
  },
  {
   "cell_type": "code",
   "execution_count": 59,
   "id": "b8a53f22",
   "metadata": {},
   "outputs": [
    {
     "data": {
      "application/vnd.microsoft.datawrangler.viewer.v0+json": {
       "columns": [
        {
         "name": "Sex",
         "rawType": "object",
         "type": "string"
        },
        {
         "name": "count",
         "rawType": "int64",
         "type": "integer"
        }
       ],
       "ref": "387e7e9a-7339-45fa-b616-8535fc557dde",
       "rows": [
        [
         "Unknown",
         "38"
        ],
        [
         "Male",
         "33"
        ],
        [
         "Female",
         "26"
        ]
       ],
       "shape": {
        "columns": 1,
        "rows": 3
       }
      },
      "text/plain": [
       "Sex\n",
       "Unknown    38\n",
       "Male       33\n",
       "Female     26\n",
       "Name: count, dtype: int64"
      ]
     },
     "execution_count": 59,
     "metadata": {},
     "output_type": "execute_result"
    }
   ],
   "source": [
    "df_papua[\"Sex\"].value_counts()"
   ]
  },
  {
   "cell_type": "code",
   "execution_count": 61,
   "id": "c9d48b39",
   "metadata": {},
   "outputs": [
    {
     "data": {
      "application/vnd.microsoft.datawrangler.viewer.v0+json": {
       "columns": [
        {
         "name": "index",
         "rawType": "int64",
         "type": "integer"
        },
        {
         "name": "Observation ID",
         "rawType": "int64",
         "type": "integer"
        },
        {
         "name": "Common Name",
         "rawType": "object",
         "type": "string"
        },
        {
         "name": "Scientific Name",
         "rawType": "object",
         "type": "string"
        },
        {
         "name": "Family",
         "rawType": "object",
         "type": "string"
        },
        {
         "name": "Genus",
         "rawType": "object",
         "type": "string"
        },
        {
         "name": "Observed Length (m)",
         "rawType": "float64",
         "type": "float"
        },
        {
         "name": "Observed Weight (kg)",
         "rawType": "float64",
         "type": "float"
        },
        {
         "name": "Age Class",
         "rawType": "object",
         "type": "string"
        },
        {
         "name": "Sex",
         "rawType": "object",
         "type": "string"
        },
        {
         "name": "Date of Observation",
         "rawType": "object",
         "type": "string"
        },
        {
         "name": "Country/Region",
         "rawType": "object",
         "type": "string"
        },
        {
         "name": "Habitat Type",
         "rawType": "object",
         "type": "string"
        },
        {
         "name": "Conservation Status",
         "rawType": "object",
         "type": "string"
        },
        {
         "name": "Observer Name",
         "rawType": "object",
         "type": "string"
        },
        {
         "name": "Notes",
         "rawType": "object",
         "type": "string"
        }
       ],
       "ref": "f962d4ac-8e55-42a1-9d48-4afefa4c9836",
       "rows": [
        [
         "0",
         "1",
         "Morelet's Crocodile",
         "Crocodylus moreletii",
         "Crocodylidae",
         "Crocodylus",
         "1.9",
         "62.0",
         "Adult",
         "Male",
         "31-03-2018",
         "Belize",
         "Swamps",
         "Least Concern",
         "Allison Hill",
         "Cause bill scientist nation opportunity."
        ],
        [
         "1",
         "2",
         "American Crocodile",
         "Crocodylus acutus",
         "Crocodylidae",
         "Crocodylus",
         "4.09",
         "334.5",
         "Adult",
         "Male",
         "28-01-2015",
         "Venezuela",
         "Mangroves",
         "Vulnerable",
         "Brandon Hall",
         "Ago current practice nation determine operation speak according."
        ],
        [
         "2",
         "3",
         "Orinoco Crocodile",
         "Crocodylus intermedius",
         "Crocodylidae",
         "Crocodylus",
         "1.08",
         "118.2",
         "Juvenile",
         "Unknown",
         "07-12-2010",
         "Venezuela",
         "Flooded Savannas",
         "Critically Endangered",
         "Melissa Peterson",
         "Democratic shake bill here grow gas enough analysis least by two."
        ],
        [
         "3",
         "4",
         "Morelet's Crocodile",
         "Crocodylus moreletii",
         "Crocodylidae",
         "Crocodylus",
         "2.42",
         "90.4",
         "Adult",
         "Male",
         "01-11-2019",
         "Mexico",
         "Rivers",
         "Least Concern",
         "Edward Fuller",
         "Officer relate animal direction eye bag do."
        ],
        [
         "4",
         "5",
         "Mugger Crocodile (Marsh Crocodile)",
         "Crocodylus palustris",
         "Crocodylidae",
         "Crocodylus",
         "3.75",
         "269.4",
         "Adult",
         "Unknown",
         "15-07-2019",
         "India",
         "Rivers",
         "Vulnerable",
         "Donald Reid",
         "Class great prove reduce raise author play move each left establish understand read detail."
        ],
        [
         "5",
         "6",
         "Mugger Crocodile (Marsh Crocodile)",
         "Crocodylus palustris",
         "Crocodylidae",
         "Crocodylus",
         "2.64",
         "137.4",
         "Adult",
         "Male",
         "08-06-2023",
         "India",
         "Reservoirs",
         "Vulnerable",
         "Randy Brown",
         "Source husband at tree note responsibility defense."
        ],
        [
         "6",
         "7",
         "Siamese Crocodile",
         "Crocodylus siamensis",
         "Crocodylidae",
         "Crocodylus",
         "2.85",
         "157.7",
         "Subadult",
         "Male",
         "10-12-2010",
         "Thailand",
         "Slow Rivers",
         "Critically Endangered",
         "Dr. Marvin Thomas Jr.",
         "Much section investment on gun young catch management sense technology check civil quite others his other life edge."
        ],
        [
         "7",
         "8",
         "Congo Dwarf Crocodile",
         "Osteolaemus osborni",
         "Crocodylidae",
         "Osteolaemus",
         "0.35",
         "4.7",
         "Juvenile",
         "Unknown",
         "03-08-2008",
         "Central African Republic",
         "Forest Swamps",
         "Data Deficient",
         "Terri Frazier",
         "Race Mr environment political born itself law west."
        ],
        [
         "8",
         "9",
         "West African Crocodile",
         "Crocodylus suchus",
         "Crocodylidae",
         "Crocodylus",
         "3.05",
         "201.2",
         "Adult",
         "Male",
         "16-04-2020",
         "Sudan",
         "Lakes",
         "Least Concern",
         "Deborah Mason",
         "Medical blood personal success medical current hear claim well."
        ],
        [
         "9",
         "10",
         "Morelet's Crocodile",
         "Crocodylus moreletii",
         "Crocodylidae",
         "Crocodylus",
         "3.39",
         "197.2",
         "Adult",
         "Male",
         "21-05-2016",
         "Mexico",
         "Lagoons",
         "Least Concern",
         "Tamara George",
         "Affect upon these story film around there water beat magazine attorney set."
        ],
        [
         "10",
         "11",
         "West African Dwarf Crocodile",
         "Osteolaemus tetraspis",
         "Crocodylidae",
         "Osteolaemus",
         "1.22",
         "15.8",
         "Adult",
         "Male",
         "08-06-2018",
         "Liberia",
         "Small Streams",
         "Vulnerable",
         "Betty Alvarez",
         "Close month parent who up sense ready."
        ],
        [
         "11",
         "12",
         "Morelet's Crocodile",
         "Crocodylus moreletii",
         "Crocodylidae",
         "Crocodylus",
         "1.84",
         "60.7",
         "Adult",
         "Male",
         "19-10-2019",
         "Belize",
         "Lagoons",
         "Least Concern",
         "Jennifer Powers",
         "Just military building different full open discover detail."
        ],
        [
         "12",
         "13",
         "Siamese Crocodile",
         "Crocodylus siamensis",
         "Crocodylidae",
         "Crocodylus",
         "2.63",
         "121.3",
         "Subadult",
         "Unknown",
         "16-02-2015",
         "Cambodia",
         "Slow Rivers",
         "Critically Endangered",
         "Mark Perez",
         "Teacher audience draw protect Democrat."
        ],
        [
         "13",
         "14",
         "American Crocodile",
         "Crocodylus acutus",
         "Crocodylidae",
         "Crocodylus",
         "3.65",
         "217.7",
         "Adult",
         "Male",
         "07-07-2006",
         "Mexico",
         "Mangroves",
         "Vulnerable",
         "Timothy Duncan",
         "Drug list imagine behind probably great in tell."
        ],
        [
         "14",
         "15",
         "West African Dwarf Crocodile",
         "Osteolaemus tetraspis",
         "Crocodylidae",
         "Osteolaemus",
         "1.32",
         "19.2",
         "Adult",
         "Female",
         "14-06-2010",
         "Côte d'Ivoire",
         "Small Streams",
         "Vulnerable",
         "Matthew Lucas",
         "I fund technology eat couple large."
        ],
        [
         "15",
         "16",
         "Morelet's Crocodile",
         "Crocodylus moreletii",
         "Crocodylidae",
         "Crocodylus",
         "2.0",
         "67.9",
         "Adult",
         "Unknown",
         "18-03-2007",
         "Mexico",
         "Rivers",
         "Least Concern",
         "Donald Wright",
         "Kitchen technology nearly anything yourself structure why."
        ],
        [
         "16",
         "17",
         "Morelet's Crocodile",
         "Crocodylus moreletii",
         "Crocodylidae",
         "Crocodylus",
         "1.98",
         "61.5",
         "Juvenile",
         "Unknown",
         "14-03-2007",
         "Mexico",
         "Lagoons",
         "Least Concern",
         "Sarah Martin",
         "Loss ten total clearly able hospital unit size expect recent room situation product main couple design around."
        ],
        [
         "17",
         "18",
         "Nile Crocodile",
         "Crocodylus niloticus",
         "Crocodylidae",
         "Crocodylus",
         "4.37",
         "565.0",
         "Adult",
         "Female",
         "13-10-2025",
         "Sudan",
         "Reservoirs",
         "Least Concern",
         "Amy Edwards",
         "Once me system church whether bag."
        ],
        [
         "18",
         "19",
         "Borneo Crocodile (disputed)",
         "Crocodylus raninus",
         "Crocodylidae",
         "Crocodylus",
         "1.07",
         "31.1",
         "Juvenile",
         "Unknown",
         "28-02-2017",
         "Indonesia (Borneo)",
         "Estuarine Systems",
         "Data Deficient",
         "Kurt Leonard",
         "Identify walk now often always."
        ],
        [
         "19",
         "20",
         "Saltwater Crocodile",
         "Crocodylus porosus",
         "Crocodylidae",
         "Crocodylus",
         "1.55",
         "350.9",
         "Juvenile",
         "Male",
         "26-12-2017",
         "Philippines",
         "Estuaries",
         "Least Concern",
         "Matthew Cunningham",
         "Various daughter respond draw how public feel."
        ],
        [
         "20",
         "21",
         "Borneo Crocodile (disputed)",
         "Crocodylus raninus",
         "Crocodylidae",
         "Crocodylus",
         "2.52",
         "89.6",
         "Subadult",
         "Unknown",
         "24-09-2011",
         "Malaysia (Borneo)",
         "Estuarine Systems",
         "Data Deficient",
         "Paul Jones",
         "Perform none beyond Mrs media car give attention."
        ],
        [
         "21",
         "22",
         "Nile Crocodile",
         "Crocodylus niloticus",
         "Crocodylidae",
         "Crocodylus",
         "4.65",
         "759.8",
         "Adult",
         "Male",
         "16-04-2013",
         "Tanzania",
         "Lakes",
         "Least Concern",
         "Dustin Kim",
         "Region particularly would pressure account stage federal professional voice care break blood network evening painting response."
        ],
        [
         "22",
         "23",
         "Congo Dwarf Crocodile",
         "Osteolaemus osborni",
         "Crocodylidae",
         "Osteolaemus",
         "1.77",
         "36.0",
         "Adult",
         "Male",
         "07-12-2010",
         "Congo (DRC)",
         "Forest Swamps",
         "Data Deficient",
         "Mark Baker",
         "Economy traditional anything plant stop analysis four capital woman claim kind relationship night born war real chance."
        ],
        [
         "23",
         "24",
         "Cuban Crocodile",
         "Crocodylus rhombifer",
         "Crocodylidae",
         "Crocodylus",
         "2.44",
         "107.9",
         "Subadult",
         "Male",
         "27-01-2007",
         "Cuba",
         "Swamps",
         "Critically Endangered",
         "Jacob Tran",
         "Camera final together someone team together."
        ],
        [
         "24",
         "25",
         "Nile Crocodile",
         "Crocodylus niloticus",
         "Crocodylidae",
         "Crocodylus",
         "3.18",
         "342.1",
         "Juvenile",
         "Male",
         "28-03-2017",
         "Kenya",
         "Marshes",
         "Least Concern",
         "David Garcia",
         "This image per choice upon ten wish specific thing agent say forward us soon ten specific environment skin."
        ],
        [
         "25",
         "26",
         "Cuban Crocodile",
         "Crocodylus rhombifer",
         "Crocodylidae",
         "Crocodylus",
         "0.34",
         "42.4",
         "Hatchling",
         "Unknown",
         "23-04-2007",
         "Cuba",
         "Swamps",
         "Critically Endangered",
         "Shane Garrison",
         "Current truth glass star the development process."
        ],
        [
         "26",
         "27",
         "Mugger Crocodile (Marsh Crocodile)",
         "Crocodylus palustris",
         "Crocodylidae",
         "Crocodylus",
         "3.39",
         "174.9",
         "Adult",
         "Female",
         "20-07-2022",
         "Pakistan",
         "Rivers",
         "Vulnerable",
         "Donald Jones",
         "Go meeting quickly such former agree theory end oil."
        ],
        [
         "27",
         "28",
         "Orinoco Crocodile",
         "Crocodylus intermedius",
         "Crocodylidae",
         "Crocodylus",
         "3.94",
         "367.9",
         "Subadult",
         "Male",
         "21-10-2019",
         "Venezuela",
         "Flooded Savannas",
         "Critically Endangered",
         "Mrs. Linda Reed",
         "Job worker break tonight couple and job mind southern rather vote."
        ],
        [
         "28",
         "29",
         "Siamese Crocodile",
         "Crocodylus siamensis",
         "Crocodylidae",
         "Crocodylus",
         "3.22",
         "196.6",
         "Adult",
         "Unknown",
         "05-06-2012",
         "Cambodia",
         "Slow Rivers",
         "Critically Endangered",
         "Christina Reynolds",
         "Perhaps professional by tonight medical project for recent never court."
        ],
        [
         "29",
         "30",
         "Orinoco Crocodile",
         "Crocodylus intermedius",
         "Crocodylidae",
         "Crocodylus",
         "4.71",
         "576.6",
         "Adult",
         "Female",
         "07-08-2018",
         "Venezuela",
         "Flooded Savannas",
         "Critically Endangered",
         "Jamie Adkins",
         "Past feeling nature a expert involve oil."
        ],
        [
         "30",
         "31",
         "Siamese Crocodile",
         "Crocodylus siamensis",
         "Crocodylidae",
         "Crocodylus",
         "2.04",
         "80.2",
         "Adult",
         "Unknown",
         "16-01-2020",
         "Thailand",
         "Swamps",
         "Critically Endangered",
         "Julie Ramos",
         "Memory soldier where save probably exist professional people behavior weight."
        ],
        [
         "31",
         "32",
         "American Crocodile",
         "Crocodylus acutus",
         "Crocodylidae",
         "Crocodylus",
         "4.11",
         "324.4",
         "Adult",
         "Female",
         "10-01-2014",
         "USA (Florida)",
         "Mangroves",
         "Vulnerable",
         "Eric Drake",
         "Agency each little sure authority increase picture create recent manager."
        ],
        [
         "32",
         "33",
         "Cuban Crocodile",
         "Crocodylus rhombifer",
         "Crocodylidae",
         "Crocodylus",
         "2.42",
         "85.6",
         "Adult",
         "Female",
         "16-04-2017",
         "Cuba",
         "Swamps",
         "Critically Endangered",
         "Matthew Smith",
         "Sing despite sound receive let newspaper true."
        ],
        [
         "33",
         "34",
         "Philippine Crocodile",
         "Crocodylus mindorensis",
         "Crocodylidae",
         "Crocodylus",
         "1.01",
         "28.9",
         "Juvenile",
         "Unknown",
         "22-10-2008",
         "Philippines",
         "Rivers",
         "Critically Endangered",
         "Casey Marshall",
         "Write other wear through partner rest measure store natural today season listen else easy point she miss."
        ],
        [
         "34",
         "35",
         "New Guinea Crocodile",
         "Crocodylus novaeguineae",
         "Crocodylidae",
         "Crocodylus",
         "0.76",
         "36.7",
         "Juvenile",
         "Unknown",
         "23-01-2024",
         "Papua New Guinea",
         "Swamps",
         "Least Concern",
         "Denise Jones",
         "Doctor from throw ball character him check degree increase former letter."
        ],
        [
         "35",
         "36",
         "Philippine Crocodile",
         "Crocodylus mindorensis",
         "Crocodylidae",
         "Crocodylus",
         "2.26",
         "84.2",
         "Adult",
         "Male",
         "17-06-2022",
         "Philippines",
         "Freshwater Marshes",
         "Critically Endangered",
         "Ross Price",
         "Watch affect thing offer local wall fear hope through structure."
        ],
        [
         "36",
         "37",
         "West African Dwarf Crocodile",
         "Osteolaemus tetraspis",
         "Crocodylidae",
         "Osteolaemus",
         "1.48",
         "21.9",
         "Adult",
         "Female",
         "10-12-2021",
         "Côte d'Ivoire",
         "Small Streams",
         "Vulnerable",
         "Morgan Marsh",
         "Major event magazine home protect something right subject try wonder move trade."
        ],
        [
         "37",
         "38",
         "West African Slender-snouted Crocodile",
         "Mecistops cataphractus",
         "Crocodylidae",
         "Mecistops",
         "2.96",
         "182.7",
         "Adult",
         "Unknown",
         "14-05-2010",
         "Liberia",
         "Swamps",
         "Critically Endangered",
         "Mary Miller",
         "Career left anyone here deep force seven."
        ],
        [
         "38",
         "39",
         "Freshwater Crocodile (Johnstone's)",
         "Crocodylus johnstoni",
         "Crocodylidae",
         "Crocodylus",
         "1.05",
         "24.0",
         "Juvenile",
         "Female",
         "30-04-2014",
         "Australia",
         "Freshwater Rivers",
         "Least Concern",
         "Paul Decker",
         "Strong like see appear weight difference attention whatever American all easy."
        ],
        [
         "39",
         "40",
         "West African Crocodile",
         "Crocodylus suchus",
         "Crocodylidae",
         "Crocodylus",
         "2.72",
         "150.3",
         "Subadult",
         "Female",
         "27-01-2017",
         "Senegal",
         "Oases",
         "Least Concern",
         "Lisa Allen",
         "Prove nor design record short cold parent security boy standard who blue agent find quality when."
        ],
        [
         "40",
         "41",
         "Mugger Crocodile (Marsh Crocodile)",
         "Crocodylus palustris",
         "Crocodylidae",
         "Crocodylus",
         "3.25",
         "195.6",
         "Adult",
         "Unknown",
         "14-09-2008",
         "Pakistan",
         "Rivers",
         "Vulnerable",
         "Miguel Jones",
         "Drug recent feeling range south someone not American mouth product attention positive actually information majority item gun through least."
        ],
        [
         "41",
         "42",
         "Nile Crocodile",
         "Crocodylus niloticus",
         "Crocodylidae",
         "Crocodylus",
         "3.57",
         "387.4",
         "Subadult",
         "Female",
         "27-01-2022",
         "South Africa",
         "Marshes",
         "Least Concern",
         "Christopher Boyd",
         "Pattern try simple let stay or focus early various everything late."
        ],
        [
         "42",
         "43",
         "Siamese Crocodile",
         "Crocodylus siamensis",
         "Crocodylidae",
         "Crocodylus",
         "0.29",
         "33.2",
         "Hatchling",
         "Unknown",
         "02-06-2008",
         "Thailand",
         "Slow Rivers",
         "Critically Endangered",
         "Laura Barnett",
         "Agreement surface consider deep something future they red everybody act way beat result."
        ],
        [
         "43",
         "44",
         "Morelet's Crocodile",
         "Crocodylus moreletii",
         "Crocodylidae",
         "Crocodylus",
         "2.33",
         "74.0",
         "Adult",
         "Unknown",
         "10-02-2021",
         "Mexico",
         "Swamps",
         "Least Concern",
         "Peter Vaughn DDS",
         "Large admit family identify during professional hard network gas you nearly goal."
        ],
        [
         "44",
         "45",
         "Morelet's Crocodile",
         "Crocodylus moreletii",
         "Crocodylidae",
         "Crocodylus",
         "2.5",
         "90.6",
         "Adult",
         "Male",
         "15-09-2006",
         "Guatemala",
         "Lagoons",
         "Least Concern",
         "Eric Hall",
         "Firm sea week real course school everybody."
        ],
        [
         "45",
         "46",
         "Morelet's Crocodile",
         "Crocodylus moreletii",
         "Crocodylidae",
         "Crocodylus",
         "2.52",
         "104.1",
         "Adult",
         "Male",
         "15-10-2012",
         "Guatemala",
         "Rivers",
         "Least Concern",
         "Paige Carlson",
         "Strategy fast guess few remain call animal."
        ],
        [
         "46",
         "47",
         "American Crocodile",
         "Crocodylus acutus",
         "Crocodylidae",
         "Crocodylus",
         "3.04",
         "155.0",
         "Adult",
         "Unknown",
         "30-12-2024",
         "Colombia",
         "Estuaries",
         "Vulnerable",
         "Edgar Raymond",
         "Bill activity expect long future whole education technology box assume man officer rather charge."
        ],
        [
         "47",
         "48",
         "Orinoco Crocodile",
         "Crocodylus intermedius",
         "Crocodylidae",
         "Crocodylus",
         "3.4",
         "316.6",
         "Subadult",
         "Female",
         "25-03-2012",
         "Venezuela",
         "Large Rivers",
         "Critically Endangered",
         "Tiffany Miller",
         "Budget share paper so difficult mission late kind team."
        ],
        [
         "48",
         "49",
         "West African Slender-snouted Crocodile",
         "Mecistops cataphractus",
         "Crocodylidae",
         "Mecistops",
         "2.43",
         "96.9",
         "Adult",
         "Male",
         "09-12-2015",
         "Sierra Leone",
         "Swamps",
         "Critically Endangered",
         "Elizabeth Oliver DDS",
         "Way debate decision produce church community avoid."
        ],
        [
         "49",
         "50",
         "New Guinea Crocodile",
         "Crocodylus novaeguineae",
         "Crocodylidae",
         "Crocodylus",
         "2.51",
         "87.4",
         "Subadult",
         "Female",
         "28-06-2019",
         "Indonesia (Papua)",
         "Swamps",
         "Least Concern",
         "Jerry Wheeler",
         "Allow explain executive teacher author."
        ]
       ],
       "shape": {
        "columns": 15,
        "rows": 1000
       }
      },
      "text/html": [
       "<div>\n",
       "<style scoped>\n",
       "    .dataframe tbody tr th:only-of-type {\n",
       "        vertical-align: middle;\n",
       "    }\n",
       "\n",
       "    .dataframe tbody tr th {\n",
       "        vertical-align: top;\n",
       "    }\n",
       "\n",
       "    .dataframe thead th {\n",
       "        text-align: right;\n",
       "    }\n",
       "</style>\n",
       "<table border=\"1\" class=\"dataframe\">\n",
       "  <thead>\n",
       "    <tr style=\"text-align: right;\">\n",
       "      <th></th>\n",
       "      <th>Observation ID</th>\n",
       "      <th>Common Name</th>\n",
       "      <th>Scientific Name</th>\n",
       "      <th>Family</th>\n",
       "      <th>Genus</th>\n",
       "      <th>Observed Length (m)</th>\n",
       "      <th>Observed Weight (kg)</th>\n",
       "      <th>Age Class</th>\n",
       "      <th>Sex</th>\n",
       "      <th>Date of Observation</th>\n",
       "      <th>Country/Region</th>\n",
       "      <th>Habitat Type</th>\n",
       "      <th>Conservation Status</th>\n",
       "      <th>Observer Name</th>\n",
       "      <th>Notes</th>\n",
       "    </tr>\n",
       "  </thead>\n",
       "  <tbody>\n",
       "    <tr>\n",
       "      <th>0</th>\n",
       "      <td>1</td>\n",
       "      <td>Morelet's Crocodile</td>\n",
       "      <td>Crocodylus moreletii</td>\n",
       "      <td>Crocodylidae</td>\n",
       "      <td>Crocodylus</td>\n",
       "      <td>1.90</td>\n",
       "      <td>62.0</td>\n",
       "      <td>Adult</td>\n",
       "      <td>Male</td>\n",
       "      <td>31-03-2018</td>\n",
       "      <td>Belize</td>\n",
       "      <td>Swamps</td>\n",
       "      <td>Least Concern</td>\n",
       "      <td>Allison Hill</td>\n",
       "      <td>Cause bill scientist nation opportunity.</td>\n",
       "    </tr>\n",
       "    <tr>\n",
       "      <th>1</th>\n",
       "      <td>2</td>\n",
       "      <td>American Crocodile</td>\n",
       "      <td>Crocodylus acutus</td>\n",
       "      <td>Crocodylidae</td>\n",
       "      <td>Crocodylus</td>\n",
       "      <td>4.09</td>\n",
       "      <td>334.5</td>\n",
       "      <td>Adult</td>\n",
       "      <td>Male</td>\n",
       "      <td>28-01-2015</td>\n",
       "      <td>Venezuela</td>\n",
       "      <td>Mangroves</td>\n",
       "      <td>Vulnerable</td>\n",
       "      <td>Brandon Hall</td>\n",
       "      <td>Ago current practice nation determine operatio...</td>\n",
       "    </tr>\n",
       "    <tr>\n",
       "      <th>2</th>\n",
       "      <td>3</td>\n",
       "      <td>Orinoco Crocodile</td>\n",
       "      <td>Crocodylus intermedius</td>\n",
       "      <td>Crocodylidae</td>\n",
       "      <td>Crocodylus</td>\n",
       "      <td>1.08</td>\n",
       "      <td>118.2</td>\n",
       "      <td>Juvenile</td>\n",
       "      <td>Unknown</td>\n",
       "      <td>07-12-2010</td>\n",
       "      <td>Venezuela</td>\n",
       "      <td>Flooded Savannas</td>\n",
       "      <td>Critically Endangered</td>\n",
       "      <td>Melissa Peterson</td>\n",
       "      <td>Democratic shake bill here grow gas enough ana...</td>\n",
       "    </tr>\n",
       "    <tr>\n",
       "      <th>3</th>\n",
       "      <td>4</td>\n",
       "      <td>Morelet's Crocodile</td>\n",
       "      <td>Crocodylus moreletii</td>\n",
       "      <td>Crocodylidae</td>\n",
       "      <td>Crocodylus</td>\n",
       "      <td>2.42</td>\n",
       "      <td>90.4</td>\n",
       "      <td>Adult</td>\n",
       "      <td>Male</td>\n",
       "      <td>01-11-2019</td>\n",
       "      <td>Mexico</td>\n",
       "      <td>Rivers</td>\n",
       "      <td>Least Concern</td>\n",
       "      <td>Edward Fuller</td>\n",
       "      <td>Officer relate animal direction eye bag do.</td>\n",
       "    </tr>\n",
       "    <tr>\n",
       "      <th>4</th>\n",
       "      <td>5</td>\n",
       "      <td>Mugger Crocodile (Marsh Crocodile)</td>\n",
       "      <td>Crocodylus palustris</td>\n",
       "      <td>Crocodylidae</td>\n",
       "      <td>Crocodylus</td>\n",
       "      <td>3.75</td>\n",
       "      <td>269.4</td>\n",
       "      <td>Adult</td>\n",
       "      <td>Unknown</td>\n",
       "      <td>15-07-2019</td>\n",
       "      <td>India</td>\n",
       "      <td>Rivers</td>\n",
       "      <td>Vulnerable</td>\n",
       "      <td>Donald Reid</td>\n",
       "      <td>Class great prove reduce raise author play mov...</td>\n",
       "    </tr>\n",
       "    <tr>\n",
       "      <th>...</th>\n",
       "      <td>...</td>\n",
       "      <td>...</td>\n",
       "      <td>...</td>\n",
       "      <td>...</td>\n",
       "      <td>...</td>\n",
       "      <td>...</td>\n",
       "      <td>...</td>\n",
       "      <td>...</td>\n",
       "      <td>...</td>\n",
       "      <td>...</td>\n",
       "      <td>...</td>\n",
       "      <td>...</td>\n",
       "      <td>...</td>\n",
       "      <td>...</td>\n",
       "      <td>...</td>\n",
       "    </tr>\n",
       "    <tr>\n",
       "      <th>995</th>\n",
       "      <td>996</td>\n",
       "      <td>West African Crocodile</td>\n",
       "      <td>Crocodylus suchus</td>\n",
       "      <td>Crocodylidae</td>\n",
       "      <td>Crocodylus</td>\n",
       "      <td>2.55</td>\n",
       "      <td>112.3</td>\n",
       "      <td>Adult</td>\n",
       "      <td>Female</td>\n",
       "      <td>01-10-2015</td>\n",
       "      <td>Mauritania</td>\n",
       "      <td>Lakes</td>\n",
       "      <td>Least Concern</td>\n",
       "      <td>Karen Avery</td>\n",
       "      <td>Thousand position sense church out explain sig...</td>\n",
       "    </tr>\n",
       "    <tr>\n",
       "      <th>996</th>\n",
       "      <td>997</td>\n",
       "      <td>Hall's New Guinea Crocodile</td>\n",
       "      <td>Crocodylus halli</td>\n",
       "      <td>Crocodylidae</td>\n",
       "      <td>Crocodylus</td>\n",
       "      <td>2.27</td>\n",
       "      <td>80.3</td>\n",
       "      <td>Subadult</td>\n",
       "      <td>Female</td>\n",
       "      <td>25-01-2023</td>\n",
       "      <td>Papua New Guinea</td>\n",
       "      <td>Freshwater Wetlands</td>\n",
       "      <td>Least Concern</td>\n",
       "      <td>Sylvia Turner</td>\n",
       "      <td>Painting try talk like maintain serious style.</td>\n",
       "    </tr>\n",
       "    <tr>\n",
       "      <th>997</th>\n",
       "      <td>998</td>\n",
       "      <td>West African Slender-snouted Crocodile</td>\n",
       "      <td>Mecistops cataphractus</td>\n",
       "      <td>Crocodylidae</td>\n",
       "      <td>Mecistops</td>\n",
       "      <td>2.34</td>\n",
       "      <td>93.5</td>\n",
       "      <td>Adult</td>\n",
       "      <td>Male</td>\n",
       "      <td>07-02-2014</td>\n",
       "      <td>Côte d'Ivoire</td>\n",
       "      <td>Swamps</td>\n",
       "      <td>Critically Endangered</td>\n",
       "      <td>Kristin Fleming</td>\n",
       "      <td>Produce off light before majority garden milit...</td>\n",
       "    </tr>\n",
       "    <tr>\n",
       "      <th>998</th>\n",
       "      <td>999</td>\n",
       "      <td>West African Slender-snouted Crocodile</td>\n",
       "      <td>Mecistops cataphractus</td>\n",
       "      <td>Crocodylidae</td>\n",
       "      <td>Mecistops</td>\n",
       "      <td>2.82</td>\n",
       "      <td>147.6</td>\n",
       "      <td>Adult</td>\n",
       "      <td>Male</td>\n",
       "      <td>09-07-2010</td>\n",
       "      <td>Sierra Leone</td>\n",
       "      <td>Shaded Forest Rivers</td>\n",
       "      <td>Critically Endangered</td>\n",
       "      <td>Eric Petersen</td>\n",
       "      <td>Put everything our prove could party skin soon...</td>\n",
       "    </tr>\n",
       "    <tr>\n",
       "      <th>999</th>\n",
       "      <td>1000</td>\n",
       "      <td>Hall's New Guinea Crocodile</td>\n",
       "      <td>Crocodylus halli</td>\n",
       "      <td>Crocodylidae</td>\n",
       "      <td>Crocodylus</td>\n",
       "      <td>1.73</td>\n",
       "      <td>47.4</td>\n",
       "      <td>Juvenile</td>\n",
       "      <td>Unknown</td>\n",
       "      <td>31-03-2014</td>\n",
       "      <td>Papua New Guinea</td>\n",
       "      <td>Freshwater Wetlands</td>\n",
       "      <td>Least Concern</td>\n",
       "      <td>Kristen Harris</td>\n",
       "      <td>Ok community right then police day so store co...</td>\n",
       "    </tr>\n",
       "  </tbody>\n",
       "</table>\n",
       "<p>1000 rows × 15 columns</p>\n",
       "</div>"
      ],
      "text/plain": [
       "     Observation ID                             Common Name  \\\n",
       "0                 1                     Morelet's Crocodile   \n",
       "1                 2                      American Crocodile   \n",
       "2                 3                       Orinoco Crocodile   \n",
       "3                 4                     Morelet's Crocodile   \n",
       "4                 5      Mugger Crocodile (Marsh Crocodile)   \n",
       "..              ...                                     ...   \n",
       "995             996                  West African Crocodile   \n",
       "996             997             Hall's New Guinea Crocodile   \n",
       "997             998  West African Slender-snouted Crocodile   \n",
       "998             999  West African Slender-snouted Crocodile   \n",
       "999            1000             Hall's New Guinea Crocodile   \n",
       "\n",
       "            Scientific Name        Family       Genus  Observed Length (m)  \\\n",
       "0      Crocodylus moreletii  Crocodylidae  Crocodylus                 1.90   \n",
       "1         Crocodylus acutus  Crocodylidae  Crocodylus                 4.09   \n",
       "2    Crocodylus intermedius  Crocodylidae  Crocodylus                 1.08   \n",
       "3      Crocodylus moreletii  Crocodylidae  Crocodylus                 2.42   \n",
       "4      Crocodylus palustris  Crocodylidae  Crocodylus                 3.75   \n",
       "..                      ...           ...         ...                  ...   \n",
       "995       Crocodylus suchus  Crocodylidae  Crocodylus                 2.55   \n",
       "996        Crocodylus halli  Crocodylidae  Crocodylus                 2.27   \n",
       "997  Mecistops cataphractus  Crocodylidae   Mecistops                 2.34   \n",
       "998  Mecistops cataphractus  Crocodylidae   Mecistops                 2.82   \n",
       "999        Crocodylus halli  Crocodylidae  Crocodylus                 1.73   \n",
       "\n",
       "     Observed Weight (kg) Age Class      Sex Date of Observation  \\\n",
       "0                    62.0     Adult     Male          31-03-2018   \n",
       "1                   334.5     Adult     Male          28-01-2015   \n",
       "2                   118.2  Juvenile  Unknown          07-12-2010   \n",
       "3                    90.4     Adult     Male          01-11-2019   \n",
       "4                   269.4     Adult  Unknown          15-07-2019   \n",
       "..                    ...       ...      ...                 ...   \n",
       "995                 112.3     Adult   Female          01-10-2015   \n",
       "996                  80.3  Subadult   Female          25-01-2023   \n",
       "997                  93.5     Adult     Male          07-02-2014   \n",
       "998                 147.6     Adult     Male          09-07-2010   \n",
       "999                  47.4  Juvenile  Unknown          31-03-2014   \n",
       "\n",
       "       Country/Region          Habitat Type    Conservation Status  \\\n",
       "0              Belize                Swamps          Least Concern   \n",
       "1           Venezuela             Mangroves             Vulnerable   \n",
       "2           Venezuela      Flooded Savannas  Critically Endangered   \n",
       "3              Mexico                Rivers          Least Concern   \n",
       "4               India                Rivers             Vulnerable   \n",
       "..                ...                   ...                    ...   \n",
       "995        Mauritania                 Lakes          Least Concern   \n",
       "996  Papua New Guinea   Freshwater Wetlands          Least Concern   \n",
       "997     Côte d'Ivoire                Swamps  Critically Endangered   \n",
       "998      Sierra Leone  Shaded Forest Rivers  Critically Endangered   \n",
       "999  Papua New Guinea   Freshwater Wetlands          Least Concern   \n",
       "\n",
       "        Observer Name                                              Notes  \n",
       "0        Allison Hill           Cause bill scientist nation opportunity.  \n",
       "1        Brandon Hall  Ago current practice nation determine operatio...  \n",
       "2    Melissa Peterson  Democratic shake bill here grow gas enough ana...  \n",
       "3       Edward Fuller        Officer relate animal direction eye bag do.  \n",
       "4         Donald Reid  Class great prove reduce raise author play mov...  \n",
       "..                ...                                                ...  \n",
       "995       Karen Avery  Thousand position sense church out explain sig...  \n",
       "996     Sylvia Turner     Painting try talk like maintain serious style.  \n",
       "997   Kristin Fleming  Produce off light before majority garden milit...  \n",
       "998     Eric Petersen  Put everything our prove could party skin soon...  \n",
       "999    Kristen Harris  Ok community right then police day so store co...  \n",
       "\n",
       "[1000 rows x 15 columns]"
      ]
     },
     "execution_count": 61,
     "metadata": {},
     "output_type": "execute_result"
    }
   ],
   "source": [
    "df"
   ]
  },
  {
   "cell_type": "code",
   "execution_count": null,
   "id": "54f91f00",
   "metadata": {},
   "outputs": [
    {
     "data": {
      "application/vnd.microsoft.datawrangler.viewer.v0+json": {
       "columns": [
        {
         "name": "Age Class",
         "rawType": "object",
         "type": "string"
        },
        {
         "name": "Observed Weight (kg)",
         "rawType": "float64",
         "type": "float"
        }
       ],
       "ref": "dcec0f76-9c07-4476-afc2-a15c268d06b3",
       "rows": [
        [
         "Adult",
         "192.09333333333333"
        ],
        [
         "Hatchling",
         "48.25102040816327"
        ],
        [
         "Juvenile",
         "81.12216494845362"
        ],
        [
         "Subadult",
         "160.73805668016195"
        ]
       ],
       "shape": {
        "columns": 1,
        "rows": 4
       }
      },
      "text/plain": [
       "Age Class\n",
       "Adult        192.093333\n",
       "Hatchling     48.251020\n",
       "Juvenile      81.122165\n",
       "Subadult     160.738057\n",
       "Name: Observed Weight (kg), dtype: float64"
      ]
     },
     "execution_count": 62,
     "metadata": {},
     "output_type": "execute_result"
    }
   ],
   "source": [
    "df.groupby(\"Age Class\")[\"Observed Weight (kg)\"].mean()"
   ]
  },
  {
   "cell_type": "code",
   "execution_count": 70,
   "id": "4bf3c078",
   "metadata": {},
   "outputs": [
    {
     "data": {
      "application/vnd.microsoft.datawrangler.viewer.v0+json": {
       "columns": [
        {
         "name": "Scientific Name",
         "rawType": "object",
         "type": "string"
        },
        {
         "name": "count",
         "rawType": "int64",
         "type": "integer"
        }
       ],
       "ref": "ad11e5bf-609b-4b00-b5ae-2e6d372734d6",
       "rows": [
        [
         "Crocodylus porosus",
         "56"
        ],
        [
         "Crocodylus niloticus",
         "38"
        ],
        [
         "Crocodylus intermedius",
         "30"
        ],
        [
         "Crocodylus acutus",
         "7"
        ]
       ],
       "shape": {
        "columns": 1,
        "rows": 4
       }
      },
      "text/plain": [
       "Scientific Name\n",
       "Crocodylus porosus        56\n",
       "Crocodylus niloticus      38\n",
       "Crocodylus intermedius    30\n",
       "Crocodylus acutus          7\n",
       "Name: count, dtype: int64"
      ]
     },
     "execution_count": 70,
     "metadata": {},
     "output_type": "execute_result"
    }
   ],
   "source": [
    "df[df[\"Observed Weight (kg)\"] >= 300][\"Scientific Name\"].value_counts()"
   ]
  },
  {
   "cell_type": "code",
   "execution_count": 71,
   "id": "fc01e2e5",
   "metadata": {},
   "outputs": [
    {
     "data": {
      "application/vnd.microsoft.datawrangler.viewer.v0+json": {
       "columns": [
        {
         "name": "Scientific Name",
         "rawType": "object",
         "type": "string"
        },
        {
         "name": "count",
         "rawType": "int64",
         "type": "integer"
        }
       ],
       "ref": "0f5cb226-7778-401d-9907-a21d86e02589",
       "rows": [
        [
         "Crocodylus novaeguineae",
         "68"
        ],
        [
         "Crocodylus raninus",
         "67"
        ],
        [
         "Crocodylus acutus",
         "66"
        ],
        [
         "Crocodylus moreletii",
         "64"
        ],
        [
         "Crocodylus rhombifer",
         "59"
        ],
        [
         "Crocodylus porosus",
         "58"
        ],
        [
         "Crocodylus mindorensis",
         "58"
        ],
        [
         "Crocodylus intermedius",
         "58"
        ],
        [
         "Osteolaemus tetraspis",
         "57"
        ],
        [
         "Mecistops leptorhynchus",
         "56"
        ],
        [
         "Mecistops cataphractus",
         "55"
        ],
        [
         "Crocodylus suchus",
         "52"
        ],
        [
         "Crocodylus halli",
         "49"
        ],
        [
         "Osteolaemus osborni",
         "48"
        ],
        [
         "Crocodylus niloticus",
         "48"
        ],
        [
         "Crocodylus palustris",
         "47"
        ],
        [
         "Crocodylus siamensis",
         "45"
        ],
        [
         "Crocodylus johnstoni",
         "45"
        ]
       ],
       "shape": {
        "columns": 1,
        "rows": 18
       }
      },
      "text/plain": [
       "Scientific Name\n",
       "Crocodylus novaeguineae    68\n",
       "Crocodylus raninus         67\n",
       "Crocodylus acutus          66\n",
       "Crocodylus moreletii       64\n",
       "Crocodylus rhombifer       59\n",
       "Crocodylus porosus         58\n",
       "Crocodylus mindorensis     58\n",
       "Crocodylus intermedius     58\n",
       "Osteolaemus tetraspis      57\n",
       "Mecistops leptorhynchus    56\n",
       "Mecistops cataphractus     55\n",
       "Crocodylus suchus          52\n",
       "Crocodylus halli           49\n",
       "Osteolaemus osborni        48\n",
       "Crocodylus niloticus       48\n",
       "Crocodylus palustris       47\n",
       "Crocodylus siamensis       45\n",
       "Crocodylus johnstoni       45\n",
       "Name: count, dtype: int64"
      ]
     },
     "execution_count": 71,
     "metadata": {},
     "output_type": "execute_result"
    }
   ],
   "source": [
    "df[\"Scientific Name\"].value_counts()"
   ]
  },
  {
   "cell_type": "code",
   "execution_count": 72,
   "id": "4c8e23ee",
   "metadata": {},
   "outputs": [
    {
     "data": {
      "application/vnd.microsoft.datawrangler.viewer.v0+json": {
       "columns": [
        {
         "name": "index",
         "rawType": "int64",
         "type": "integer"
        },
        {
         "name": "Observation ID",
         "rawType": "int64",
         "type": "integer"
        },
        {
         "name": "Common Name",
         "rawType": "object",
         "type": "string"
        },
        {
         "name": "Scientific Name",
         "rawType": "object",
         "type": "string"
        },
        {
         "name": "Family",
         "rawType": "object",
         "type": "string"
        },
        {
         "name": "Genus",
         "rawType": "object",
         "type": "string"
        },
        {
         "name": "Observed Length (m)",
         "rawType": "float64",
         "type": "float"
        },
        {
         "name": "Observed Weight (kg)",
         "rawType": "float64",
         "type": "float"
        },
        {
         "name": "Age Class",
         "rawType": "object",
         "type": "string"
        },
        {
         "name": "Sex",
         "rawType": "object",
         "type": "string"
        },
        {
         "name": "Date of Observation",
         "rawType": "object",
         "type": "string"
        },
        {
         "name": "Country/Region",
         "rawType": "object",
         "type": "string"
        },
        {
         "name": "Habitat Type",
         "rawType": "object",
         "type": "string"
        },
        {
         "name": "Conservation Status",
         "rawType": "object",
         "type": "string"
        },
        {
         "name": "Observer Name",
         "rawType": "object",
         "type": "string"
        },
        {
         "name": "Notes",
         "rawType": "object",
         "type": "string"
        }
       ],
       "ref": "5eb00328-aab1-48a1-a679-2cd462a0e113",
       "rows": [
        [
         "0",
         "1",
         "Morelet's Crocodile",
         "Crocodylus moreletii",
         "Crocodylidae",
         "Crocodylus",
         "1.9",
         "62.0",
         "Adult",
         "Male",
         "31-03-2018",
         "Belize",
         "Swamps",
         "Least Concern",
         "Allison Hill",
         "Cause bill scientist nation opportunity."
        ],
        [
         "1",
         "2",
         "American Crocodile",
         "Crocodylus acutus",
         "Crocodylidae",
         "Crocodylus",
         "4.09",
         "334.5",
         "Adult",
         "Male",
         "28-01-2015",
         "Venezuela",
         "Mangroves",
         "Vulnerable",
         "Brandon Hall",
         "Ago current practice nation determine operation speak according."
        ],
        [
         "2",
         "3",
         "Orinoco Crocodile",
         "Crocodylus intermedius",
         "Crocodylidae",
         "Crocodylus",
         "1.08",
         "118.2",
         "Juvenile",
         "Unknown",
         "07-12-2010",
         "Venezuela",
         "Flooded Savannas",
         "Critically Endangered",
         "Melissa Peterson",
         "Democratic shake bill here grow gas enough analysis least by two."
        ],
        [
         "3",
         "4",
         "Morelet's Crocodile",
         "Crocodylus moreletii",
         "Crocodylidae",
         "Crocodylus",
         "2.42",
         "90.4",
         "Adult",
         "Male",
         "01-11-2019",
         "Mexico",
         "Rivers",
         "Least Concern",
         "Edward Fuller",
         "Officer relate animal direction eye bag do."
        ],
        [
         "4",
         "5",
         "Mugger Crocodile (Marsh Crocodile)",
         "Crocodylus palustris",
         "Crocodylidae",
         "Crocodylus",
         "3.75",
         "269.4",
         "Adult",
         "Unknown",
         "15-07-2019",
         "India",
         "Rivers",
         "Vulnerable",
         "Donald Reid",
         "Class great prove reduce raise author play move each left establish understand read detail."
        ],
        [
         "5",
         "6",
         "Mugger Crocodile (Marsh Crocodile)",
         "Crocodylus palustris",
         "Crocodylidae",
         "Crocodylus",
         "2.64",
         "137.4",
         "Adult",
         "Male",
         "08-06-2023",
         "India",
         "Reservoirs",
         "Vulnerable",
         "Randy Brown",
         "Source husband at tree note responsibility defense."
        ],
        [
         "6",
         "7",
         "Siamese Crocodile",
         "Crocodylus siamensis",
         "Crocodylidae",
         "Crocodylus",
         "2.85",
         "157.7",
         "Subadult",
         "Male",
         "10-12-2010",
         "Thailand",
         "Slow Rivers",
         "Critically Endangered",
         "Dr. Marvin Thomas Jr.",
         "Much section investment on gun young catch management sense technology check civil quite others his other life edge."
        ],
        [
         "7",
         "8",
         "Congo Dwarf Crocodile",
         "Osteolaemus osborni",
         "Crocodylidae",
         "Osteolaemus",
         "0.35",
         "4.7",
         "Juvenile",
         "Unknown",
         "03-08-2008",
         "Central African Republic",
         "Forest Swamps",
         "Data Deficient",
         "Terri Frazier",
         "Race Mr environment political born itself law west."
        ],
        [
         "8",
         "9",
         "West African Crocodile",
         "Crocodylus suchus",
         "Crocodylidae",
         "Crocodylus",
         "3.05",
         "201.2",
         "Adult",
         "Male",
         "16-04-2020",
         "Sudan",
         "Lakes",
         "Least Concern",
         "Deborah Mason",
         "Medical blood personal success medical current hear claim well."
        ],
        [
         "9",
         "10",
         "Morelet's Crocodile",
         "Crocodylus moreletii",
         "Crocodylidae",
         "Crocodylus",
         "3.39",
         "197.2",
         "Adult",
         "Male",
         "21-05-2016",
         "Mexico",
         "Lagoons",
         "Least Concern",
         "Tamara George",
         "Affect upon these story film around there water beat magazine attorney set."
        ],
        [
         "10",
         "11",
         "West African Dwarf Crocodile",
         "Osteolaemus tetraspis",
         "Crocodylidae",
         "Osteolaemus",
         "1.22",
         "15.8",
         "Adult",
         "Male",
         "08-06-2018",
         "Liberia",
         "Small Streams",
         "Vulnerable",
         "Betty Alvarez",
         "Close month parent who up sense ready."
        ],
        [
         "11",
         "12",
         "Morelet's Crocodile",
         "Crocodylus moreletii",
         "Crocodylidae",
         "Crocodylus",
         "1.84",
         "60.7",
         "Adult",
         "Male",
         "19-10-2019",
         "Belize",
         "Lagoons",
         "Least Concern",
         "Jennifer Powers",
         "Just military building different full open discover detail."
        ],
        [
         "12",
         "13",
         "Siamese Crocodile",
         "Crocodylus siamensis",
         "Crocodylidae",
         "Crocodylus",
         "2.63",
         "121.3",
         "Subadult",
         "Unknown",
         "16-02-2015",
         "Cambodia",
         "Slow Rivers",
         "Critically Endangered",
         "Mark Perez",
         "Teacher audience draw protect Democrat."
        ],
        [
         "13",
         "14",
         "American Crocodile",
         "Crocodylus acutus",
         "Crocodylidae",
         "Crocodylus",
         "3.65",
         "217.7",
         "Adult",
         "Male",
         "07-07-2006",
         "Mexico",
         "Mangroves",
         "Vulnerable",
         "Timothy Duncan",
         "Drug list imagine behind probably great in tell."
        ],
        [
         "14",
         "15",
         "West African Dwarf Crocodile",
         "Osteolaemus tetraspis",
         "Crocodylidae",
         "Osteolaemus",
         "1.32",
         "19.2",
         "Adult",
         "Female",
         "14-06-2010",
         "Côte d'Ivoire",
         "Small Streams",
         "Vulnerable",
         "Matthew Lucas",
         "I fund technology eat couple large."
        ],
        [
         "15",
         "16",
         "Morelet's Crocodile",
         "Crocodylus moreletii",
         "Crocodylidae",
         "Crocodylus",
         "2.0",
         "67.9",
         "Adult",
         "Unknown",
         "18-03-2007",
         "Mexico",
         "Rivers",
         "Least Concern",
         "Donald Wright",
         "Kitchen technology nearly anything yourself structure why."
        ],
        [
         "16",
         "17",
         "Morelet's Crocodile",
         "Crocodylus moreletii",
         "Crocodylidae",
         "Crocodylus",
         "1.98",
         "61.5",
         "Juvenile",
         "Unknown",
         "14-03-2007",
         "Mexico",
         "Lagoons",
         "Least Concern",
         "Sarah Martin",
         "Loss ten total clearly able hospital unit size expect recent room situation product main couple design around."
        ],
        [
         "17",
         "18",
         "Nile Crocodile",
         "Crocodylus niloticus",
         "Crocodylidae",
         "Crocodylus",
         "4.37",
         "565.0",
         "Adult",
         "Female",
         "13-10-2025",
         "Sudan",
         "Reservoirs",
         "Least Concern",
         "Amy Edwards",
         "Once me system church whether bag."
        ],
        [
         "18",
         "19",
         "Borneo Crocodile (disputed)",
         "Crocodylus raninus",
         "Crocodylidae",
         "Crocodylus",
         "1.07",
         "31.1",
         "Juvenile",
         "Unknown",
         "28-02-2017",
         "Indonesia (Borneo)",
         "Estuarine Systems",
         "Data Deficient",
         "Kurt Leonard",
         "Identify walk now often always."
        ],
        [
         "19",
         "20",
         "Saltwater Crocodile",
         "Crocodylus porosus",
         "Crocodylidae",
         "Crocodylus",
         "1.55",
         "350.9",
         "Juvenile",
         "Male",
         "26-12-2017",
         "Philippines",
         "Estuaries",
         "Least Concern",
         "Matthew Cunningham",
         "Various daughter respond draw how public feel."
        ],
        [
         "20",
         "21",
         "Borneo Crocodile (disputed)",
         "Crocodylus raninus",
         "Crocodylidae",
         "Crocodylus",
         "2.52",
         "89.6",
         "Subadult",
         "Unknown",
         "24-09-2011",
         "Malaysia (Borneo)",
         "Estuarine Systems",
         "Data Deficient",
         "Paul Jones",
         "Perform none beyond Mrs media car give attention."
        ],
        [
         "21",
         "22",
         "Nile Crocodile",
         "Crocodylus niloticus",
         "Crocodylidae",
         "Crocodylus",
         "4.65",
         "759.8",
         "Adult",
         "Male",
         "16-04-2013",
         "Tanzania",
         "Lakes",
         "Least Concern",
         "Dustin Kim",
         "Region particularly would pressure account stage federal professional voice care break blood network evening painting response."
        ],
        [
         "22",
         "23",
         "Congo Dwarf Crocodile",
         "Osteolaemus osborni",
         "Crocodylidae",
         "Osteolaemus",
         "1.77",
         "36.0",
         "Adult",
         "Male",
         "07-12-2010",
         "Congo (DRC)",
         "Forest Swamps",
         "Data Deficient",
         "Mark Baker",
         "Economy traditional anything plant stop analysis four capital woman claim kind relationship night born war real chance."
        ],
        [
         "23",
         "24",
         "Cuban Crocodile",
         "Crocodylus rhombifer",
         "Crocodylidae",
         "Crocodylus",
         "2.44",
         "107.9",
         "Subadult",
         "Male",
         "27-01-2007",
         "Cuba",
         "Swamps",
         "Critically Endangered",
         "Jacob Tran",
         "Camera final together someone team together."
        ],
        [
         "24",
         "25",
         "Nile Crocodile",
         "Crocodylus niloticus",
         "Crocodylidae",
         "Crocodylus",
         "3.18",
         "342.1",
         "Juvenile",
         "Male",
         "28-03-2017",
         "Kenya",
         "Marshes",
         "Least Concern",
         "David Garcia",
         "This image per choice upon ten wish specific thing agent say forward us soon ten specific environment skin."
        ],
        [
         "25",
         "26",
         "Cuban Crocodile",
         "Crocodylus rhombifer",
         "Crocodylidae",
         "Crocodylus",
         "0.34",
         "42.4",
         "Hatchling",
         "Unknown",
         "23-04-2007",
         "Cuba",
         "Swamps",
         "Critically Endangered",
         "Shane Garrison",
         "Current truth glass star the development process."
        ],
        [
         "26",
         "27",
         "Mugger Crocodile (Marsh Crocodile)",
         "Crocodylus palustris",
         "Crocodylidae",
         "Crocodylus",
         "3.39",
         "174.9",
         "Adult",
         "Female",
         "20-07-2022",
         "Pakistan",
         "Rivers",
         "Vulnerable",
         "Donald Jones",
         "Go meeting quickly such former agree theory end oil."
        ],
        [
         "27",
         "28",
         "Orinoco Crocodile",
         "Crocodylus intermedius",
         "Crocodylidae",
         "Crocodylus",
         "3.94",
         "367.9",
         "Subadult",
         "Male",
         "21-10-2019",
         "Venezuela",
         "Flooded Savannas",
         "Critically Endangered",
         "Mrs. Linda Reed",
         "Job worker break tonight couple and job mind southern rather vote."
        ],
        [
         "28",
         "29",
         "Siamese Crocodile",
         "Crocodylus siamensis",
         "Crocodylidae",
         "Crocodylus",
         "3.22",
         "196.6",
         "Adult",
         "Unknown",
         "05-06-2012",
         "Cambodia",
         "Slow Rivers",
         "Critically Endangered",
         "Christina Reynolds",
         "Perhaps professional by tonight medical project for recent never court."
        ],
        [
         "29",
         "30",
         "Orinoco Crocodile",
         "Crocodylus intermedius",
         "Crocodylidae",
         "Crocodylus",
         "4.71",
         "576.6",
         "Adult",
         "Female",
         "07-08-2018",
         "Venezuela",
         "Flooded Savannas",
         "Critically Endangered",
         "Jamie Adkins",
         "Past feeling nature a expert involve oil."
        ],
        [
         "30",
         "31",
         "Siamese Crocodile",
         "Crocodylus siamensis",
         "Crocodylidae",
         "Crocodylus",
         "2.04",
         "80.2",
         "Adult",
         "Unknown",
         "16-01-2020",
         "Thailand",
         "Swamps",
         "Critically Endangered",
         "Julie Ramos",
         "Memory soldier where save probably exist professional people behavior weight."
        ],
        [
         "31",
         "32",
         "American Crocodile",
         "Crocodylus acutus",
         "Crocodylidae",
         "Crocodylus",
         "4.11",
         "324.4",
         "Adult",
         "Female",
         "10-01-2014",
         "USA (Florida)",
         "Mangroves",
         "Vulnerable",
         "Eric Drake",
         "Agency each little sure authority increase picture create recent manager."
        ],
        [
         "32",
         "33",
         "Cuban Crocodile",
         "Crocodylus rhombifer",
         "Crocodylidae",
         "Crocodylus",
         "2.42",
         "85.6",
         "Adult",
         "Female",
         "16-04-2017",
         "Cuba",
         "Swamps",
         "Critically Endangered",
         "Matthew Smith",
         "Sing despite sound receive let newspaper true."
        ],
        [
         "33",
         "34",
         "Philippine Crocodile",
         "Crocodylus mindorensis",
         "Crocodylidae",
         "Crocodylus",
         "1.01",
         "28.9",
         "Juvenile",
         "Unknown",
         "22-10-2008",
         "Philippines",
         "Rivers",
         "Critically Endangered",
         "Casey Marshall",
         "Write other wear through partner rest measure store natural today season listen else easy point she miss."
        ],
        [
         "34",
         "35",
         "New Guinea Crocodile",
         "Crocodylus novaeguineae",
         "Crocodylidae",
         "Crocodylus",
         "0.76",
         "36.7",
         "Juvenile",
         "Unknown",
         "23-01-2024",
         "Papua New Guinea",
         "Swamps",
         "Least Concern",
         "Denise Jones",
         "Doctor from throw ball character him check degree increase former letter."
        ],
        [
         "35",
         "36",
         "Philippine Crocodile",
         "Crocodylus mindorensis",
         "Crocodylidae",
         "Crocodylus",
         "2.26",
         "84.2",
         "Adult",
         "Male",
         "17-06-2022",
         "Philippines",
         "Freshwater Marshes",
         "Critically Endangered",
         "Ross Price",
         "Watch affect thing offer local wall fear hope through structure."
        ],
        [
         "36",
         "37",
         "West African Dwarf Crocodile",
         "Osteolaemus tetraspis",
         "Crocodylidae",
         "Osteolaemus",
         "1.48",
         "21.9",
         "Adult",
         "Female",
         "10-12-2021",
         "Côte d'Ivoire",
         "Small Streams",
         "Vulnerable",
         "Morgan Marsh",
         "Major event magazine home protect something right subject try wonder move trade."
        ],
        [
         "37",
         "38",
         "West African Slender-snouted Crocodile",
         "Mecistops cataphractus",
         "Crocodylidae",
         "Mecistops",
         "2.96",
         "182.7",
         "Adult",
         "Unknown",
         "14-05-2010",
         "Liberia",
         "Swamps",
         "Critically Endangered",
         "Mary Miller",
         "Career left anyone here deep force seven."
        ],
        [
         "38",
         "39",
         "Freshwater Crocodile (Johnstone's)",
         "Crocodylus johnstoni",
         "Crocodylidae",
         "Crocodylus",
         "1.05",
         "24.0",
         "Juvenile",
         "Female",
         "30-04-2014",
         "Australia",
         "Freshwater Rivers",
         "Least Concern",
         "Paul Decker",
         "Strong like see appear weight difference attention whatever American all easy."
        ],
        [
         "39",
         "40",
         "West African Crocodile",
         "Crocodylus suchus",
         "Crocodylidae",
         "Crocodylus",
         "2.72",
         "150.3",
         "Subadult",
         "Female",
         "27-01-2017",
         "Senegal",
         "Oases",
         "Least Concern",
         "Lisa Allen",
         "Prove nor design record short cold parent security boy standard who blue agent find quality when."
        ],
        [
         "40",
         "41",
         "Mugger Crocodile (Marsh Crocodile)",
         "Crocodylus palustris",
         "Crocodylidae",
         "Crocodylus",
         "3.25",
         "195.6",
         "Adult",
         "Unknown",
         "14-09-2008",
         "Pakistan",
         "Rivers",
         "Vulnerable",
         "Miguel Jones",
         "Drug recent feeling range south someone not American mouth product attention positive actually information majority item gun through least."
        ],
        [
         "41",
         "42",
         "Nile Crocodile",
         "Crocodylus niloticus",
         "Crocodylidae",
         "Crocodylus",
         "3.57",
         "387.4",
         "Subadult",
         "Female",
         "27-01-2022",
         "South Africa",
         "Marshes",
         "Least Concern",
         "Christopher Boyd",
         "Pattern try simple let stay or focus early various everything late."
        ],
        [
         "42",
         "43",
         "Siamese Crocodile",
         "Crocodylus siamensis",
         "Crocodylidae",
         "Crocodylus",
         "0.29",
         "33.2",
         "Hatchling",
         "Unknown",
         "02-06-2008",
         "Thailand",
         "Slow Rivers",
         "Critically Endangered",
         "Laura Barnett",
         "Agreement surface consider deep something future they red everybody act way beat result."
        ],
        [
         "43",
         "44",
         "Morelet's Crocodile",
         "Crocodylus moreletii",
         "Crocodylidae",
         "Crocodylus",
         "2.33",
         "74.0",
         "Adult",
         "Unknown",
         "10-02-2021",
         "Mexico",
         "Swamps",
         "Least Concern",
         "Peter Vaughn DDS",
         "Large admit family identify during professional hard network gas you nearly goal."
        ],
        [
         "44",
         "45",
         "Morelet's Crocodile",
         "Crocodylus moreletii",
         "Crocodylidae",
         "Crocodylus",
         "2.5",
         "90.6",
         "Adult",
         "Male",
         "15-09-2006",
         "Guatemala",
         "Lagoons",
         "Least Concern",
         "Eric Hall",
         "Firm sea week real course school everybody."
        ],
        [
         "45",
         "46",
         "Morelet's Crocodile",
         "Crocodylus moreletii",
         "Crocodylidae",
         "Crocodylus",
         "2.52",
         "104.1",
         "Adult",
         "Male",
         "15-10-2012",
         "Guatemala",
         "Rivers",
         "Least Concern",
         "Paige Carlson",
         "Strategy fast guess few remain call animal."
        ],
        [
         "46",
         "47",
         "American Crocodile",
         "Crocodylus acutus",
         "Crocodylidae",
         "Crocodylus",
         "3.04",
         "155.0",
         "Adult",
         "Unknown",
         "30-12-2024",
         "Colombia",
         "Estuaries",
         "Vulnerable",
         "Edgar Raymond",
         "Bill activity expect long future whole education technology box assume man officer rather charge."
        ],
        [
         "47",
         "48",
         "Orinoco Crocodile",
         "Crocodylus intermedius",
         "Crocodylidae",
         "Crocodylus",
         "3.4",
         "316.6",
         "Subadult",
         "Female",
         "25-03-2012",
         "Venezuela",
         "Large Rivers",
         "Critically Endangered",
         "Tiffany Miller",
         "Budget share paper so difficult mission late kind team."
        ],
        [
         "48",
         "49",
         "West African Slender-snouted Crocodile",
         "Mecistops cataphractus",
         "Crocodylidae",
         "Mecistops",
         "2.43",
         "96.9",
         "Adult",
         "Male",
         "09-12-2015",
         "Sierra Leone",
         "Swamps",
         "Critically Endangered",
         "Elizabeth Oliver DDS",
         "Way debate decision produce church community avoid."
        ],
        [
         "49",
         "50",
         "New Guinea Crocodile",
         "Crocodylus novaeguineae",
         "Crocodylidae",
         "Crocodylus",
         "2.51",
         "87.4",
         "Subadult",
         "Female",
         "28-06-2019",
         "Indonesia (Papua)",
         "Swamps",
         "Least Concern",
         "Jerry Wheeler",
         "Allow explain executive teacher author."
        ]
       ],
       "shape": {
        "columns": 15,
        "rows": 1000
       }
      },
      "text/html": [
       "<div>\n",
       "<style scoped>\n",
       "    .dataframe tbody tr th:only-of-type {\n",
       "        vertical-align: middle;\n",
       "    }\n",
       "\n",
       "    .dataframe tbody tr th {\n",
       "        vertical-align: top;\n",
       "    }\n",
       "\n",
       "    .dataframe thead th {\n",
       "        text-align: right;\n",
       "    }\n",
       "</style>\n",
       "<table border=\"1\" class=\"dataframe\">\n",
       "  <thead>\n",
       "    <tr style=\"text-align: right;\">\n",
       "      <th></th>\n",
       "      <th>Observation ID</th>\n",
       "      <th>Common Name</th>\n",
       "      <th>Scientific Name</th>\n",
       "      <th>Family</th>\n",
       "      <th>Genus</th>\n",
       "      <th>Observed Length (m)</th>\n",
       "      <th>Observed Weight (kg)</th>\n",
       "      <th>Age Class</th>\n",
       "      <th>Sex</th>\n",
       "      <th>Date of Observation</th>\n",
       "      <th>Country/Region</th>\n",
       "      <th>Habitat Type</th>\n",
       "      <th>Conservation Status</th>\n",
       "      <th>Observer Name</th>\n",
       "      <th>Notes</th>\n",
       "    </tr>\n",
       "  </thead>\n",
       "  <tbody>\n",
       "    <tr>\n",
       "      <th>0</th>\n",
       "      <td>1</td>\n",
       "      <td>Morelet's Crocodile</td>\n",
       "      <td>Crocodylus moreletii</td>\n",
       "      <td>Crocodylidae</td>\n",
       "      <td>Crocodylus</td>\n",
       "      <td>1.90</td>\n",
       "      <td>62.0</td>\n",
       "      <td>Adult</td>\n",
       "      <td>Male</td>\n",
       "      <td>31-03-2018</td>\n",
       "      <td>Belize</td>\n",
       "      <td>Swamps</td>\n",
       "      <td>Least Concern</td>\n",
       "      <td>Allison Hill</td>\n",
       "      <td>Cause bill scientist nation opportunity.</td>\n",
       "    </tr>\n",
       "    <tr>\n",
       "      <th>1</th>\n",
       "      <td>2</td>\n",
       "      <td>American Crocodile</td>\n",
       "      <td>Crocodylus acutus</td>\n",
       "      <td>Crocodylidae</td>\n",
       "      <td>Crocodylus</td>\n",
       "      <td>4.09</td>\n",
       "      <td>334.5</td>\n",
       "      <td>Adult</td>\n",
       "      <td>Male</td>\n",
       "      <td>28-01-2015</td>\n",
       "      <td>Venezuela</td>\n",
       "      <td>Mangroves</td>\n",
       "      <td>Vulnerable</td>\n",
       "      <td>Brandon Hall</td>\n",
       "      <td>Ago current practice nation determine operatio...</td>\n",
       "    </tr>\n",
       "    <tr>\n",
       "      <th>2</th>\n",
       "      <td>3</td>\n",
       "      <td>Orinoco Crocodile</td>\n",
       "      <td>Crocodylus intermedius</td>\n",
       "      <td>Crocodylidae</td>\n",
       "      <td>Crocodylus</td>\n",
       "      <td>1.08</td>\n",
       "      <td>118.2</td>\n",
       "      <td>Juvenile</td>\n",
       "      <td>Unknown</td>\n",
       "      <td>07-12-2010</td>\n",
       "      <td>Venezuela</td>\n",
       "      <td>Flooded Savannas</td>\n",
       "      <td>Critically Endangered</td>\n",
       "      <td>Melissa Peterson</td>\n",
       "      <td>Democratic shake bill here grow gas enough ana...</td>\n",
       "    </tr>\n",
       "    <tr>\n",
       "      <th>3</th>\n",
       "      <td>4</td>\n",
       "      <td>Morelet's Crocodile</td>\n",
       "      <td>Crocodylus moreletii</td>\n",
       "      <td>Crocodylidae</td>\n",
       "      <td>Crocodylus</td>\n",
       "      <td>2.42</td>\n",
       "      <td>90.4</td>\n",
       "      <td>Adult</td>\n",
       "      <td>Male</td>\n",
       "      <td>01-11-2019</td>\n",
       "      <td>Mexico</td>\n",
       "      <td>Rivers</td>\n",
       "      <td>Least Concern</td>\n",
       "      <td>Edward Fuller</td>\n",
       "      <td>Officer relate animal direction eye bag do.</td>\n",
       "    </tr>\n",
       "    <tr>\n",
       "      <th>4</th>\n",
       "      <td>5</td>\n",
       "      <td>Mugger Crocodile (Marsh Crocodile)</td>\n",
       "      <td>Crocodylus palustris</td>\n",
       "      <td>Crocodylidae</td>\n",
       "      <td>Crocodylus</td>\n",
       "      <td>3.75</td>\n",
       "      <td>269.4</td>\n",
       "      <td>Adult</td>\n",
       "      <td>Unknown</td>\n",
       "      <td>15-07-2019</td>\n",
       "      <td>India</td>\n",
       "      <td>Rivers</td>\n",
       "      <td>Vulnerable</td>\n",
       "      <td>Donald Reid</td>\n",
       "      <td>Class great prove reduce raise author play mov...</td>\n",
       "    </tr>\n",
       "    <tr>\n",
       "      <th>...</th>\n",
       "      <td>...</td>\n",
       "      <td>...</td>\n",
       "      <td>...</td>\n",
       "      <td>...</td>\n",
       "      <td>...</td>\n",
       "      <td>...</td>\n",
       "      <td>...</td>\n",
       "      <td>...</td>\n",
       "      <td>...</td>\n",
       "      <td>...</td>\n",
       "      <td>...</td>\n",
       "      <td>...</td>\n",
       "      <td>...</td>\n",
       "      <td>...</td>\n",
       "      <td>...</td>\n",
       "    </tr>\n",
       "    <tr>\n",
       "      <th>995</th>\n",
       "      <td>996</td>\n",
       "      <td>West African Crocodile</td>\n",
       "      <td>Crocodylus suchus</td>\n",
       "      <td>Crocodylidae</td>\n",
       "      <td>Crocodylus</td>\n",
       "      <td>2.55</td>\n",
       "      <td>112.3</td>\n",
       "      <td>Adult</td>\n",
       "      <td>Female</td>\n",
       "      <td>01-10-2015</td>\n",
       "      <td>Mauritania</td>\n",
       "      <td>Lakes</td>\n",
       "      <td>Least Concern</td>\n",
       "      <td>Karen Avery</td>\n",
       "      <td>Thousand position sense church out explain sig...</td>\n",
       "    </tr>\n",
       "    <tr>\n",
       "      <th>996</th>\n",
       "      <td>997</td>\n",
       "      <td>Hall's New Guinea Crocodile</td>\n",
       "      <td>Crocodylus halli</td>\n",
       "      <td>Crocodylidae</td>\n",
       "      <td>Crocodylus</td>\n",
       "      <td>2.27</td>\n",
       "      <td>80.3</td>\n",
       "      <td>Subadult</td>\n",
       "      <td>Female</td>\n",
       "      <td>25-01-2023</td>\n",
       "      <td>Papua New Guinea</td>\n",
       "      <td>Freshwater Wetlands</td>\n",
       "      <td>Least Concern</td>\n",
       "      <td>Sylvia Turner</td>\n",
       "      <td>Painting try talk like maintain serious style.</td>\n",
       "    </tr>\n",
       "    <tr>\n",
       "      <th>997</th>\n",
       "      <td>998</td>\n",
       "      <td>West African Slender-snouted Crocodile</td>\n",
       "      <td>Mecistops cataphractus</td>\n",
       "      <td>Crocodylidae</td>\n",
       "      <td>Mecistops</td>\n",
       "      <td>2.34</td>\n",
       "      <td>93.5</td>\n",
       "      <td>Adult</td>\n",
       "      <td>Male</td>\n",
       "      <td>07-02-2014</td>\n",
       "      <td>Côte d'Ivoire</td>\n",
       "      <td>Swamps</td>\n",
       "      <td>Critically Endangered</td>\n",
       "      <td>Kristin Fleming</td>\n",
       "      <td>Produce off light before majority garden milit...</td>\n",
       "    </tr>\n",
       "    <tr>\n",
       "      <th>998</th>\n",
       "      <td>999</td>\n",
       "      <td>West African Slender-snouted Crocodile</td>\n",
       "      <td>Mecistops cataphractus</td>\n",
       "      <td>Crocodylidae</td>\n",
       "      <td>Mecistops</td>\n",
       "      <td>2.82</td>\n",
       "      <td>147.6</td>\n",
       "      <td>Adult</td>\n",
       "      <td>Male</td>\n",
       "      <td>09-07-2010</td>\n",
       "      <td>Sierra Leone</td>\n",
       "      <td>Shaded Forest Rivers</td>\n",
       "      <td>Critically Endangered</td>\n",
       "      <td>Eric Petersen</td>\n",
       "      <td>Put everything our prove could party skin soon...</td>\n",
       "    </tr>\n",
       "    <tr>\n",
       "      <th>999</th>\n",
       "      <td>1000</td>\n",
       "      <td>Hall's New Guinea Crocodile</td>\n",
       "      <td>Crocodylus halli</td>\n",
       "      <td>Crocodylidae</td>\n",
       "      <td>Crocodylus</td>\n",
       "      <td>1.73</td>\n",
       "      <td>47.4</td>\n",
       "      <td>Juvenile</td>\n",
       "      <td>Unknown</td>\n",
       "      <td>31-03-2014</td>\n",
       "      <td>Papua New Guinea</td>\n",
       "      <td>Freshwater Wetlands</td>\n",
       "      <td>Least Concern</td>\n",
       "      <td>Kristen Harris</td>\n",
       "      <td>Ok community right then police day so store co...</td>\n",
       "    </tr>\n",
       "  </tbody>\n",
       "</table>\n",
       "<p>1000 rows × 15 columns</p>\n",
       "</div>"
      ],
      "text/plain": [
       "     Observation ID                             Common Name  \\\n",
       "0                 1                     Morelet's Crocodile   \n",
       "1                 2                      American Crocodile   \n",
       "2                 3                       Orinoco Crocodile   \n",
       "3                 4                     Morelet's Crocodile   \n",
       "4                 5      Mugger Crocodile (Marsh Crocodile)   \n",
       "..              ...                                     ...   \n",
       "995             996                  West African Crocodile   \n",
       "996             997             Hall's New Guinea Crocodile   \n",
       "997             998  West African Slender-snouted Crocodile   \n",
       "998             999  West African Slender-snouted Crocodile   \n",
       "999            1000             Hall's New Guinea Crocodile   \n",
       "\n",
       "            Scientific Name        Family       Genus  Observed Length (m)  \\\n",
       "0      Crocodylus moreletii  Crocodylidae  Crocodylus                 1.90   \n",
       "1         Crocodylus acutus  Crocodylidae  Crocodylus                 4.09   \n",
       "2    Crocodylus intermedius  Crocodylidae  Crocodylus                 1.08   \n",
       "3      Crocodylus moreletii  Crocodylidae  Crocodylus                 2.42   \n",
       "4      Crocodylus palustris  Crocodylidae  Crocodylus                 3.75   \n",
       "..                      ...           ...         ...                  ...   \n",
       "995       Crocodylus suchus  Crocodylidae  Crocodylus                 2.55   \n",
       "996        Crocodylus halli  Crocodylidae  Crocodylus                 2.27   \n",
       "997  Mecistops cataphractus  Crocodylidae   Mecistops                 2.34   \n",
       "998  Mecistops cataphractus  Crocodylidae   Mecistops                 2.82   \n",
       "999        Crocodylus halli  Crocodylidae  Crocodylus                 1.73   \n",
       "\n",
       "     Observed Weight (kg) Age Class      Sex Date of Observation  \\\n",
       "0                    62.0     Adult     Male          31-03-2018   \n",
       "1                   334.5     Adult     Male          28-01-2015   \n",
       "2                   118.2  Juvenile  Unknown          07-12-2010   \n",
       "3                    90.4     Adult     Male          01-11-2019   \n",
       "4                   269.4     Adult  Unknown          15-07-2019   \n",
       "..                    ...       ...      ...                 ...   \n",
       "995                 112.3     Adult   Female          01-10-2015   \n",
       "996                  80.3  Subadult   Female          25-01-2023   \n",
       "997                  93.5     Adult     Male          07-02-2014   \n",
       "998                 147.6     Adult     Male          09-07-2010   \n",
       "999                  47.4  Juvenile  Unknown          31-03-2014   \n",
       "\n",
       "       Country/Region          Habitat Type    Conservation Status  \\\n",
       "0              Belize                Swamps          Least Concern   \n",
       "1           Venezuela             Mangroves             Vulnerable   \n",
       "2           Venezuela      Flooded Savannas  Critically Endangered   \n",
       "3              Mexico                Rivers          Least Concern   \n",
       "4               India                Rivers             Vulnerable   \n",
       "..                ...                   ...                    ...   \n",
       "995        Mauritania                 Lakes          Least Concern   \n",
       "996  Papua New Guinea   Freshwater Wetlands          Least Concern   \n",
       "997     Côte d'Ivoire                Swamps  Critically Endangered   \n",
       "998      Sierra Leone  Shaded Forest Rivers  Critically Endangered   \n",
       "999  Papua New Guinea   Freshwater Wetlands          Least Concern   \n",
       "\n",
       "        Observer Name                                              Notes  \n",
       "0        Allison Hill           Cause bill scientist nation opportunity.  \n",
       "1        Brandon Hall  Ago current practice nation determine operatio...  \n",
       "2    Melissa Peterson  Democratic shake bill here grow gas enough ana...  \n",
       "3       Edward Fuller        Officer relate animal direction eye bag do.  \n",
       "4         Donald Reid  Class great prove reduce raise author play mov...  \n",
       "..                ...                                                ...  \n",
       "995       Karen Avery  Thousand position sense church out explain sig...  \n",
       "996     Sylvia Turner     Painting try talk like maintain serious style.  \n",
       "997   Kristin Fleming  Produce off light before majority garden milit...  \n",
       "998     Eric Petersen  Put everything our prove could party skin soon...  \n",
       "999    Kristen Harris  Ok community right then police day so store co...  \n",
       "\n",
       "[1000 rows x 15 columns]"
      ]
     },
     "execution_count": 72,
     "metadata": {},
     "output_type": "execute_result"
    }
   ],
   "source": [
    "df"
   ]
  },
  {
   "cell_type": "code",
   "execution_count": 78,
   "id": "0a4c3eed",
   "metadata": {},
   "outputs": [
    {
     "data": {
      "application/vnd.microsoft.datawrangler.viewer.v0+json": {
       "columns": [
        {
         "name": "Scientific Name",
         "rawType": "object",
         "type": "string"
        },
        {
         "name": "Observed Length (m)",
         "rawType": "float64",
         "type": "float"
        }
       ],
       "ref": "c9ac4c45-316b-403a-a05d-914d46d2cedb",
       "rows": [
        [
         "Crocodylus porosus",
         "4.4077586206896555"
        ],
        [
         "Crocodylus niloticus",
         "3.6666666666666665"
        ],
        [
         "Crocodylus intermedius",
         "3.0218965517241383"
        ],
        [
         "Crocodylus acutus",
         "2.878636363636364"
        ],
        [
         "Crocodylus palustris",
         "2.82"
        ],
        [
         "Crocodylus raninus",
         "2.5176119402985075"
        ],
        [
         "Mecistops cataphractus",
         "2.4716363636363634"
        ],
        [
         "Crocodylus halli",
         "2.4016326530612244"
        ],
        [
         "Crocodylus suchus",
         "2.335576923076923"
        ],
        [
         "Crocodylus rhombifer",
         "2.317966101694915"
        ],
        [
         "Crocodylus siamensis",
         "2.1564444444444444"
        ],
        [
         "Crocodylus moreletii",
         "2.15109375"
        ],
        [
         "Crocodylus novaeguineae",
         "2.145441176470588"
        ],
        [
         "Mecistops leptorhynchus",
         "1.9958928571428571"
        ],
        [
         "Crocodylus johnstoni",
         "1.8473333333333333"
        ],
        [
         "Crocodylus mindorensis",
         "1.8415517241379311"
        ],
        [
         "Osteolaemus osborni",
         "1.22875"
        ],
        [
         "Osteolaemus tetraspis",
         "1.1203508771929824"
        ]
       ],
       "shape": {
        "columns": 1,
        "rows": 18
       }
      },
      "text/plain": [
       "Scientific Name\n",
       "Crocodylus porosus         4.407759\n",
       "Crocodylus niloticus       3.666667\n",
       "Crocodylus intermedius     3.021897\n",
       "Crocodylus acutus          2.878636\n",
       "Crocodylus palustris       2.820000\n",
       "Crocodylus raninus         2.517612\n",
       "Mecistops cataphractus     2.471636\n",
       "Crocodylus halli           2.401633\n",
       "Crocodylus suchus          2.335577\n",
       "Crocodylus rhombifer       2.317966\n",
       "Crocodylus siamensis       2.156444\n",
       "Crocodylus moreletii       2.151094\n",
       "Crocodylus novaeguineae    2.145441\n",
       "Mecistops leptorhynchus    1.995893\n",
       "Crocodylus johnstoni       1.847333\n",
       "Crocodylus mindorensis     1.841552\n",
       "Osteolaemus osborni        1.228750\n",
       "Osteolaemus tetraspis      1.120351\n",
       "Name: Observed Length (m), dtype: float64"
      ]
     },
     "execution_count": 78,
     "metadata": {},
     "output_type": "execute_result"
    }
   ],
   "source": [
    "df.groupby(\"Scientific Name\")[\"Observed Length (m)\"].mean().sort_values(ascending=False)"
   ]
  },
  {
   "cell_type": "code",
   "execution_count": 80,
   "id": "6ff64551",
   "metadata": {},
   "outputs": [
    {
     "data": {
      "application/vnd.microsoft.datawrangler.viewer.v0+json": {
       "columns": [
        {
         "name": "Age Class",
         "rawType": "object",
         "type": "string"
        },
        {
         "name": "count",
         "rawType": "int64",
         "type": "integer"
        }
       ],
       "ref": "55ef58c3-cfd7-4aee-952d-9feada209670",
       "rows": [
        [
         "Adult",
         "510"
        ],
        [
         "Subadult",
         "247"
        ],
        [
         "Juvenile",
         "194"
        ],
        [
         "Hatchling",
         "49"
        ]
       ],
       "shape": {
        "columns": 1,
        "rows": 4
       }
      },
      "text/plain": [
       "Age Class\n",
       "Adult        510\n",
       "Subadult     247\n",
       "Juvenile     194\n",
       "Hatchling     49\n",
       "Name: count, dtype: int64"
      ]
     },
     "execution_count": 80,
     "metadata": {},
     "output_type": "execute_result"
    }
   ],
   "source": [
    "df[\"Age Class\"].value_counts()"
   ]
  },
  {
   "cell_type": "code",
   "execution_count": 81,
   "id": "65d1c16b",
   "metadata": {},
   "outputs": [
    {
     "data": {
      "application/vnd.microsoft.datawrangler.viewer.v0+json": {
       "columns": [
        {
         "name": "index",
         "rawType": "int64",
         "type": "integer"
        },
        {
         "name": "Observation ID",
         "rawType": "int64",
         "type": "integer"
        },
        {
         "name": "Common Name",
         "rawType": "object",
         "type": "string"
        },
        {
         "name": "Scientific Name",
         "rawType": "object",
         "type": "string"
        },
        {
         "name": "Family",
         "rawType": "object",
         "type": "string"
        },
        {
         "name": "Genus",
         "rawType": "object",
         "type": "string"
        },
        {
         "name": "Observed Length (m)",
         "rawType": "float64",
         "type": "float"
        },
        {
         "name": "Observed Weight (kg)",
         "rawType": "float64",
         "type": "float"
        },
        {
         "name": "Age Class",
         "rawType": "object",
         "type": "string"
        },
        {
         "name": "Sex",
         "rawType": "object",
         "type": "string"
        },
        {
         "name": "Date of Observation",
         "rawType": "object",
         "type": "string"
        },
        {
         "name": "Country/Region",
         "rawType": "object",
         "type": "string"
        },
        {
         "name": "Habitat Type",
         "rawType": "object",
         "type": "string"
        },
        {
         "name": "Conservation Status",
         "rawType": "object",
         "type": "string"
        },
        {
         "name": "Observer Name",
         "rawType": "object",
         "type": "string"
        },
        {
         "name": "Notes",
         "rawType": "object",
         "type": "string"
        }
       ],
       "ref": "25340077-b6eb-494e-935c-8ee5e01e0d30",
       "rows": [
        [
         "0",
         "1",
         "Morelet's Crocodile",
         "Crocodylus moreletii",
         "Crocodylidae",
         "Crocodylus",
         "1.9",
         "62.0",
         "Adult",
         "Male",
         "31-03-2018",
         "Belize",
         "Swamps",
         "Least Concern",
         "Allison Hill",
         "Cause bill scientist nation opportunity."
        ],
        [
         "1",
         "2",
         "American Crocodile",
         "Crocodylus acutus",
         "Crocodylidae",
         "Crocodylus",
         "4.09",
         "334.5",
         "Adult",
         "Male",
         "28-01-2015",
         "Venezuela",
         "Mangroves",
         "Vulnerable",
         "Brandon Hall",
         "Ago current practice nation determine operation speak according."
        ],
        [
         "2",
         "3",
         "Orinoco Crocodile",
         "Crocodylus intermedius",
         "Crocodylidae",
         "Crocodylus",
         "1.08",
         "118.2",
         "Juvenile",
         "Unknown",
         "07-12-2010",
         "Venezuela",
         "Flooded Savannas",
         "Critically Endangered",
         "Melissa Peterson",
         "Democratic shake bill here grow gas enough analysis least by two."
        ],
        [
         "3",
         "4",
         "Morelet's Crocodile",
         "Crocodylus moreletii",
         "Crocodylidae",
         "Crocodylus",
         "2.42",
         "90.4",
         "Adult",
         "Male",
         "01-11-2019",
         "Mexico",
         "Rivers",
         "Least Concern",
         "Edward Fuller",
         "Officer relate animal direction eye bag do."
        ],
        [
         "4",
         "5",
         "Mugger Crocodile (Marsh Crocodile)",
         "Crocodylus palustris",
         "Crocodylidae",
         "Crocodylus",
         "3.75",
         "269.4",
         "Adult",
         "Unknown",
         "15-07-2019",
         "India",
         "Rivers",
         "Vulnerable",
         "Donald Reid",
         "Class great prove reduce raise author play move each left establish understand read detail."
        ],
        [
         "5",
         "6",
         "Mugger Crocodile (Marsh Crocodile)",
         "Crocodylus palustris",
         "Crocodylidae",
         "Crocodylus",
         "2.64",
         "137.4",
         "Adult",
         "Male",
         "08-06-2023",
         "India",
         "Reservoirs",
         "Vulnerable",
         "Randy Brown",
         "Source husband at tree note responsibility defense."
        ],
        [
         "6",
         "7",
         "Siamese Crocodile",
         "Crocodylus siamensis",
         "Crocodylidae",
         "Crocodylus",
         "2.85",
         "157.7",
         "Subadult",
         "Male",
         "10-12-2010",
         "Thailand",
         "Slow Rivers",
         "Critically Endangered",
         "Dr. Marvin Thomas Jr.",
         "Much section investment on gun young catch management sense technology check civil quite others his other life edge."
        ],
        [
         "7",
         "8",
         "Congo Dwarf Crocodile",
         "Osteolaemus osborni",
         "Crocodylidae",
         "Osteolaemus",
         "0.35",
         "4.7",
         "Juvenile",
         "Unknown",
         "03-08-2008",
         "Central African Republic",
         "Forest Swamps",
         "Data Deficient",
         "Terri Frazier",
         "Race Mr environment political born itself law west."
        ],
        [
         "8",
         "9",
         "West African Crocodile",
         "Crocodylus suchus",
         "Crocodylidae",
         "Crocodylus",
         "3.05",
         "201.2",
         "Adult",
         "Male",
         "16-04-2020",
         "Sudan",
         "Lakes",
         "Least Concern",
         "Deborah Mason",
         "Medical blood personal success medical current hear claim well."
        ],
        [
         "9",
         "10",
         "Morelet's Crocodile",
         "Crocodylus moreletii",
         "Crocodylidae",
         "Crocodylus",
         "3.39",
         "197.2",
         "Adult",
         "Male",
         "21-05-2016",
         "Mexico",
         "Lagoons",
         "Least Concern",
         "Tamara George",
         "Affect upon these story film around there water beat magazine attorney set."
        ],
        [
         "10",
         "11",
         "West African Dwarf Crocodile",
         "Osteolaemus tetraspis",
         "Crocodylidae",
         "Osteolaemus",
         "1.22",
         "15.8",
         "Adult",
         "Male",
         "08-06-2018",
         "Liberia",
         "Small Streams",
         "Vulnerable",
         "Betty Alvarez",
         "Close month parent who up sense ready."
        ],
        [
         "11",
         "12",
         "Morelet's Crocodile",
         "Crocodylus moreletii",
         "Crocodylidae",
         "Crocodylus",
         "1.84",
         "60.7",
         "Adult",
         "Male",
         "19-10-2019",
         "Belize",
         "Lagoons",
         "Least Concern",
         "Jennifer Powers",
         "Just military building different full open discover detail."
        ],
        [
         "12",
         "13",
         "Siamese Crocodile",
         "Crocodylus siamensis",
         "Crocodylidae",
         "Crocodylus",
         "2.63",
         "121.3",
         "Subadult",
         "Unknown",
         "16-02-2015",
         "Cambodia",
         "Slow Rivers",
         "Critically Endangered",
         "Mark Perez",
         "Teacher audience draw protect Democrat."
        ],
        [
         "13",
         "14",
         "American Crocodile",
         "Crocodylus acutus",
         "Crocodylidae",
         "Crocodylus",
         "3.65",
         "217.7",
         "Adult",
         "Male",
         "07-07-2006",
         "Mexico",
         "Mangroves",
         "Vulnerable",
         "Timothy Duncan",
         "Drug list imagine behind probably great in tell."
        ],
        [
         "14",
         "15",
         "West African Dwarf Crocodile",
         "Osteolaemus tetraspis",
         "Crocodylidae",
         "Osteolaemus",
         "1.32",
         "19.2",
         "Adult",
         "Female",
         "14-06-2010",
         "Côte d'Ivoire",
         "Small Streams",
         "Vulnerable",
         "Matthew Lucas",
         "I fund technology eat couple large."
        ],
        [
         "15",
         "16",
         "Morelet's Crocodile",
         "Crocodylus moreletii",
         "Crocodylidae",
         "Crocodylus",
         "2.0",
         "67.9",
         "Adult",
         "Unknown",
         "18-03-2007",
         "Mexico",
         "Rivers",
         "Least Concern",
         "Donald Wright",
         "Kitchen technology nearly anything yourself structure why."
        ],
        [
         "16",
         "17",
         "Morelet's Crocodile",
         "Crocodylus moreletii",
         "Crocodylidae",
         "Crocodylus",
         "1.98",
         "61.5",
         "Juvenile",
         "Unknown",
         "14-03-2007",
         "Mexico",
         "Lagoons",
         "Least Concern",
         "Sarah Martin",
         "Loss ten total clearly able hospital unit size expect recent room situation product main couple design around."
        ],
        [
         "17",
         "18",
         "Nile Crocodile",
         "Crocodylus niloticus",
         "Crocodylidae",
         "Crocodylus",
         "4.37",
         "565.0",
         "Adult",
         "Female",
         "13-10-2025",
         "Sudan",
         "Reservoirs",
         "Least Concern",
         "Amy Edwards",
         "Once me system church whether bag."
        ],
        [
         "18",
         "19",
         "Borneo Crocodile (disputed)",
         "Crocodylus raninus",
         "Crocodylidae",
         "Crocodylus",
         "1.07",
         "31.1",
         "Juvenile",
         "Unknown",
         "28-02-2017",
         "Indonesia (Borneo)",
         "Estuarine Systems",
         "Data Deficient",
         "Kurt Leonard",
         "Identify walk now often always."
        ],
        [
         "19",
         "20",
         "Saltwater Crocodile",
         "Crocodylus porosus",
         "Crocodylidae",
         "Crocodylus",
         "1.55",
         "350.9",
         "Juvenile",
         "Male",
         "26-12-2017",
         "Philippines",
         "Estuaries",
         "Least Concern",
         "Matthew Cunningham",
         "Various daughter respond draw how public feel."
        ],
        [
         "20",
         "21",
         "Borneo Crocodile (disputed)",
         "Crocodylus raninus",
         "Crocodylidae",
         "Crocodylus",
         "2.52",
         "89.6",
         "Subadult",
         "Unknown",
         "24-09-2011",
         "Malaysia (Borneo)",
         "Estuarine Systems",
         "Data Deficient",
         "Paul Jones",
         "Perform none beyond Mrs media car give attention."
        ],
        [
         "21",
         "22",
         "Nile Crocodile",
         "Crocodylus niloticus",
         "Crocodylidae",
         "Crocodylus",
         "4.65",
         "759.8",
         "Adult",
         "Male",
         "16-04-2013",
         "Tanzania",
         "Lakes",
         "Least Concern",
         "Dustin Kim",
         "Region particularly would pressure account stage federal professional voice care break blood network evening painting response."
        ],
        [
         "22",
         "23",
         "Congo Dwarf Crocodile",
         "Osteolaemus osborni",
         "Crocodylidae",
         "Osteolaemus",
         "1.77",
         "36.0",
         "Adult",
         "Male",
         "07-12-2010",
         "Congo (DRC)",
         "Forest Swamps",
         "Data Deficient",
         "Mark Baker",
         "Economy traditional anything plant stop analysis four capital woman claim kind relationship night born war real chance."
        ],
        [
         "23",
         "24",
         "Cuban Crocodile",
         "Crocodylus rhombifer",
         "Crocodylidae",
         "Crocodylus",
         "2.44",
         "107.9",
         "Subadult",
         "Male",
         "27-01-2007",
         "Cuba",
         "Swamps",
         "Critically Endangered",
         "Jacob Tran",
         "Camera final together someone team together."
        ],
        [
         "24",
         "25",
         "Nile Crocodile",
         "Crocodylus niloticus",
         "Crocodylidae",
         "Crocodylus",
         "3.18",
         "342.1",
         "Juvenile",
         "Male",
         "28-03-2017",
         "Kenya",
         "Marshes",
         "Least Concern",
         "David Garcia",
         "This image per choice upon ten wish specific thing agent say forward us soon ten specific environment skin."
        ],
        [
         "25",
         "26",
         "Cuban Crocodile",
         "Crocodylus rhombifer",
         "Crocodylidae",
         "Crocodylus",
         "0.34",
         "42.4",
         "Hatchling",
         "Unknown",
         "23-04-2007",
         "Cuba",
         "Swamps",
         "Critically Endangered",
         "Shane Garrison",
         "Current truth glass star the development process."
        ],
        [
         "26",
         "27",
         "Mugger Crocodile (Marsh Crocodile)",
         "Crocodylus palustris",
         "Crocodylidae",
         "Crocodylus",
         "3.39",
         "174.9",
         "Adult",
         "Female",
         "20-07-2022",
         "Pakistan",
         "Rivers",
         "Vulnerable",
         "Donald Jones",
         "Go meeting quickly such former agree theory end oil."
        ],
        [
         "27",
         "28",
         "Orinoco Crocodile",
         "Crocodylus intermedius",
         "Crocodylidae",
         "Crocodylus",
         "3.94",
         "367.9",
         "Subadult",
         "Male",
         "21-10-2019",
         "Venezuela",
         "Flooded Savannas",
         "Critically Endangered",
         "Mrs. Linda Reed",
         "Job worker break tonight couple and job mind southern rather vote."
        ],
        [
         "28",
         "29",
         "Siamese Crocodile",
         "Crocodylus siamensis",
         "Crocodylidae",
         "Crocodylus",
         "3.22",
         "196.6",
         "Adult",
         "Unknown",
         "05-06-2012",
         "Cambodia",
         "Slow Rivers",
         "Critically Endangered",
         "Christina Reynolds",
         "Perhaps professional by tonight medical project for recent never court."
        ],
        [
         "29",
         "30",
         "Orinoco Crocodile",
         "Crocodylus intermedius",
         "Crocodylidae",
         "Crocodylus",
         "4.71",
         "576.6",
         "Adult",
         "Female",
         "07-08-2018",
         "Venezuela",
         "Flooded Savannas",
         "Critically Endangered",
         "Jamie Adkins",
         "Past feeling nature a expert involve oil."
        ],
        [
         "30",
         "31",
         "Siamese Crocodile",
         "Crocodylus siamensis",
         "Crocodylidae",
         "Crocodylus",
         "2.04",
         "80.2",
         "Adult",
         "Unknown",
         "16-01-2020",
         "Thailand",
         "Swamps",
         "Critically Endangered",
         "Julie Ramos",
         "Memory soldier where save probably exist professional people behavior weight."
        ],
        [
         "31",
         "32",
         "American Crocodile",
         "Crocodylus acutus",
         "Crocodylidae",
         "Crocodylus",
         "4.11",
         "324.4",
         "Adult",
         "Female",
         "10-01-2014",
         "USA (Florida)",
         "Mangroves",
         "Vulnerable",
         "Eric Drake",
         "Agency each little sure authority increase picture create recent manager."
        ],
        [
         "32",
         "33",
         "Cuban Crocodile",
         "Crocodylus rhombifer",
         "Crocodylidae",
         "Crocodylus",
         "2.42",
         "85.6",
         "Adult",
         "Female",
         "16-04-2017",
         "Cuba",
         "Swamps",
         "Critically Endangered",
         "Matthew Smith",
         "Sing despite sound receive let newspaper true."
        ],
        [
         "33",
         "34",
         "Philippine Crocodile",
         "Crocodylus mindorensis",
         "Crocodylidae",
         "Crocodylus",
         "1.01",
         "28.9",
         "Juvenile",
         "Unknown",
         "22-10-2008",
         "Philippines",
         "Rivers",
         "Critically Endangered",
         "Casey Marshall",
         "Write other wear through partner rest measure store natural today season listen else easy point she miss."
        ],
        [
         "34",
         "35",
         "New Guinea Crocodile",
         "Crocodylus novaeguineae",
         "Crocodylidae",
         "Crocodylus",
         "0.76",
         "36.7",
         "Juvenile",
         "Unknown",
         "23-01-2024",
         "Papua New Guinea",
         "Swamps",
         "Least Concern",
         "Denise Jones",
         "Doctor from throw ball character him check degree increase former letter."
        ],
        [
         "35",
         "36",
         "Philippine Crocodile",
         "Crocodylus mindorensis",
         "Crocodylidae",
         "Crocodylus",
         "2.26",
         "84.2",
         "Adult",
         "Male",
         "17-06-2022",
         "Philippines",
         "Freshwater Marshes",
         "Critically Endangered",
         "Ross Price",
         "Watch affect thing offer local wall fear hope through structure."
        ],
        [
         "36",
         "37",
         "West African Dwarf Crocodile",
         "Osteolaemus tetraspis",
         "Crocodylidae",
         "Osteolaemus",
         "1.48",
         "21.9",
         "Adult",
         "Female",
         "10-12-2021",
         "Côte d'Ivoire",
         "Small Streams",
         "Vulnerable",
         "Morgan Marsh",
         "Major event magazine home protect something right subject try wonder move trade."
        ],
        [
         "37",
         "38",
         "West African Slender-snouted Crocodile",
         "Mecistops cataphractus",
         "Crocodylidae",
         "Mecistops",
         "2.96",
         "182.7",
         "Adult",
         "Unknown",
         "14-05-2010",
         "Liberia",
         "Swamps",
         "Critically Endangered",
         "Mary Miller",
         "Career left anyone here deep force seven."
        ],
        [
         "38",
         "39",
         "Freshwater Crocodile (Johnstone's)",
         "Crocodylus johnstoni",
         "Crocodylidae",
         "Crocodylus",
         "1.05",
         "24.0",
         "Juvenile",
         "Female",
         "30-04-2014",
         "Australia",
         "Freshwater Rivers",
         "Least Concern",
         "Paul Decker",
         "Strong like see appear weight difference attention whatever American all easy."
        ],
        [
         "39",
         "40",
         "West African Crocodile",
         "Crocodylus suchus",
         "Crocodylidae",
         "Crocodylus",
         "2.72",
         "150.3",
         "Subadult",
         "Female",
         "27-01-2017",
         "Senegal",
         "Oases",
         "Least Concern",
         "Lisa Allen",
         "Prove nor design record short cold parent security boy standard who blue agent find quality when."
        ],
        [
         "40",
         "41",
         "Mugger Crocodile (Marsh Crocodile)",
         "Crocodylus palustris",
         "Crocodylidae",
         "Crocodylus",
         "3.25",
         "195.6",
         "Adult",
         "Unknown",
         "14-09-2008",
         "Pakistan",
         "Rivers",
         "Vulnerable",
         "Miguel Jones",
         "Drug recent feeling range south someone not American mouth product attention positive actually information majority item gun through least."
        ],
        [
         "41",
         "42",
         "Nile Crocodile",
         "Crocodylus niloticus",
         "Crocodylidae",
         "Crocodylus",
         "3.57",
         "387.4",
         "Subadult",
         "Female",
         "27-01-2022",
         "South Africa",
         "Marshes",
         "Least Concern",
         "Christopher Boyd",
         "Pattern try simple let stay or focus early various everything late."
        ],
        [
         "42",
         "43",
         "Siamese Crocodile",
         "Crocodylus siamensis",
         "Crocodylidae",
         "Crocodylus",
         "0.29",
         "33.2",
         "Hatchling",
         "Unknown",
         "02-06-2008",
         "Thailand",
         "Slow Rivers",
         "Critically Endangered",
         "Laura Barnett",
         "Agreement surface consider deep something future they red everybody act way beat result."
        ],
        [
         "43",
         "44",
         "Morelet's Crocodile",
         "Crocodylus moreletii",
         "Crocodylidae",
         "Crocodylus",
         "2.33",
         "74.0",
         "Adult",
         "Unknown",
         "10-02-2021",
         "Mexico",
         "Swamps",
         "Least Concern",
         "Peter Vaughn DDS",
         "Large admit family identify during professional hard network gas you nearly goal."
        ],
        [
         "44",
         "45",
         "Morelet's Crocodile",
         "Crocodylus moreletii",
         "Crocodylidae",
         "Crocodylus",
         "2.5",
         "90.6",
         "Adult",
         "Male",
         "15-09-2006",
         "Guatemala",
         "Lagoons",
         "Least Concern",
         "Eric Hall",
         "Firm sea week real course school everybody."
        ],
        [
         "45",
         "46",
         "Morelet's Crocodile",
         "Crocodylus moreletii",
         "Crocodylidae",
         "Crocodylus",
         "2.52",
         "104.1",
         "Adult",
         "Male",
         "15-10-2012",
         "Guatemala",
         "Rivers",
         "Least Concern",
         "Paige Carlson",
         "Strategy fast guess few remain call animal."
        ],
        [
         "46",
         "47",
         "American Crocodile",
         "Crocodylus acutus",
         "Crocodylidae",
         "Crocodylus",
         "3.04",
         "155.0",
         "Adult",
         "Unknown",
         "30-12-2024",
         "Colombia",
         "Estuaries",
         "Vulnerable",
         "Edgar Raymond",
         "Bill activity expect long future whole education technology box assume man officer rather charge."
        ],
        [
         "47",
         "48",
         "Orinoco Crocodile",
         "Crocodylus intermedius",
         "Crocodylidae",
         "Crocodylus",
         "3.4",
         "316.6",
         "Subadult",
         "Female",
         "25-03-2012",
         "Venezuela",
         "Large Rivers",
         "Critically Endangered",
         "Tiffany Miller",
         "Budget share paper so difficult mission late kind team."
        ],
        [
         "48",
         "49",
         "West African Slender-snouted Crocodile",
         "Mecistops cataphractus",
         "Crocodylidae",
         "Mecistops",
         "2.43",
         "96.9",
         "Adult",
         "Male",
         "09-12-2015",
         "Sierra Leone",
         "Swamps",
         "Critically Endangered",
         "Elizabeth Oliver DDS",
         "Way debate decision produce church community avoid."
        ],
        [
         "49",
         "50",
         "New Guinea Crocodile",
         "Crocodylus novaeguineae",
         "Crocodylidae",
         "Crocodylus",
         "2.51",
         "87.4",
         "Subadult",
         "Female",
         "28-06-2019",
         "Indonesia (Papua)",
         "Swamps",
         "Least Concern",
         "Jerry Wheeler",
         "Allow explain executive teacher author."
        ]
       ],
       "shape": {
        "columns": 15,
        "rows": 1000
       }
      },
      "text/html": [
       "<div>\n",
       "<style scoped>\n",
       "    .dataframe tbody tr th:only-of-type {\n",
       "        vertical-align: middle;\n",
       "    }\n",
       "\n",
       "    .dataframe tbody tr th {\n",
       "        vertical-align: top;\n",
       "    }\n",
       "\n",
       "    .dataframe thead th {\n",
       "        text-align: right;\n",
       "    }\n",
       "</style>\n",
       "<table border=\"1\" class=\"dataframe\">\n",
       "  <thead>\n",
       "    <tr style=\"text-align: right;\">\n",
       "      <th></th>\n",
       "      <th>Observation ID</th>\n",
       "      <th>Common Name</th>\n",
       "      <th>Scientific Name</th>\n",
       "      <th>Family</th>\n",
       "      <th>Genus</th>\n",
       "      <th>Observed Length (m)</th>\n",
       "      <th>Observed Weight (kg)</th>\n",
       "      <th>Age Class</th>\n",
       "      <th>Sex</th>\n",
       "      <th>Date of Observation</th>\n",
       "      <th>Country/Region</th>\n",
       "      <th>Habitat Type</th>\n",
       "      <th>Conservation Status</th>\n",
       "      <th>Observer Name</th>\n",
       "      <th>Notes</th>\n",
       "    </tr>\n",
       "  </thead>\n",
       "  <tbody>\n",
       "    <tr>\n",
       "      <th>0</th>\n",
       "      <td>1</td>\n",
       "      <td>Morelet's Crocodile</td>\n",
       "      <td>Crocodylus moreletii</td>\n",
       "      <td>Crocodylidae</td>\n",
       "      <td>Crocodylus</td>\n",
       "      <td>1.90</td>\n",
       "      <td>62.0</td>\n",
       "      <td>Adult</td>\n",
       "      <td>Male</td>\n",
       "      <td>31-03-2018</td>\n",
       "      <td>Belize</td>\n",
       "      <td>Swamps</td>\n",
       "      <td>Least Concern</td>\n",
       "      <td>Allison Hill</td>\n",
       "      <td>Cause bill scientist nation opportunity.</td>\n",
       "    </tr>\n",
       "    <tr>\n",
       "      <th>1</th>\n",
       "      <td>2</td>\n",
       "      <td>American Crocodile</td>\n",
       "      <td>Crocodylus acutus</td>\n",
       "      <td>Crocodylidae</td>\n",
       "      <td>Crocodylus</td>\n",
       "      <td>4.09</td>\n",
       "      <td>334.5</td>\n",
       "      <td>Adult</td>\n",
       "      <td>Male</td>\n",
       "      <td>28-01-2015</td>\n",
       "      <td>Venezuela</td>\n",
       "      <td>Mangroves</td>\n",
       "      <td>Vulnerable</td>\n",
       "      <td>Brandon Hall</td>\n",
       "      <td>Ago current practice nation determine operatio...</td>\n",
       "    </tr>\n",
       "    <tr>\n",
       "      <th>2</th>\n",
       "      <td>3</td>\n",
       "      <td>Orinoco Crocodile</td>\n",
       "      <td>Crocodylus intermedius</td>\n",
       "      <td>Crocodylidae</td>\n",
       "      <td>Crocodylus</td>\n",
       "      <td>1.08</td>\n",
       "      <td>118.2</td>\n",
       "      <td>Juvenile</td>\n",
       "      <td>Unknown</td>\n",
       "      <td>07-12-2010</td>\n",
       "      <td>Venezuela</td>\n",
       "      <td>Flooded Savannas</td>\n",
       "      <td>Critically Endangered</td>\n",
       "      <td>Melissa Peterson</td>\n",
       "      <td>Democratic shake bill here grow gas enough ana...</td>\n",
       "    </tr>\n",
       "    <tr>\n",
       "      <th>3</th>\n",
       "      <td>4</td>\n",
       "      <td>Morelet's Crocodile</td>\n",
       "      <td>Crocodylus moreletii</td>\n",
       "      <td>Crocodylidae</td>\n",
       "      <td>Crocodylus</td>\n",
       "      <td>2.42</td>\n",
       "      <td>90.4</td>\n",
       "      <td>Adult</td>\n",
       "      <td>Male</td>\n",
       "      <td>01-11-2019</td>\n",
       "      <td>Mexico</td>\n",
       "      <td>Rivers</td>\n",
       "      <td>Least Concern</td>\n",
       "      <td>Edward Fuller</td>\n",
       "      <td>Officer relate animal direction eye bag do.</td>\n",
       "    </tr>\n",
       "    <tr>\n",
       "      <th>4</th>\n",
       "      <td>5</td>\n",
       "      <td>Mugger Crocodile (Marsh Crocodile)</td>\n",
       "      <td>Crocodylus palustris</td>\n",
       "      <td>Crocodylidae</td>\n",
       "      <td>Crocodylus</td>\n",
       "      <td>3.75</td>\n",
       "      <td>269.4</td>\n",
       "      <td>Adult</td>\n",
       "      <td>Unknown</td>\n",
       "      <td>15-07-2019</td>\n",
       "      <td>India</td>\n",
       "      <td>Rivers</td>\n",
       "      <td>Vulnerable</td>\n",
       "      <td>Donald Reid</td>\n",
       "      <td>Class great prove reduce raise author play mov...</td>\n",
       "    </tr>\n",
       "    <tr>\n",
       "      <th>...</th>\n",
       "      <td>...</td>\n",
       "      <td>...</td>\n",
       "      <td>...</td>\n",
       "      <td>...</td>\n",
       "      <td>...</td>\n",
       "      <td>...</td>\n",
       "      <td>...</td>\n",
       "      <td>...</td>\n",
       "      <td>...</td>\n",
       "      <td>...</td>\n",
       "      <td>...</td>\n",
       "      <td>...</td>\n",
       "      <td>...</td>\n",
       "      <td>...</td>\n",
       "      <td>...</td>\n",
       "    </tr>\n",
       "    <tr>\n",
       "      <th>995</th>\n",
       "      <td>996</td>\n",
       "      <td>West African Crocodile</td>\n",
       "      <td>Crocodylus suchus</td>\n",
       "      <td>Crocodylidae</td>\n",
       "      <td>Crocodylus</td>\n",
       "      <td>2.55</td>\n",
       "      <td>112.3</td>\n",
       "      <td>Adult</td>\n",
       "      <td>Female</td>\n",
       "      <td>01-10-2015</td>\n",
       "      <td>Mauritania</td>\n",
       "      <td>Lakes</td>\n",
       "      <td>Least Concern</td>\n",
       "      <td>Karen Avery</td>\n",
       "      <td>Thousand position sense church out explain sig...</td>\n",
       "    </tr>\n",
       "    <tr>\n",
       "      <th>996</th>\n",
       "      <td>997</td>\n",
       "      <td>Hall's New Guinea Crocodile</td>\n",
       "      <td>Crocodylus halli</td>\n",
       "      <td>Crocodylidae</td>\n",
       "      <td>Crocodylus</td>\n",
       "      <td>2.27</td>\n",
       "      <td>80.3</td>\n",
       "      <td>Subadult</td>\n",
       "      <td>Female</td>\n",
       "      <td>25-01-2023</td>\n",
       "      <td>Papua New Guinea</td>\n",
       "      <td>Freshwater Wetlands</td>\n",
       "      <td>Least Concern</td>\n",
       "      <td>Sylvia Turner</td>\n",
       "      <td>Painting try talk like maintain serious style.</td>\n",
       "    </tr>\n",
       "    <tr>\n",
       "      <th>997</th>\n",
       "      <td>998</td>\n",
       "      <td>West African Slender-snouted Crocodile</td>\n",
       "      <td>Mecistops cataphractus</td>\n",
       "      <td>Crocodylidae</td>\n",
       "      <td>Mecistops</td>\n",
       "      <td>2.34</td>\n",
       "      <td>93.5</td>\n",
       "      <td>Adult</td>\n",
       "      <td>Male</td>\n",
       "      <td>07-02-2014</td>\n",
       "      <td>Côte d'Ivoire</td>\n",
       "      <td>Swamps</td>\n",
       "      <td>Critically Endangered</td>\n",
       "      <td>Kristin Fleming</td>\n",
       "      <td>Produce off light before majority garden milit...</td>\n",
       "    </tr>\n",
       "    <tr>\n",
       "      <th>998</th>\n",
       "      <td>999</td>\n",
       "      <td>West African Slender-snouted Crocodile</td>\n",
       "      <td>Mecistops cataphractus</td>\n",
       "      <td>Crocodylidae</td>\n",
       "      <td>Mecistops</td>\n",
       "      <td>2.82</td>\n",
       "      <td>147.6</td>\n",
       "      <td>Adult</td>\n",
       "      <td>Male</td>\n",
       "      <td>09-07-2010</td>\n",
       "      <td>Sierra Leone</td>\n",
       "      <td>Shaded Forest Rivers</td>\n",
       "      <td>Critically Endangered</td>\n",
       "      <td>Eric Petersen</td>\n",
       "      <td>Put everything our prove could party skin soon...</td>\n",
       "    </tr>\n",
       "    <tr>\n",
       "      <th>999</th>\n",
       "      <td>1000</td>\n",
       "      <td>Hall's New Guinea Crocodile</td>\n",
       "      <td>Crocodylus halli</td>\n",
       "      <td>Crocodylidae</td>\n",
       "      <td>Crocodylus</td>\n",
       "      <td>1.73</td>\n",
       "      <td>47.4</td>\n",
       "      <td>Juvenile</td>\n",
       "      <td>Unknown</td>\n",
       "      <td>31-03-2014</td>\n",
       "      <td>Papua New Guinea</td>\n",
       "      <td>Freshwater Wetlands</td>\n",
       "      <td>Least Concern</td>\n",
       "      <td>Kristen Harris</td>\n",
       "      <td>Ok community right then police day so store co...</td>\n",
       "    </tr>\n",
       "  </tbody>\n",
       "</table>\n",
       "<p>1000 rows × 15 columns</p>\n",
       "</div>"
      ],
      "text/plain": [
       "     Observation ID                             Common Name  \\\n",
       "0                 1                     Morelet's Crocodile   \n",
       "1                 2                      American Crocodile   \n",
       "2                 3                       Orinoco Crocodile   \n",
       "3                 4                     Morelet's Crocodile   \n",
       "4                 5      Mugger Crocodile (Marsh Crocodile)   \n",
       "..              ...                                     ...   \n",
       "995             996                  West African Crocodile   \n",
       "996             997             Hall's New Guinea Crocodile   \n",
       "997             998  West African Slender-snouted Crocodile   \n",
       "998             999  West African Slender-snouted Crocodile   \n",
       "999            1000             Hall's New Guinea Crocodile   \n",
       "\n",
       "            Scientific Name        Family       Genus  Observed Length (m)  \\\n",
       "0      Crocodylus moreletii  Crocodylidae  Crocodylus                 1.90   \n",
       "1         Crocodylus acutus  Crocodylidae  Crocodylus                 4.09   \n",
       "2    Crocodylus intermedius  Crocodylidae  Crocodylus                 1.08   \n",
       "3      Crocodylus moreletii  Crocodylidae  Crocodylus                 2.42   \n",
       "4      Crocodylus palustris  Crocodylidae  Crocodylus                 3.75   \n",
       "..                      ...           ...         ...                  ...   \n",
       "995       Crocodylus suchus  Crocodylidae  Crocodylus                 2.55   \n",
       "996        Crocodylus halli  Crocodylidae  Crocodylus                 2.27   \n",
       "997  Mecistops cataphractus  Crocodylidae   Mecistops                 2.34   \n",
       "998  Mecistops cataphractus  Crocodylidae   Mecistops                 2.82   \n",
       "999        Crocodylus halli  Crocodylidae  Crocodylus                 1.73   \n",
       "\n",
       "     Observed Weight (kg) Age Class      Sex Date of Observation  \\\n",
       "0                    62.0     Adult     Male          31-03-2018   \n",
       "1                   334.5     Adult     Male          28-01-2015   \n",
       "2                   118.2  Juvenile  Unknown          07-12-2010   \n",
       "3                    90.4     Adult     Male          01-11-2019   \n",
       "4                   269.4     Adult  Unknown          15-07-2019   \n",
       "..                    ...       ...      ...                 ...   \n",
       "995                 112.3     Adult   Female          01-10-2015   \n",
       "996                  80.3  Subadult   Female          25-01-2023   \n",
       "997                  93.5     Adult     Male          07-02-2014   \n",
       "998                 147.6     Adult     Male          09-07-2010   \n",
       "999                  47.4  Juvenile  Unknown          31-03-2014   \n",
       "\n",
       "       Country/Region          Habitat Type    Conservation Status  \\\n",
       "0              Belize                Swamps          Least Concern   \n",
       "1           Venezuela             Mangroves             Vulnerable   \n",
       "2           Venezuela      Flooded Savannas  Critically Endangered   \n",
       "3              Mexico                Rivers          Least Concern   \n",
       "4               India                Rivers             Vulnerable   \n",
       "..                ...                   ...                    ...   \n",
       "995        Mauritania                 Lakes          Least Concern   \n",
       "996  Papua New Guinea   Freshwater Wetlands          Least Concern   \n",
       "997     Côte d'Ivoire                Swamps  Critically Endangered   \n",
       "998      Sierra Leone  Shaded Forest Rivers  Critically Endangered   \n",
       "999  Papua New Guinea   Freshwater Wetlands          Least Concern   \n",
       "\n",
       "        Observer Name                                              Notes  \n",
       "0        Allison Hill           Cause bill scientist nation opportunity.  \n",
       "1        Brandon Hall  Ago current practice nation determine operatio...  \n",
       "2    Melissa Peterson  Democratic shake bill here grow gas enough ana...  \n",
       "3       Edward Fuller        Officer relate animal direction eye bag do.  \n",
       "4         Donald Reid  Class great prove reduce raise author play mov...  \n",
       "..                ...                                                ...  \n",
       "995       Karen Avery  Thousand position sense church out explain sig...  \n",
       "996     Sylvia Turner     Painting try talk like maintain serious style.  \n",
       "997   Kristin Fleming  Produce off light before majority garden milit...  \n",
       "998     Eric Petersen  Put everything our prove could party skin soon...  \n",
       "999    Kristen Harris  Ok community right then police day so store co...  \n",
       "\n",
       "[1000 rows x 15 columns]"
      ]
     },
     "execution_count": 81,
     "metadata": {},
     "output_type": "execute_result"
    }
   ],
   "source": [
    "df"
   ]
  },
  {
   "cell_type": "code",
   "execution_count": 82,
   "id": "f37c2241",
   "metadata": {},
   "outputs": [],
   "source": [
    "df_mexico = df[df[\"Country/Region\"] == \"Mexico\"]"
   ]
  },
  {
   "cell_type": "code",
   "execution_count": 83,
   "id": "5ce7d256",
   "metadata": {},
   "outputs": [
    {
     "data": {
      "application/vnd.microsoft.datawrangler.viewer.v0+json": {
       "columns": [
        {
         "name": "index",
         "rawType": "int64",
         "type": "integer"
        },
        {
         "name": "Observation ID",
         "rawType": "int64",
         "type": "integer"
        },
        {
         "name": "Common Name",
         "rawType": "object",
         "type": "string"
        },
        {
         "name": "Scientific Name",
         "rawType": "object",
         "type": "string"
        },
        {
         "name": "Family",
         "rawType": "object",
         "type": "string"
        },
        {
         "name": "Genus",
         "rawType": "object",
         "type": "string"
        },
        {
         "name": "Observed Length (m)",
         "rawType": "float64",
         "type": "float"
        },
        {
         "name": "Observed Weight (kg)",
         "rawType": "float64",
         "type": "float"
        },
        {
         "name": "Age Class",
         "rawType": "object",
         "type": "string"
        },
        {
         "name": "Sex",
         "rawType": "object",
         "type": "string"
        },
        {
         "name": "Date of Observation",
         "rawType": "object",
         "type": "string"
        },
        {
         "name": "Country/Region",
         "rawType": "object",
         "type": "string"
        },
        {
         "name": "Habitat Type",
         "rawType": "object",
         "type": "string"
        },
        {
         "name": "Conservation Status",
         "rawType": "object",
         "type": "string"
        },
        {
         "name": "Observer Name",
         "rawType": "object",
         "type": "string"
        },
        {
         "name": "Notes",
         "rawType": "object",
         "type": "string"
        }
       ],
       "ref": "832422fe-64d1-4597-9303-f3a8e62c6f5d",
       "rows": [
        [
         "3",
         "4",
         "Morelet's Crocodile",
         "Crocodylus moreletii",
         "Crocodylidae",
         "Crocodylus",
         "2.42",
         "90.4",
         "Adult",
         "Male",
         "01-11-2019",
         "Mexico",
         "Rivers",
         "Least Concern",
         "Edward Fuller",
         "Officer relate animal direction eye bag do."
        ],
        [
         "9",
         "10",
         "Morelet's Crocodile",
         "Crocodylus moreletii",
         "Crocodylidae",
         "Crocodylus",
         "3.39",
         "197.2",
         "Adult",
         "Male",
         "21-05-2016",
         "Mexico",
         "Lagoons",
         "Least Concern",
         "Tamara George",
         "Affect upon these story film around there water beat magazine attorney set."
        ],
        [
         "13",
         "14",
         "American Crocodile",
         "Crocodylus acutus",
         "Crocodylidae",
         "Crocodylus",
         "3.65",
         "217.7",
         "Adult",
         "Male",
         "07-07-2006",
         "Mexico",
         "Mangroves",
         "Vulnerable",
         "Timothy Duncan",
         "Drug list imagine behind probably great in tell."
        ],
        [
         "15",
         "16",
         "Morelet's Crocodile",
         "Crocodylus moreletii",
         "Crocodylidae",
         "Crocodylus",
         "2.0",
         "67.9",
         "Adult",
         "Unknown",
         "18-03-2007",
         "Mexico",
         "Rivers",
         "Least Concern",
         "Donald Wright",
         "Kitchen technology nearly anything yourself structure why."
        ],
        [
         "16",
         "17",
         "Morelet's Crocodile",
         "Crocodylus moreletii",
         "Crocodylidae",
         "Crocodylus",
         "1.98",
         "61.5",
         "Juvenile",
         "Unknown",
         "14-03-2007",
         "Mexico",
         "Lagoons",
         "Least Concern",
         "Sarah Martin",
         "Loss ten total clearly able hospital unit size expect recent room situation product main couple design around."
        ],
        [
         "43",
         "44",
         "Morelet's Crocodile",
         "Crocodylus moreletii",
         "Crocodylidae",
         "Crocodylus",
         "2.33",
         "74.0",
         "Adult",
         "Unknown",
         "10-02-2021",
         "Mexico",
         "Swamps",
         "Least Concern",
         "Peter Vaughn DDS",
         "Large admit family identify during professional hard network gas you nearly goal."
        ],
        [
         "92",
         "93",
         "American Crocodile",
         "Crocodylus acutus",
         "Crocodylidae",
         "Crocodylus",
         "3.88",
         "273.6",
         "Adult",
         "Unknown",
         "17-05-2018",
         "Mexico",
         "Coastal Lagoons",
         "Vulnerable",
         "Larry Mason",
         "Late specific study word base."
        ],
        [
         "109",
         "110",
         "Morelet's Crocodile",
         "Crocodylus moreletii",
         "Crocodylidae",
         "Crocodylus",
         "2.46",
         "100.2",
         "Subadult",
         "Male",
         "03-06-2025",
         "Mexico",
         "Rivers",
         "Least Concern",
         "Jose Brady",
         "Well central parent sit alone attack sing hand."
        ],
        [
         "128",
         "129",
         "American Crocodile",
         "Crocodylus acutus",
         "Crocodylidae",
         "Crocodylus",
         "3.32",
         "213.1",
         "Adult",
         "Unknown",
         "04-12-2005",
         "Mexico",
         "Coastal Lagoons",
         "Vulnerable",
         "Denise Martinez",
         "Here woman stand west source fact explain."
        ],
        [
         "146",
         "147",
         "Morelet's Crocodile",
         "Crocodylus moreletii",
         "Crocodylidae",
         "Crocodylus",
         "2.42",
         "78.6",
         "Adult",
         "Female",
         "29-04-2009",
         "Mexico",
         "Rivers",
         "Least Concern",
         "Jessica Simpson",
         "Walk provide skill five indicate chance heavy senior."
        ],
        [
         "175",
         "176",
         "American Crocodile",
         "Crocodylus acutus",
         "Crocodylidae",
         "Crocodylus",
         "1.69",
         "90.7",
         "Juvenile",
         "Female",
         "27-04-2007",
         "Mexico",
         "Coastal Lagoons",
         "Vulnerable",
         "Tina Hall",
         "Picture control price how scene third last involve above Democrat everything region."
        ],
        [
         "213",
         "214",
         "American Crocodile",
         "Crocodylus acutus",
         "Crocodylidae",
         "Crocodylus",
         "2.44",
         "113.3",
         "Juvenile",
         "Male",
         "21-09-2010",
         "Mexico",
         "Coastal Lagoons",
         "Vulnerable",
         "Eric Henry Jr.",
         "Own after long forward pass southern future concern."
        ],
        [
         "221",
         "222",
         "American Crocodile",
         "Crocodylus acutus",
         "Crocodylidae",
         "Crocodylus",
         "2.77",
         "130.0",
         "Adult",
         "Female",
         "30-04-2008",
         "Mexico",
         "Estuaries",
         "Vulnerable",
         "Jessica Valdez",
         "Threat church big day couple recent reveal role enter example down anyone occur style child."
        ],
        [
         "224",
         "225",
         "American Crocodile",
         "Crocodylus acutus",
         "Crocodylidae",
         "Crocodylus",
         "1.92",
         "107.4",
         "Juvenile",
         "Female",
         "17-02-2016",
         "Mexico",
         "Brackish Rivers",
         "Vulnerable",
         "Angelica Cooper",
         "Including series dinner article hit mission whole reach view of dog federal house take alone."
        ],
        [
         "239",
         "240",
         "Morelet's Crocodile",
         "Crocodylus moreletii",
         "Crocodylidae",
         "Crocodylus",
         "1.9",
         "55.3",
         "Adult",
         "Unknown",
         "10-10-2015",
         "Mexico",
         "Swamps",
         "Least Concern",
         "Kristin Gaines",
         "Pressure develop development the inside thought."
        ],
        [
         "273",
         "274",
         "Morelet's Crocodile",
         "Crocodylus moreletii",
         "Crocodylidae",
         "Crocodylus",
         "2.67",
         "118.9",
         "Adult",
         "Unknown",
         "16-11-2024",
         "Mexico",
         "Swamps",
         "Least Concern",
         "Katie Tucker",
         "Together court message way cold what Mrs."
        ],
        [
         "299",
         "300",
         "Morelet's Crocodile",
         "Crocodylus moreletii",
         "Crocodylidae",
         "Crocodylus",
         "2.79",
         "101.5",
         "Subadult",
         "Male",
         "19-12-2016",
         "Mexico",
         "Swamps",
         "Least Concern",
         "Theresa Wilkins",
         "Keep cut prevent sound experience almost outside middle discuss college already dream a church."
        ],
        [
         "352",
         "353",
         "Morelet's Crocodile",
         "Crocodylus moreletii",
         "Crocodylidae",
         "Crocodylus",
         "2.59",
         "87.1",
         "Subadult",
         "Unknown",
         "07-09-2016",
         "Mexico",
         "Rivers",
         "Least Concern",
         "Andrew Duran",
         "Understand wear development provide dark daughter computer."
        ],
        [
         "389",
         "390",
         "Morelet's Crocodile",
         "Crocodylus moreletii",
         "Crocodylidae",
         "Crocodylus",
         "1.82",
         "59.0",
         "Adult",
         "Unknown",
         "24-09-2018",
         "Mexico",
         "Rivers",
         "Least Concern",
         "Donna Johnson",
         "See risk nor article list college appear wrong speak person expert bar measure surface everyone car exactly tax add."
        ],
        [
         "409",
         "410",
         "Morelet's Crocodile",
         "Crocodylus moreletii",
         "Crocodylidae",
         "Crocodylus",
         "1.88",
         "60.1",
         "Juvenile",
         "Female",
         "17-10-2013",
         "Mexico",
         "Lagoons",
         "Least Concern",
         "Christine Brown",
         "Someone rate why listen computer prove amount population."
        ],
        [
         "432",
         "433",
         "Morelet's Crocodile",
         "Crocodylus moreletii",
         "Crocodylidae",
         "Crocodylus",
         "2.57",
         "101.4",
         "Adult",
         "Male",
         "08-08-2020",
         "Mexico",
         "Rivers",
         "Least Concern",
         "Jaime Smith",
         "Increase new report sense carry control high network amount."
        ],
        [
         "434",
         "435",
         "American Crocodile",
         "Crocodylus acutus",
         "Crocodylidae",
         "Crocodylus",
         "3.36",
         "196.1",
         "Adult",
         "Male",
         "19-11-2014",
         "Mexico",
         "Brackish Rivers",
         "Vulnerable",
         "Terry Newman",
         "Budget everyone yes at seat."
        ],
        [
         "479",
         "480",
         "Morelet's Crocodile",
         "Crocodylus moreletii",
         "Crocodylidae",
         "Crocodylus",
         "3.0",
         "129.6",
         "Adult",
         "Female",
         "19-08-2012",
         "Mexico",
         "Swamps",
         "Least Concern",
         "Diane Mcdowell",
         "Stop unit might job close say man wear new type PM key."
        ],
        [
         "574",
         "575",
         "Morelet's Crocodile",
         "Crocodylus moreletii",
         "Crocodylidae",
         "Crocodylus",
         "0.32",
         "34.1",
         "Hatchling",
         "Female",
         "18-03-2005",
         "Mexico",
         "Lagoons",
         "Least Concern",
         "Bradley Knox",
         "Organization check risk either less."
        ],
        [
         "596",
         "597",
         "American Crocodile",
         "Crocodylus acutus",
         "Crocodylidae",
         "Crocodylus",
         "2.97",
         "168.8",
         "Subadult",
         "Female",
         "30-07-2013",
         "Mexico",
         "Estuaries",
         "Vulnerable",
         "Lynn Lewis",
         "Region heavy wonder four still decision run special red apply tend condition."
        ],
        [
         "681",
         "682",
         "Morelet's Crocodile",
         "Crocodylus moreletii",
         "Crocodylidae",
         "Crocodylus",
         "0.17",
         "26.0",
         "Hatchling",
         "Unknown",
         "19-03-2012",
         "Mexico",
         "Rivers",
         "Least Concern",
         "Jennifer Flores",
         "Join between song mean place six successful physical employee need."
        ],
        [
         "722",
         "723",
         "American Crocodile",
         "Crocodylus acutus",
         "Crocodylidae",
         "Crocodylus",
         "2.76",
         "167.6",
         "Subadult",
         "Male",
         "18-08-2023",
         "Mexico",
         "Coastal Lagoons",
         "Vulnerable",
         "William Smith",
         "Perhaps customer attack check they mind easy billion agency media hospital unit feel low."
        ],
        [
         "737",
         "738",
         "Morelet's Crocodile",
         "Crocodylus moreletii",
         "Crocodylidae",
         "Crocodylus",
         "0.65",
         "34.5",
         "Juvenile",
         "Male",
         "07-10-2013",
         "Mexico",
         "Rivers",
         "Least Concern",
         "George Hubbard",
         "Daughter stage form serious."
        ],
        [
         "739",
         "740",
         "Morelet's Crocodile",
         "Crocodylus moreletii",
         "Crocodylidae",
         "Crocodylus",
         "2.43",
         "95.5",
         "Adult",
         "Male",
         "06-08-2018",
         "Mexico",
         "Lagoons",
         "Least Concern",
         "Angela Arnold",
         "Establish among along medical."
        ],
        [
         "751",
         "752",
         "Morelet's Crocodile",
         "Crocodylus moreletii",
         "Crocodylidae",
         "Crocodylus",
         "2.66",
         "120.3",
         "Subadult",
         "Unknown",
         "03-05-2015",
         "Mexico",
         "Swamps",
         "Least Concern",
         "Bonnie Smith",
         "Beat economic myself front house past gun process site special."
        ],
        [
         "812",
         "813",
         "American Crocodile",
         "Crocodylus acutus",
         "Crocodylidae",
         "Crocodylus",
         "4.18",
         "349.6",
         "Adult",
         "Unknown",
         "11-06-2021",
         "Mexico",
         "Coastal Lagoons",
         "Vulnerable",
         "Terri Gonzalez",
         "Sell candidate four whether wife finally she soon learn close a challenge third feeling ball door data."
        ],
        [
         "816",
         "817",
         "Morelet's Crocodile",
         "Crocodylus moreletii",
         "Crocodylidae",
         "Crocodylus",
         "1.81",
         "61.7",
         "Adult",
         "Male",
         "28-09-2008",
         "Mexico",
         "Rivers",
         "Least Concern",
         "Chris Collins",
         "Alone when instead clear radio strong let bar rather big television sound."
        ],
        [
         "862",
         "863",
         "American Crocodile",
         "Crocodylus acutus",
         "Crocodylidae",
         "Crocodylus",
         "2.8",
         "157.6",
         "Adult",
         "Male",
         "10-09-2022",
         "Mexico",
         "Estuaries",
         "Vulnerable",
         "Jessica Smith",
         "Family perhaps hope across follow character talk once should mother president customer start understand."
        ],
        [
         "916",
         "917",
         "Morelet's Crocodile",
         "Crocodylus moreletii",
         "Crocodylidae",
         "Crocodylus",
         "2.47",
         "86.4",
         "Adult",
         "Unknown",
         "27-01-2020",
         "Mexico",
         "Rivers",
         "Least Concern",
         "Courtney Walsh",
         "City social at Mr cold."
        ],
        [
         "975",
         "976",
         "Morelet's Crocodile",
         "Crocodylus moreletii",
         "Crocodylidae",
         "Crocodylus",
         "2.1",
         "78.2",
         "Subadult",
         "Unknown",
         "14-04-2005",
         "Mexico",
         "Rivers",
         "Least Concern",
         "Tim Brewer",
         "Send technology clearly amount media teacher person out music story city sometimes cause staff."
        ]
       ],
       "shape": {
        "columns": 15,
        "rows": 35
       }
      },
      "text/html": [
       "<div>\n",
       "<style scoped>\n",
       "    .dataframe tbody tr th:only-of-type {\n",
       "        vertical-align: middle;\n",
       "    }\n",
       "\n",
       "    .dataframe tbody tr th {\n",
       "        vertical-align: top;\n",
       "    }\n",
       "\n",
       "    .dataframe thead th {\n",
       "        text-align: right;\n",
       "    }\n",
       "</style>\n",
       "<table border=\"1\" class=\"dataframe\">\n",
       "  <thead>\n",
       "    <tr style=\"text-align: right;\">\n",
       "      <th></th>\n",
       "      <th>Observation ID</th>\n",
       "      <th>Common Name</th>\n",
       "      <th>Scientific Name</th>\n",
       "      <th>Family</th>\n",
       "      <th>Genus</th>\n",
       "      <th>Observed Length (m)</th>\n",
       "      <th>Observed Weight (kg)</th>\n",
       "      <th>Age Class</th>\n",
       "      <th>Sex</th>\n",
       "      <th>Date of Observation</th>\n",
       "      <th>Country/Region</th>\n",
       "      <th>Habitat Type</th>\n",
       "      <th>Conservation Status</th>\n",
       "      <th>Observer Name</th>\n",
       "      <th>Notes</th>\n",
       "    </tr>\n",
       "  </thead>\n",
       "  <tbody>\n",
       "    <tr>\n",
       "      <th>3</th>\n",
       "      <td>4</td>\n",
       "      <td>Morelet's Crocodile</td>\n",
       "      <td>Crocodylus moreletii</td>\n",
       "      <td>Crocodylidae</td>\n",
       "      <td>Crocodylus</td>\n",
       "      <td>2.42</td>\n",
       "      <td>90.4</td>\n",
       "      <td>Adult</td>\n",
       "      <td>Male</td>\n",
       "      <td>01-11-2019</td>\n",
       "      <td>Mexico</td>\n",
       "      <td>Rivers</td>\n",
       "      <td>Least Concern</td>\n",
       "      <td>Edward Fuller</td>\n",
       "      <td>Officer relate animal direction eye bag do.</td>\n",
       "    </tr>\n",
       "    <tr>\n",
       "      <th>9</th>\n",
       "      <td>10</td>\n",
       "      <td>Morelet's Crocodile</td>\n",
       "      <td>Crocodylus moreletii</td>\n",
       "      <td>Crocodylidae</td>\n",
       "      <td>Crocodylus</td>\n",
       "      <td>3.39</td>\n",
       "      <td>197.2</td>\n",
       "      <td>Adult</td>\n",
       "      <td>Male</td>\n",
       "      <td>21-05-2016</td>\n",
       "      <td>Mexico</td>\n",
       "      <td>Lagoons</td>\n",
       "      <td>Least Concern</td>\n",
       "      <td>Tamara George</td>\n",
       "      <td>Affect upon these story film around there wate...</td>\n",
       "    </tr>\n",
       "    <tr>\n",
       "      <th>13</th>\n",
       "      <td>14</td>\n",
       "      <td>American Crocodile</td>\n",
       "      <td>Crocodylus acutus</td>\n",
       "      <td>Crocodylidae</td>\n",
       "      <td>Crocodylus</td>\n",
       "      <td>3.65</td>\n",
       "      <td>217.7</td>\n",
       "      <td>Adult</td>\n",
       "      <td>Male</td>\n",
       "      <td>07-07-2006</td>\n",
       "      <td>Mexico</td>\n",
       "      <td>Mangroves</td>\n",
       "      <td>Vulnerable</td>\n",
       "      <td>Timothy Duncan</td>\n",
       "      <td>Drug list imagine behind probably great in tell.</td>\n",
       "    </tr>\n",
       "    <tr>\n",
       "      <th>15</th>\n",
       "      <td>16</td>\n",
       "      <td>Morelet's Crocodile</td>\n",
       "      <td>Crocodylus moreletii</td>\n",
       "      <td>Crocodylidae</td>\n",
       "      <td>Crocodylus</td>\n",
       "      <td>2.00</td>\n",
       "      <td>67.9</td>\n",
       "      <td>Adult</td>\n",
       "      <td>Unknown</td>\n",
       "      <td>18-03-2007</td>\n",
       "      <td>Mexico</td>\n",
       "      <td>Rivers</td>\n",
       "      <td>Least Concern</td>\n",
       "      <td>Donald Wright</td>\n",
       "      <td>Kitchen technology nearly anything yourself st...</td>\n",
       "    </tr>\n",
       "    <tr>\n",
       "      <th>16</th>\n",
       "      <td>17</td>\n",
       "      <td>Morelet's Crocodile</td>\n",
       "      <td>Crocodylus moreletii</td>\n",
       "      <td>Crocodylidae</td>\n",
       "      <td>Crocodylus</td>\n",
       "      <td>1.98</td>\n",
       "      <td>61.5</td>\n",
       "      <td>Juvenile</td>\n",
       "      <td>Unknown</td>\n",
       "      <td>14-03-2007</td>\n",
       "      <td>Mexico</td>\n",
       "      <td>Lagoons</td>\n",
       "      <td>Least Concern</td>\n",
       "      <td>Sarah Martin</td>\n",
       "      <td>Loss ten total clearly able hospital unit size...</td>\n",
       "    </tr>\n",
       "    <tr>\n",
       "      <th>43</th>\n",
       "      <td>44</td>\n",
       "      <td>Morelet's Crocodile</td>\n",
       "      <td>Crocodylus moreletii</td>\n",
       "      <td>Crocodylidae</td>\n",
       "      <td>Crocodylus</td>\n",
       "      <td>2.33</td>\n",
       "      <td>74.0</td>\n",
       "      <td>Adult</td>\n",
       "      <td>Unknown</td>\n",
       "      <td>10-02-2021</td>\n",
       "      <td>Mexico</td>\n",
       "      <td>Swamps</td>\n",
       "      <td>Least Concern</td>\n",
       "      <td>Peter Vaughn DDS</td>\n",
       "      <td>Large admit family identify during professiona...</td>\n",
       "    </tr>\n",
       "    <tr>\n",
       "      <th>92</th>\n",
       "      <td>93</td>\n",
       "      <td>American Crocodile</td>\n",
       "      <td>Crocodylus acutus</td>\n",
       "      <td>Crocodylidae</td>\n",
       "      <td>Crocodylus</td>\n",
       "      <td>3.88</td>\n",
       "      <td>273.6</td>\n",
       "      <td>Adult</td>\n",
       "      <td>Unknown</td>\n",
       "      <td>17-05-2018</td>\n",
       "      <td>Mexico</td>\n",
       "      <td>Coastal Lagoons</td>\n",
       "      <td>Vulnerable</td>\n",
       "      <td>Larry Mason</td>\n",
       "      <td>Late specific study word base.</td>\n",
       "    </tr>\n",
       "    <tr>\n",
       "      <th>109</th>\n",
       "      <td>110</td>\n",
       "      <td>Morelet's Crocodile</td>\n",
       "      <td>Crocodylus moreletii</td>\n",
       "      <td>Crocodylidae</td>\n",
       "      <td>Crocodylus</td>\n",
       "      <td>2.46</td>\n",
       "      <td>100.2</td>\n",
       "      <td>Subadult</td>\n",
       "      <td>Male</td>\n",
       "      <td>03-06-2025</td>\n",
       "      <td>Mexico</td>\n",
       "      <td>Rivers</td>\n",
       "      <td>Least Concern</td>\n",
       "      <td>Jose Brady</td>\n",
       "      <td>Well central parent sit alone attack sing hand.</td>\n",
       "    </tr>\n",
       "    <tr>\n",
       "      <th>128</th>\n",
       "      <td>129</td>\n",
       "      <td>American Crocodile</td>\n",
       "      <td>Crocodylus acutus</td>\n",
       "      <td>Crocodylidae</td>\n",
       "      <td>Crocodylus</td>\n",
       "      <td>3.32</td>\n",
       "      <td>213.1</td>\n",
       "      <td>Adult</td>\n",
       "      <td>Unknown</td>\n",
       "      <td>04-12-2005</td>\n",
       "      <td>Mexico</td>\n",
       "      <td>Coastal Lagoons</td>\n",
       "      <td>Vulnerable</td>\n",
       "      <td>Denise Martinez</td>\n",
       "      <td>Here woman stand west source fact explain.</td>\n",
       "    </tr>\n",
       "    <tr>\n",
       "      <th>146</th>\n",
       "      <td>147</td>\n",
       "      <td>Morelet's Crocodile</td>\n",
       "      <td>Crocodylus moreletii</td>\n",
       "      <td>Crocodylidae</td>\n",
       "      <td>Crocodylus</td>\n",
       "      <td>2.42</td>\n",
       "      <td>78.6</td>\n",
       "      <td>Adult</td>\n",
       "      <td>Female</td>\n",
       "      <td>29-04-2009</td>\n",
       "      <td>Mexico</td>\n",
       "      <td>Rivers</td>\n",
       "      <td>Least Concern</td>\n",
       "      <td>Jessica Simpson</td>\n",
       "      <td>Walk provide skill five indicate chance heavy ...</td>\n",
       "    </tr>\n",
       "    <tr>\n",
       "      <th>175</th>\n",
       "      <td>176</td>\n",
       "      <td>American Crocodile</td>\n",
       "      <td>Crocodylus acutus</td>\n",
       "      <td>Crocodylidae</td>\n",
       "      <td>Crocodylus</td>\n",
       "      <td>1.69</td>\n",
       "      <td>90.7</td>\n",
       "      <td>Juvenile</td>\n",
       "      <td>Female</td>\n",
       "      <td>27-04-2007</td>\n",
       "      <td>Mexico</td>\n",
       "      <td>Coastal Lagoons</td>\n",
       "      <td>Vulnerable</td>\n",
       "      <td>Tina Hall</td>\n",
       "      <td>Picture control price how scene third last inv...</td>\n",
       "    </tr>\n",
       "    <tr>\n",
       "      <th>213</th>\n",
       "      <td>214</td>\n",
       "      <td>American Crocodile</td>\n",
       "      <td>Crocodylus acutus</td>\n",
       "      <td>Crocodylidae</td>\n",
       "      <td>Crocodylus</td>\n",
       "      <td>2.44</td>\n",
       "      <td>113.3</td>\n",
       "      <td>Juvenile</td>\n",
       "      <td>Male</td>\n",
       "      <td>21-09-2010</td>\n",
       "      <td>Mexico</td>\n",
       "      <td>Coastal Lagoons</td>\n",
       "      <td>Vulnerable</td>\n",
       "      <td>Eric Henry Jr.</td>\n",
       "      <td>Own after long forward pass southern future co...</td>\n",
       "    </tr>\n",
       "    <tr>\n",
       "      <th>221</th>\n",
       "      <td>222</td>\n",
       "      <td>American Crocodile</td>\n",
       "      <td>Crocodylus acutus</td>\n",
       "      <td>Crocodylidae</td>\n",
       "      <td>Crocodylus</td>\n",
       "      <td>2.77</td>\n",
       "      <td>130.0</td>\n",
       "      <td>Adult</td>\n",
       "      <td>Female</td>\n",
       "      <td>30-04-2008</td>\n",
       "      <td>Mexico</td>\n",
       "      <td>Estuaries</td>\n",
       "      <td>Vulnerable</td>\n",
       "      <td>Jessica Valdez</td>\n",
       "      <td>Threat church big day couple recent reveal rol...</td>\n",
       "    </tr>\n",
       "    <tr>\n",
       "      <th>224</th>\n",
       "      <td>225</td>\n",
       "      <td>American Crocodile</td>\n",
       "      <td>Crocodylus acutus</td>\n",
       "      <td>Crocodylidae</td>\n",
       "      <td>Crocodylus</td>\n",
       "      <td>1.92</td>\n",
       "      <td>107.4</td>\n",
       "      <td>Juvenile</td>\n",
       "      <td>Female</td>\n",
       "      <td>17-02-2016</td>\n",
       "      <td>Mexico</td>\n",
       "      <td>Brackish Rivers</td>\n",
       "      <td>Vulnerable</td>\n",
       "      <td>Angelica Cooper</td>\n",
       "      <td>Including series dinner article hit mission wh...</td>\n",
       "    </tr>\n",
       "    <tr>\n",
       "      <th>239</th>\n",
       "      <td>240</td>\n",
       "      <td>Morelet's Crocodile</td>\n",
       "      <td>Crocodylus moreletii</td>\n",
       "      <td>Crocodylidae</td>\n",
       "      <td>Crocodylus</td>\n",
       "      <td>1.90</td>\n",
       "      <td>55.3</td>\n",
       "      <td>Adult</td>\n",
       "      <td>Unknown</td>\n",
       "      <td>10-10-2015</td>\n",
       "      <td>Mexico</td>\n",
       "      <td>Swamps</td>\n",
       "      <td>Least Concern</td>\n",
       "      <td>Kristin Gaines</td>\n",
       "      <td>Pressure develop development the inside thought.</td>\n",
       "    </tr>\n",
       "    <tr>\n",
       "      <th>273</th>\n",
       "      <td>274</td>\n",
       "      <td>Morelet's Crocodile</td>\n",
       "      <td>Crocodylus moreletii</td>\n",
       "      <td>Crocodylidae</td>\n",
       "      <td>Crocodylus</td>\n",
       "      <td>2.67</td>\n",
       "      <td>118.9</td>\n",
       "      <td>Adult</td>\n",
       "      <td>Unknown</td>\n",
       "      <td>16-11-2024</td>\n",
       "      <td>Mexico</td>\n",
       "      <td>Swamps</td>\n",
       "      <td>Least Concern</td>\n",
       "      <td>Katie Tucker</td>\n",
       "      <td>Together court message way cold what Mrs.</td>\n",
       "    </tr>\n",
       "    <tr>\n",
       "      <th>299</th>\n",
       "      <td>300</td>\n",
       "      <td>Morelet's Crocodile</td>\n",
       "      <td>Crocodylus moreletii</td>\n",
       "      <td>Crocodylidae</td>\n",
       "      <td>Crocodylus</td>\n",
       "      <td>2.79</td>\n",
       "      <td>101.5</td>\n",
       "      <td>Subadult</td>\n",
       "      <td>Male</td>\n",
       "      <td>19-12-2016</td>\n",
       "      <td>Mexico</td>\n",
       "      <td>Swamps</td>\n",
       "      <td>Least Concern</td>\n",
       "      <td>Theresa Wilkins</td>\n",
       "      <td>Keep cut prevent sound experience almost outsi...</td>\n",
       "    </tr>\n",
       "    <tr>\n",
       "      <th>352</th>\n",
       "      <td>353</td>\n",
       "      <td>Morelet's Crocodile</td>\n",
       "      <td>Crocodylus moreletii</td>\n",
       "      <td>Crocodylidae</td>\n",
       "      <td>Crocodylus</td>\n",
       "      <td>2.59</td>\n",
       "      <td>87.1</td>\n",
       "      <td>Subadult</td>\n",
       "      <td>Unknown</td>\n",
       "      <td>07-09-2016</td>\n",
       "      <td>Mexico</td>\n",
       "      <td>Rivers</td>\n",
       "      <td>Least Concern</td>\n",
       "      <td>Andrew Duran</td>\n",
       "      <td>Understand wear development provide dark daugh...</td>\n",
       "    </tr>\n",
       "    <tr>\n",
       "      <th>389</th>\n",
       "      <td>390</td>\n",
       "      <td>Morelet's Crocodile</td>\n",
       "      <td>Crocodylus moreletii</td>\n",
       "      <td>Crocodylidae</td>\n",
       "      <td>Crocodylus</td>\n",
       "      <td>1.82</td>\n",
       "      <td>59.0</td>\n",
       "      <td>Adult</td>\n",
       "      <td>Unknown</td>\n",
       "      <td>24-09-2018</td>\n",
       "      <td>Mexico</td>\n",
       "      <td>Rivers</td>\n",
       "      <td>Least Concern</td>\n",
       "      <td>Donna Johnson</td>\n",
       "      <td>See risk nor article list college appear wrong...</td>\n",
       "    </tr>\n",
       "    <tr>\n",
       "      <th>409</th>\n",
       "      <td>410</td>\n",
       "      <td>Morelet's Crocodile</td>\n",
       "      <td>Crocodylus moreletii</td>\n",
       "      <td>Crocodylidae</td>\n",
       "      <td>Crocodylus</td>\n",
       "      <td>1.88</td>\n",
       "      <td>60.1</td>\n",
       "      <td>Juvenile</td>\n",
       "      <td>Female</td>\n",
       "      <td>17-10-2013</td>\n",
       "      <td>Mexico</td>\n",
       "      <td>Lagoons</td>\n",
       "      <td>Least Concern</td>\n",
       "      <td>Christine Brown</td>\n",
       "      <td>Someone rate why listen computer prove amount ...</td>\n",
       "    </tr>\n",
       "    <tr>\n",
       "      <th>432</th>\n",
       "      <td>433</td>\n",
       "      <td>Morelet's Crocodile</td>\n",
       "      <td>Crocodylus moreletii</td>\n",
       "      <td>Crocodylidae</td>\n",
       "      <td>Crocodylus</td>\n",
       "      <td>2.57</td>\n",
       "      <td>101.4</td>\n",
       "      <td>Adult</td>\n",
       "      <td>Male</td>\n",
       "      <td>08-08-2020</td>\n",
       "      <td>Mexico</td>\n",
       "      <td>Rivers</td>\n",
       "      <td>Least Concern</td>\n",
       "      <td>Jaime Smith</td>\n",
       "      <td>Increase new report sense carry control high n...</td>\n",
       "    </tr>\n",
       "    <tr>\n",
       "      <th>434</th>\n",
       "      <td>435</td>\n",
       "      <td>American Crocodile</td>\n",
       "      <td>Crocodylus acutus</td>\n",
       "      <td>Crocodylidae</td>\n",
       "      <td>Crocodylus</td>\n",
       "      <td>3.36</td>\n",
       "      <td>196.1</td>\n",
       "      <td>Adult</td>\n",
       "      <td>Male</td>\n",
       "      <td>19-11-2014</td>\n",
       "      <td>Mexico</td>\n",
       "      <td>Brackish Rivers</td>\n",
       "      <td>Vulnerable</td>\n",
       "      <td>Terry Newman</td>\n",
       "      <td>Budget everyone yes at seat.</td>\n",
       "    </tr>\n",
       "    <tr>\n",
       "      <th>479</th>\n",
       "      <td>480</td>\n",
       "      <td>Morelet's Crocodile</td>\n",
       "      <td>Crocodylus moreletii</td>\n",
       "      <td>Crocodylidae</td>\n",
       "      <td>Crocodylus</td>\n",
       "      <td>3.00</td>\n",
       "      <td>129.6</td>\n",
       "      <td>Adult</td>\n",
       "      <td>Female</td>\n",
       "      <td>19-08-2012</td>\n",
       "      <td>Mexico</td>\n",
       "      <td>Swamps</td>\n",
       "      <td>Least Concern</td>\n",
       "      <td>Diane Mcdowell</td>\n",
       "      <td>Stop unit might job close say man wear new typ...</td>\n",
       "    </tr>\n",
       "    <tr>\n",
       "      <th>574</th>\n",
       "      <td>575</td>\n",
       "      <td>Morelet's Crocodile</td>\n",
       "      <td>Crocodylus moreletii</td>\n",
       "      <td>Crocodylidae</td>\n",
       "      <td>Crocodylus</td>\n",
       "      <td>0.32</td>\n",
       "      <td>34.1</td>\n",
       "      <td>Hatchling</td>\n",
       "      <td>Female</td>\n",
       "      <td>18-03-2005</td>\n",
       "      <td>Mexico</td>\n",
       "      <td>Lagoons</td>\n",
       "      <td>Least Concern</td>\n",
       "      <td>Bradley Knox</td>\n",
       "      <td>Organization check risk either less.</td>\n",
       "    </tr>\n",
       "    <tr>\n",
       "      <th>596</th>\n",
       "      <td>597</td>\n",
       "      <td>American Crocodile</td>\n",
       "      <td>Crocodylus acutus</td>\n",
       "      <td>Crocodylidae</td>\n",
       "      <td>Crocodylus</td>\n",
       "      <td>2.97</td>\n",
       "      <td>168.8</td>\n",
       "      <td>Subadult</td>\n",
       "      <td>Female</td>\n",
       "      <td>30-07-2013</td>\n",
       "      <td>Mexico</td>\n",
       "      <td>Estuaries</td>\n",
       "      <td>Vulnerable</td>\n",
       "      <td>Lynn Lewis</td>\n",
       "      <td>Region heavy wonder four still decision run sp...</td>\n",
       "    </tr>\n",
       "    <tr>\n",
       "      <th>681</th>\n",
       "      <td>682</td>\n",
       "      <td>Morelet's Crocodile</td>\n",
       "      <td>Crocodylus moreletii</td>\n",
       "      <td>Crocodylidae</td>\n",
       "      <td>Crocodylus</td>\n",
       "      <td>0.17</td>\n",
       "      <td>26.0</td>\n",
       "      <td>Hatchling</td>\n",
       "      <td>Unknown</td>\n",
       "      <td>19-03-2012</td>\n",
       "      <td>Mexico</td>\n",
       "      <td>Rivers</td>\n",
       "      <td>Least Concern</td>\n",
       "      <td>Jennifer Flores</td>\n",
       "      <td>Join between song mean place six successful ph...</td>\n",
       "    </tr>\n",
       "    <tr>\n",
       "      <th>722</th>\n",
       "      <td>723</td>\n",
       "      <td>American Crocodile</td>\n",
       "      <td>Crocodylus acutus</td>\n",
       "      <td>Crocodylidae</td>\n",
       "      <td>Crocodylus</td>\n",
       "      <td>2.76</td>\n",
       "      <td>167.6</td>\n",
       "      <td>Subadult</td>\n",
       "      <td>Male</td>\n",
       "      <td>18-08-2023</td>\n",
       "      <td>Mexico</td>\n",
       "      <td>Coastal Lagoons</td>\n",
       "      <td>Vulnerable</td>\n",
       "      <td>William Smith</td>\n",
       "      <td>Perhaps customer attack check they mind easy b...</td>\n",
       "    </tr>\n",
       "    <tr>\n",
       "      <th>737</th>\n",
       "      <td>738</td>\n",
       "      <td>Morelet's Crocodile</td>\n",
       "      <td>Crocodylus moreletii</td>\n",
       "      <td>Crocodylidae</td>\n",
       "      <td>Crocodylus</td>\n",
       "      <td>0.65</td>\n",
       "      <td>34.5</td>\n",
       "      <td>Juvenile</td>\n",
       "      <td>Male</td>\n",
       "      <td>07-10-2013</td>\n",
       "      <td>Mexico</td>\n",
       "      <td>Rivers</td>\n",
       "      <td>Least Concern</td>\n",
       "      <td>George Hubbard</td>\n",
       "      <td>Daughter stage form serious.</td>\n",
       "    </tr>\n",
       "    <tr>\n",
       "      <th>739</th>\n",
       "      <td>740</td>\n",
       "      <td>Morelet's Crocodile</td>\n",
       "      <td>Crocodylus moreletii</td>\n",
       "      <td>Crocodylidae</td>\n",
       "      <td>Crocodylus</td>\n",
       "      <td>2.43</td>\n",
       "      <td>95.5</td>\n",
       "      <td>Adult</td>\n",
       "      <td>Male</td>\n",
       "      <td>06-08-2018</td>\n",
       "      <td>Mexico</td>\n",
       "      <td>Lagoons</td>\n",
       "      <td>Least Concern</td>\n",
       "      <td>Angela Arnold</td>\n",
       "      <td>Establish among along medical.</td>\n",
       "    </tr>\n",
       "    <tr>\n",
       "      <th>751</th>\n",
       "      <td>752</td>\n",
       "      <td>Morelet's Crocodile</td>\n",
       "      <td>Crocodylus moreletii</td>\n",
       "      <td>Crocodylidae</td>\n",
       "      <td>Crocodylus</td>\n",
       "      <td>2.66</td>\n",
       "      <td>120.3</td>\n",
       "      <td>Subadult</td>\n",
       "      <td>Unknown</td>\n",
       "      <td>03-05-2015</td>\n",
       "      <td>Mexico</td>\n",
       "      <td>Swamps</td>\n",
       "      <td>Least Concern</td>\n",
       "      <td>Bonnie Smith</td>\n",
       "      <td>Beat economic myself front house past gun proc...</td>\n",
       "    </tr>\n",
       "    <tr>\n",
       "      <th>812</th>\n",
       "      <td>813</td>\n",
       "      <td>American Crocodile</td>\n",
       "      <td>Crocodylus acutus</td>\n",
       "      <td>Crocodylidae</td>\n",
       "      <td>Crocodylus</td>\n",
       "      <td>4.18</td>\n",
       "      <td>349.6</td>\n",
       "      <td>Adult</td>\n",
       "      <td>Unknown</td>\n",
       "      <td>11-06-2021</td>\n",
       "      <td>Mexico</td>\n",
       "      <td>Coastal Lagoons</td>\n",
       "      <td>Vulnerable</td>\n",
       "      <td>Terri Gonzalez</td>\n",
       "      <td>Sell candidate four whether wife finally she s...</td>\n",
       "    </tr>\n",
       "    <tr>\n",
       "      <th>816</th>\n",
       "      <td>817</td>\n",
       "      <td>Morelet's Crocodile</td>\n",
       "      <td>Crocodylus moreletii</td>\n",
       "      <td>Crocodylidae</td>\n",
       "      <td>Crocodylus</td>\n",
       "      <td>1.81</td>\n",
       "      <td>61.7</td>\n",
       "      <td>Adult</td>\n",
       "      <td>Male</td>\n",
       "      <td>28-09-2008</td>\n",
       "      <td>Mexico</td>\n",
       "      <td>Rivers</td>\n",
       "      <td>Least Concern</td>\n",
       "      <td>Chris Collins</td>\n",
       "      <td>Alone when instead clear radio strong let bar ...</td>\n",
       "    </tr>\n",
       "    <tr>\n",
       "      <th>862</th>\n",
       "      <td>863</td>\n",
       "      <td>American Crocodile</td>\n",
       "      <td>Crocodylus acutus</td>\n",
       "      <td>Crocodylidae</td>\n",
       "      <td>Crocodylus</td>\n",
       "      <td>2.80</td>\n",
       "      <td>157.6</td>\n",
       "      <td>Adult</td>\n",
       "      <td>Male</td>\n",
       "      <td>10-09-2022</td>\n",
       "      <td>Mexico</td>\n",
       "      <td>Estuaries</td>\n",
       "      <td>Vulnerable</td>\n",
       "      <td>Jessica Smith</td>\n",
       "      <td>Family perhaps hope across follow character ta...</td>\n",
       "    </tr>\n",
       "    <tr>\n",
       "      <th>916</th>\n",
       "      <td>917</td>\n",
       "      <td>Morelet's Crocodile</td>\n",
       "      <td>Crocodylus moreletii</td>\n",
       "      <td>Crocodylidae</td>\n",
       "      <td>Crocodylus</td>\n",
       "      <td>2.47</td>\n",
       "      <td>86.4</td>\n",
       "      <td>Adult</td>\n",
       "      <td>Unknown</td>\n",
       "      <td>27-01-2020</td>\n",
       "      <td>Mexico</td>\n",
       "      <td>Rivers</td>\n",
       "      <td>Least Concern</td>\n",
       "      <td>Courtney Walsh</td>\n",
       "      <td>City social at Mr cold.</td>\n",
       "    </tr>\n",
       "    <tr>\n",
       "      <th>975</th>\n",
       "      <td>976</td>\n",
       "      <td>Morelet's Crocodile</td>\n",
       "      <td>Crocodylus moreletii</td>\n",
       "      <td>Crocodylidae</td>\n",
       "      <td>Crocodylus</td>\n",
       "      <td>2.10</td>\n",
       "      <td>78.2</td>\n",
       "      <td>Subadult</td>\n",
       "      <td>Unknown</td>\n",
       "      <td>14-04-2005</td>\n",
       "      <td>Mexico</td>\n",
       "      <td>Rivers</td>\n",
       "      <td>Least Concern</td>\n",
       "      <td>Tim Brewer</td>\n",
       "      <td>Send technology clearly amount media teacher p...</td>\n",
       "    </tr>\n",
       "  </tbody>\n",
       "</table>\n",
       "</div>"
      ],
      "text/plain": [
       "     Observation ID          Common Name       Scientific Name        Family  \\\n",
       "3                 4  Morelet's Crocodile  Crocodylus moreletii  Crocodylidae   \n",
       "9                10  Morelet's Crocodile  Crocodylus moreletii  Crocodylidae   \n",
       "13               14   American Crocodile     Crocodylus acutus  Crocodylidae   \n",
       "15               16  Morelet's Crocodile  Crocodylus moreletii  Crocodylidae   \n",
       "16               17  Morelet's Crocodile  Crocodylus moreletii  Crocodylidae   \n",
       "43               44  Morelet's Crocodile  Crocodylus moreletii  Crocodylidae   \n",
       "92               93   American Crocodile     Crocodylus acutus  Crocodylidae   \n",
       "109             110  Morelet's Crocodile  Crocodylus moreletii  Crocodylidae   \n",
       "128             129   American Crocodile     Crocodylus acutus  Crocodylidae   \n",
       "146             147  Morelet's Crocodile  Crocodylus moreletii  Crocodylidae   \n",
       "175             176   American Crocodile     Crocodylus acutus  Crocodylidae   \n",
       "213             214   American Crocodile     Crocodylus acutus  Crocodylidae   \n",
       "221             222   American Crocodile     Crocodylus acutus  Crocodylidae   \n",
       "224             225   American Crocodile     Crocodylus acutus  Crocodylidae   \n",
       "239             240  Morelet's Crocodile  Crocodylus moreletii  Crocodylidae   \n",
       "273             274  Morelet's Crocodile  Crocodylus moreletii  Crocodylidae   \n",
       "299             300  Morelet's Crocodile  Crocodylus moreletii  Crocodylidae   \n",
       "352             353  Morelet's Crocodile  Crocodylus moreletii  Crocodylidae   \n",
       "389             390  Morelet's Crocodile  Crocodylus moreletii  Crocodylidae   \n",
       "409             410  Morelet's Crocodile  Crocodylus moreletii  Crocodylidae   \n",
       "432             433  Morelet's Crocodile  Crocodylus moreletii  Crocodylidae   \n",
       "434             435   American Crocodile     Crocodylus acutus  Crocodylidae   \n",
       "479             480  Morelet's Crocodile  Crocodylus moreletii  Crocodylidae   \n",
       "574             575  Morelet's Crocodile  Crocodylus moreletii  Crocodylidae   \n",
       "596             597   American Crocodile     Crocodylus acutus  Crocodylidae   \n",
       "681             682  Morelet's Crocodile  Crocodylus moreletii  Crocodylidae   \n",
       "722             723   American Crocodile     Crocodylus acutus  Crocodylidae   \n",
       "737             738  Morelet's Crocodile  Crocodylus moreletii  Crocodylidae   \n",
       "739             740  Morelet's Crocodile  Crocodylus moreletii  Crocodylidae   \n",
       "751             752  Morelet's Crocodile  Crocodylus moreletii  Crocodylidae   \n",
       "812             813   American Crocodile     Crocodylus acutus  Crocodylidae   \n",
       "816             817  Morelet's Crocodile  Crocodylus moreletii  Crocodylidae   \n",
       "862             863   American Crocodile     Crocodylus acutus  Crocodylidae   \n",
       "916             917  Morelet's Crocodile  Crocodylus moreletii  Crocodylidae   \n",
       "975             976  Morelet's Crocodile  Crocodylus moreletii  Crocodylidae   \n",
       "\n",
       "          Genus  Observed Length (m)  Observed Weight (kg)  Age Class  \\\n",
       "3    Crocodylus                 2.42                  90.4      Adult   \n",
       "9    Crocodylus                 3.39                 197.2      Adult   \n",
       "13   Crocodylus                 3.65                 217.7      Adult   \n",
       "15   Crocodylus                 2.00                  67.9      Adult   \n",
       "16   Crocodylus                 1.98                  61.5   Juvenile   \n",
       "43   Crocodylus                 2.33                  74.0      Adult   \n",
       "92   Crocodylus                 3.88                 273.6      Adult   \n",
       "109  Crocodylus                 2.46                 100.2   Subadult   \n",
       "128  Crocodylus                 3.32                 213.1      Adult   \n",
       "146  Crocodylus                 2.42                  78.6      Adult   \n",
       "175  Crocodylus                 1.69                  90.7   Juvenile   \n",
       "213  Crocodylus                 2.44                 113.3   Juvenile   \n",
       "221  Crocodylus                 2.77                 130.0      Adult   \n",
       "224  Crocodylus                 1.92                 107.4   Juvenile   \n",
       "239  Crocodylus                 1.90                  55.3      Adult   \n",
       "273  Crocodylus                 2.67                 118.9      Adult   \n",
       "299  Crocodylus                 2.79                 101.5   Subadult   \n",
       "352  Crocodylus                 2.59                  87.1   Subadult   \n",
       "389  Crocodylus                 1.82                  59.0      Adult   \n",
       "409  Crocodylus                 1.88                  60.1   Juvenile   \n",
       "432  Crocodylus                 2.57                 101.4      Adult   \n",
       "434  Crocodylus                 3.36                 196.1      Adult   \n",
       "479  Crocodylus                 3.00                 129.6      Adult   \n",
       "574  Crocodylus                 0.32                  34.1  Hatchling   \n",
       "596  Crocodylus                 2.97                 168.8   Subadult   \n",
       "681  Crocodylus                 0.17                  26.0  Hatchling   \n",
       "722  Crocodylus                 2.76                 167.6   Subadult   \n",
       "737  Crocodylus                 0.65                  34.5   Juvenile   \n",
       "739  Crocodylus                 2.43                  95.5      Adult   \n",
       "751  Crocodylus                 2.66                 120.3   Subadult   \n",
       "812  Crocodylus                 4.18                 349.6      Adult   \n",
       "816  Crocodylus                 1.81                  61.7      Adult   \n",
       "862  Crocodylus                 2.80                 157.6      Adult   \n",
       "916  Crocodylus                 2.47                  86.4      Adult   \n",
       "975  Crocodylus                 2.10                  78.2   Subadult   \n",
       "\n",
       "         Sex Date of Observation Country/Region     Habitat Type  \\\n",
       "3       Male          01-11-2019         Mexico           Rivers   \n",
       "9       Male          21-05-2016         Mexico          Lagoons   \n",
       "13      Male          07-07-2006         Mexico        Mangroves   \n",
       "15   Unknown          18-03-2007         Mexico           Rivers   \n",
       "16   Unknown          14-03-2007         Mexico          Lagoons   \n",
       "43   Unknown          10-02-2021         Mexico           Swamps   \n",
       "92   Unknown          17-05-2018         Mexico  Coastal Lagoons   \n",
       "109     Male          03-06-2025         Mexico           Rivers   \n",
       "128  Unknown          04-12-2005         Mexico  Coastal Lagoons   \n",
       "146   Female          29-04-2009         Mexico           Rivers   \n",
       "175   Female          27-04-2007         Mexico  Coastal Lagoons   \n",
       "213     Male          21-09-2010         Mexico  Coastal Lagoons   \n",
       "221   Female          30-04-2008         Mexico        Estuaries   \n",
       "224   Female          17-02-2016         Mexico  Brackish Rivers   \n",
       "239  Unknown          10-10-2015         Mexico           Swamps   \n",
       "273  Unknown          16-11-2024         Mexico           Swamps   \n",
       "299     Male          19-12-2016         Mexico           Swamps   \n",
       "352  Unknown          07-09-2016         Mexico           Rivers   \n",
       "389  Unknown          24-09-2018         Mexico           Rivers   \n",
       "409   Female          17-10-2013         Mexico          Lagoons   \n",
       "432     Male          08-08-2020         Mexico           Rivers   \n",
       "434     Male          19-11-2014         Mexico  Brackish Rivers   \n",
       "479   Female          19-08-2012         Mexico           Swamps   \n",
       "574   Female          18-03-2005         Mexico          Lagoons   \n",
       "596   Female          30-07-2013         Mexico        Estuaries   \n",
       "681  Unknown          19-03-2012         Mexico           Rivers   \n",
       "722     Male          18-08-2023         Mexico  Coastal Lagoons   \n",
       "737     Male          07-10-2013         Mexico           Rivers   \n",
       "739     Male          06-08-2018         Mexico          Lagoons   \n",
       "751  Unknown          03-05-2015         Mexico           Swamps   \n",
       "812  Unknown          11-06-2021         Mexico  Coastal Lagoons   \n",
       "816     Male          28-09-2008         Mexico           Rivers   \n",
       "862     Male          10-09-2022         Mexico        Estuaries   \n",
       "916  Unknown          27-01-2020         Mexico           Rivers   \n",
       "975  Unknown          14-04-2005         Mexico           Rivers   \n",
       "\n",
       "    Conservation Status     Observer Name  \\\n",
       "3         Least Concern     Edward Fuller   \n",
       "9         Least Concern     Tamara George   \n",
       "13           Vulnerable    Timothy Duncan   \n",
       "15        Least Concern     Donald Wright   \n",
       "16        Least Concern      Sarah Martin   \n",
       "43        Least Concern  Peter Vaughn DDS   \n",
       "92           Vulnerable       Larry Mason   \n",
       "109       Least Concern        Jose Brady   \n",
       "128          Vulnerable   Denise Martinez   \n",
       "146       Least Concern   Jessica Simpson   \n",
       "175          Vulnerable         Tina Hall   \n",
       "213          Vulnerable    Eric Henry Jr.   \n",
       "221          Vulnerable    Jessica Valdez   \n",
       "224          Vulnerable   Angelica Cooper   \n",
       "239       Least Concern    Kristin Gaines   \n",
       "273       Least Concern      Katie Tucker   \n",
       "299       Least Concern   Theresa Wilkins   \n",
       "352       Least Concern      Andrew Duran   \n",
       "389       Least Concern     Donna Johnson   \n",
       "409       Least Concern   Christine Brown   \n",
       "432       Least Concern       Jaime Smith   \n",
       "434          Vulnerable      Terry Newman   \n",
       "479       Least Concern    Diane Mcdowell   \n",
       "574       Least Concern      Bradley Knox   \n",
       "596          Vulnerable        Lynn Lewis   \n",
       "681       Least Concern   Jennifer Flores   \n",
       "722          Vulnerable     William Smith   \n",
       "737       Least Concern    George Hubbard   \n",
       "739       Least Concern     Angela Arnold   \n",
       "751       Least Concern      Bonnie Smith   \n",
       "812          Vulnerable    Terri Gonzalez   \n",
       "816       Least Concern     Chris Collins   \n",
       "862          Vulnerable     Jessica Smith   \n",
       "916       Least Concern    Courtney Walsh   \n",
       "975       Least Concern        Tim Brewer   \n",
       "\n",
       "                                                 Notes  \n",
       "3          Officer relate animal direction eye bag do.  \n",
       "9    Affect upon these story film around there wate...  \n",
       "13    Drug list imagine behind probably great in tell.  \n",
       "15   Kitchen technology nearly anything yourself st...  \n",
       "16   Loss ten total clearly able hospital unit size...  \n",
       "43   Large admit family identify during professiona...  \n",
       "92                      Late specific study word base.  \n",
       "109    Well central parent sit alone attack sing hand.  \n",
       "128         Here woman stand west source fact explain.  \n",
       "146  Walk provide skill five indicate chance heavy ...  \n",
       "175  Picture control price how scene third last inv...  \n",
       "213  Own after long forward pass southern future co...  \n",
       "221  Threat church big day couple recent reveal rol...  \n",
       "224  Including series dinner article hit mission wh...  \n",
       "239   Pressure develop development the inside thought.  \n",
       "273          Together court message way cold what Mrs.  \n",
       "299  Keep cut prevent sound experience almost outsi...  \n",
       "352  Understand wear development provide dark daugh...  \n",
       "389  See risk nor article list college appear wrong...  \n",
       "409  Someone rate why listen computer prove amount ...  \n",
       "432  Increase new report sense carry control high n...  \n",
       "434                       Budget everyone yes at seat.  \n",
       "479  Stop unit might job close say man wear new typ...  \n",
       "574               Organization check risk either less.  \n",
       "596  Region heavy wonder four still decision run sp...  \n",
       "681  Join between song mean place six successful ph...  \n",
       "722  Perhaps customer attack check they mind easy b...  \n",
       "737                       Daughter stage form serious.  \n",
       "739                     Establish among along medical.  \n",
       "751  Beat economic myself front house past gun proc...  \n",
       "812  Sell candidate four whether wife finally she s...  \n",
       "816  Alone when instead clear radio strong let bar ...  \n",
       "862  Family perhaps hope across follow character ta...  \n",
       "916                            City social at Mr cold.  \n",
       "975  Send technology clearly amount media teacher p...  "
      ]
     },
     "execution_count": 83,
     "metadata": {},
     "output_type": "execute_result"
    }
   ],
   "source": [
    "df_mexico"
   ]
  },
  {
   "cell_type": "code",
   "execution_count": 85,
   "id": "2ba53435",
   "metadata": {},
   "outputs": [
    {
     "data": {
      "application/vnd.microsoft.datawrangler.viewer.v0+json": {
       "columns": [
        {
         "name": "Genus",
         "rawType": "object",
         "type": "string"
        },
        {
         "name": "count",
         "rawType": "int64",
         "type": "integer"
        }
       ],
       "ref": "c23be82e-c7c6-4924-9f19-49e9563ae0ca",
       "rows": [
        [
         "Crocodylus",
         "35"
        ]
       ],
       "shape": {
        "columns": 1,
        "rows": 1
       }
      },
      "text/plain": [
       "Genus\n",
       "Crocodylus    35\n",
       "Name: count, dtype: int64"
      ]
     },
     "execution_count": 85,
     "metadata": {},
     "output_type": "execute_result"
    }
   ],
   "source": [
    "df_mexico[\"Genus\"].value_counts()"
   ]
  },
  {
   "cell_type": "code",
   "execution_count": 86,
   "id": "3c43db16",
   "metadata": {},
   "outputs": [
    {
     "data": {
      "application/vnd.microsoft.datawrangler.viewer.v0+json": {
       "columns": [
        {
         "name": "Scientific Name",
         "rawType": "object",
         "type": "string"
        },
        {
         "name": "count",
         "rawType": "int64",
         "type": "integer"
        }
       ],
       "ref": "8834c3bc-31ea-4060-ad03-804859365468",
       "rows": [
        [
         "Crocodylus moreletii",
         "23"
        ],
        [
         "Crocodylus acutus",
         "12"
        ]
       ],
       "shape": {
        "columns": 1,
        "rows": 2
       }
      },
      "text/plain": [
       "Scientific Name\n",
       "Crocodylus moreletii    23\n",
       "Crocodylus acutus       12\n",
       "Name: count, dtype: int64"
      ]
     },
     "execution_count": 86,
     "metadata": {},
     "output_type": "execute_result"
    }
   ],
   "source": [
    "df_mexico[\"Scientific Name\"].value_counts()"
   ]
  },
  {
   "cell_type": "code",
   "execution_count": 87,
   "id": "bd15b2da",
   "metadata": {},
   "outputs": [
    {
     "data": {
      "text/plain": [
       "<Axes: >"
      ]
     },
     "execution_count": 87,
     "metadata": {},
     "output_type": "execute_result"
    },
    {
     "data": {
      "image/png": "[encoded data removed]",
      "text/plain": [
       "<Figure size 640x480 with 1 Axes>"
      ]
     },
     "metadata": {},
     "output_type": "display_data"
    }
   ],
   "source": [
    "df_mexico[\"Observed Weight (kg)\"].hist()"
   ]
  },
  {
   "cell_type": "code",
   "execution_count": 88,
   "id": "59b2792f",
   "metadata": {},
   "outputs": [
    {
     "data": {
      "application/vnd.microsoft.datawrangler.viewer.v0+json": {
       "columns": [
        {
         "name": "Habitat Type",
         "rawType": "object",
         "type": "string"
        },
        {
         "name": "count",
         "rawType": "int64",
         "type": "integer"
        }
       ],
       "ref": "75b45b62-568d-4b1a-b8e7-dc60d82ed70b",
       "rows": [
        [
         "Rivers",
         "12"
        ],
        [
         "Swamps",
         "6"
        ],
        [
         "Coastal Lagoons",
         "6"
        ],
        [
         "Lagoons",
         "5"
        ],
        [
         "Estuaries",
         "3"
        ],
        [
         "Brackish Rivers",
         "2"
        ],
        [
         "Mangroves",
         "1"
        ]
       ],
       "shape": {
        "columns": 1,
        "rows": 7
       }
      },
      "text/plain": [
       "Habitat Type\n",
       "Rivers             12\n",
       "Swamps              6\n",
       "Coastal Lagoons     6\n",
       "Lagoons             5\n",
       "Estuaries           3\n",
       "Brackish Rivers     2\n",
       "Mangroves           1\n",
       "Name: count, dtype: int64"
      ]
     },
     "execution_count": 88,
     "metadata": {},
     "output_type": "execute_result"
    }
   ],
   "source": [
    "df_mexico[\"Habitat Type\"].value_counts()"
   ]
  },
  {
   "cell_type": "markdown",
   "id": "a884d37d",
   "metadata": {},
   "source": [
    "# 4.- Conclusiones\n",
    "<Hr>"
   ]
  },
  {
   "cell_type": "code",
   "execution_count": null,
   "id": "9b8a8f6a",
   "metadata": {},
   "outputs": [],
   "source": [
    "# Habían 1000 cocodrilos\n",
    "# El más largo y pesado fue el porosus con 4.40 m y el más pequeño Osteolaemus tetraspis con 1.12 m\n",
    "# Viven en su mayoría en ríos y pantanos\n",
    "# El sexo está distribuido casi de manera equitativa\n",
    "# En papúa nueva guinea había más cocodrilos que en el resto de regiones\n",
    "# Hay más adultos (es decir, abarcan más del 50%) del total de los cocodrilos\n",
    "# En su mayoría los cocodrilos se encuentran en baja preocupación\n",
    "# El género más común es Crocodylus en México\n",
    "# En México los cocodrilos tienen un peso entre 30 y 350 kg, un tamaño promedio.\n",
    "# En México viven también en ríos y pantanos"
   ]
  }
 ],
 "metadata": {
  "kernelspec": {
   "display_name": "Python 3",
   "language": "python",
   "name": "python3"
  },
  "language_info": {
   "codemirror_mode": {
    "name": "ipython",
    "version": 3
   },
   "file_extension": ".py",
   "mimetype": "text/x-python",
   "name": "python",
   "nbconvert_exporter": "python",
   "pygments_lexer": "ipython3",
   "version": "3.11.0"
  }
 },
 "nbformat": 4,
 "nbformat_minor": 5
}

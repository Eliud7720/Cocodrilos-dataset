{
 "cells": [
  {
   "cell_type": "markdown",
   "id": "cb10661b",
   "metadata": {},
   "source": [
    "# Index\n",
    "<hr>"
   ]
  },
  {
   "cell_type": "markdown",
   "id": "f33c5797",
   "metadata": {},
   "source": []
  },
  {
   "cell_type": "markdown",
   "id": "2199ff36",
   "metadata": {},
   "source": [
    "# 1.- Load data\n",
    "<hr>"
   ]
  },
  {
   "cell_type": "markdown",
   "id": "83a9fba7",
   "metadata": {},
   "source": [
    "<div align=\"center\">\n",
    "  <img src=\"Cocodrilo.jpg\" alt=\"Barra\" width=\"600\" height=\"200\">\n",
    "</div>"
   ]
  },
  {
   "cell_type": "code",
   "execution_count": 1,
   "id": "031af63e",
   "metadata": {},
   "outputs": [],
   "source": [
    "import pandas as pd"
   ]
  },
  {
   "cell_type": "code",
   "execution_count": null,
   "id": "c53b4642",
   "metadata": {},
   "outputs": [],
   "source": []
  }
 ],
 "metadata": {
  "kernelspec": {
   "display_name": "Python 3",
   "language": "python",
   "name": "python3"
  },
  "language_info": {
   "codemirror_mode": {
    "name": "ipython",
    "version": 3
   },
   "file_extension": ".py",
   "mimetype": "text/x-python",
   "name": "python",
   "nbconvert_exporter": "python",
   "pygments_lexer": "ipython3",
   "version": "3.11.0"
  }
 },
 "nbformat": 4,
 "nbformat_minor": 5
}
